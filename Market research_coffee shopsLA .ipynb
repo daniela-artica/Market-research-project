{
 "cells": [
  {
   "cell_type": "markdown",
   "metadata": {},
   "source": [
    "# Estudio de mercado para una cafetería en Los Ángeles"
   ]
  },
  {
   "cell_type": "markdown",
   "metadata": {},
   "source": [
    "En el presente proyecto se realizará un análisis del mercado de restaurantes en Los Ángeles con la finalidad de determinar si la apertura de un café de robots es un negocio prometedor. Se investigarán las proporciones de los distintos tipos de establecimientos de comida que se ubican en Los Ángeles, tanto si pertenecen a una cadena o no, la capacidad promedio de los restaurantes y las calles más concurridas en la ciudad.Se entregará una presentación con los resultados clave de la investigación a los potenciales inversionistas.  "
   ]
  },
  {
   "cell_type": "markdown",
   "metadata": {},
   "source": [
    "## Importación de librerías y descarga de datos"
   ]
  },
  {
   "cell_type": "code",
   "execution_count": 25,
   "metadata": {},
   "outputs": [],
   "source": [
    "# importación de librerías a usar en el proyecto\n",
    "import pandas as pd\n",
    "import numpy as np\n",
    "import re\n",
    "import seaborn as sns\n",
    "import plotly.express as px\n",
    "import matplotlib.pyplot as plt\n",
    "from plotly import graph_objects as go"
   ]
  },
  {
   "cell_type": "code",
   "execution_count": 26,
   "metadata": {},
   "outputs": [
    {
     "data": {
      "text/html": [
       "<div>\n",
       "<style scoped>\n",
       "    .dataframe tbody tr th:only-of-type {\n",
       "        vertical-align: middle;\n",
       "    }\n",
       "\n",
       "    .dataframe tbody tr th {\n",
       "        vertical-align: top;\n",
       "    }\n",
       "\n",
       "    .dataframe thead th {\n",
       "        text-align: right;\n",
       "    }\n",
       "</style>\n",
       "<table border=\"1\" class=\"dataframe\">\n",
       "  <thead>\n",
       "    <tr style=\"text-align: right;\">\n",
       "      <th></th>\n",
       "      <th>id</th>\n",
       "      <th>object_name</th>\n",
       "      <th>address</th>\n",
       "      <th>chain</th>\n",
       "      <th>object_type</th>\n",
       "      <th>number</th>\n",
       "    </tr>\n",
       "  </thead>\n",
       "  <tbody>\n",
       "    <tr>\n",
       "      <th>0</th>\n",
       "      <td>11786</td>\n",
       "      <td>HABITAT COFFEE SHOP</td>\n",
       "      <td>3708 N EAGLE ROCK BLVD</td>\n",
       "      <td>False</td>\n",
       "      <td>Cafe</td>\n",
       "      <td>26</td>\n",
       "    </tr>\n",
       "    <tr>\n",
       "      <th>1</th>\n",
       "      <td>11787</td>\n",
       "      <td>REILLY'S</td>\n",
       "      <td>100 WORLD WAY 120</td>\n",
       "      <td>False</td>\n",
       "      <td>Restaurant</td>\n",
       "      <td>9</td>\n",
       "    </tr>\n",
       "    <tr>\n",
       "      <th>2</th>\n",
       "      <td>11788</td>\n",
       "      <td>STREET CHURROS</td>\n",
       "      <td>6801 HOLLYWOOD BLVD 253</td>\n",
       "      <td>False</td>\n",
       "      <td>Fast Food</td>\n",
       "      <td>20</td>\n",
       "    </tr>\n",
       "    <tr>\n",
       "      <th>3</th>\n",
       "      <td>11789</td>\n",
       "      <td>TRINITI ECHO PARK</td>\n",
       "      <td>1814 W SUNSET BLVD</td>\n",
       "      <td>False</td>\n",
       "      <td>Restaurant</td>\n",
       "      <td>22</td>\n",
       "    </tr>\n",
       "    <tr>\n",
       "      <th>4</th>\n",
       "      <td>11790</td>\n",
       "      <td>POLLEN</td>\n",
       "      <td>2100 ECHO PARK AVE</td>\n",
       "      <td>False</td>\n",
       "      <td>Restaurant</td>\n",
       "      <td>20</td>\n",
       "    </tr>\n",
       "    <tr>\n",
       "      <th>...</th>\n",
       "      <td>...</td>\n",
       "      <td>...</td>\n",
       "      <td>...</td>\n",
       "      <td>...</td>\n",
       "      <td>...</td>\n",
       "      <td>...</td>\n",
       "    </tr>\n",
       "    <tr>\n",
       "      <th>9646</th>\n",
       "      <td>21432</td>\n",
       "      <td>HALL OF JUSTICE</td>\n",
       "      <td>217 W TEMPLE AVE</td>\n",
       "      <td>False</td>\n",
       "      <td>Restaurant</td>\n",
       "      <td>122</td>\n",
       "    </tr>\n",
       "    <tr>\n",
       "      <th>9647</th>\n",
       "      <td>21433</td>\n",
       "      <td>FIN-MELROSE</td>\n",
       "      <td>5750 MELROSE AVE</td>\n",
       "      <td>False</td>\n",
       "      <td>Restaurant</td>\n",
       "      <td>93</td>\n",
       "    </tr>\n",
       "    <tr>\n",
       "      <th>9648</th>\n",
       "      <td>21434</td>\n",
       "      <td>JUICY WINGZ</td>\n",
       "      <td>6741 HOLLYWOOD BLVD</td>\n",
       "      <td>True</td>\n",
       "      <td>Fast Food</td>\n",
       "      <td>15</td>\n",
       "    </tr>\n",
       "    <tr>\n",
       "      <th>9649</th>\n",
       "      <td>21435</td>\n",
       "      <td>MEDIDATE COFFEE</td>\n",
       "      <td>548 S SPRING ST STE 100</td>\n",
       "      <td>False</td>\n",
       "      <td>Cafe</td>\n",
       "      <td>6</td>\n",
       "    </tr>\n",
       "    <tr>\n",
       "      <th>9650</th>\n",
       "      <td>21436</td>\n",
       "      <td>CAFE SPROUTS</td>\n",
       "      <td>1300 S SAN PEDRO ST STE 111</td>\n",
       "      <td>True</td>\n",
       "      <td>Restaurant</td>\n",
       "      <td>19</td>\n",
       "    </tr>\n",
       "  </tbody>\n",
       "</table>\n",
       "<p>9651 rows × 6 columns</p>\n",
       "</div>"
      ],
      "text/plain": [
       "         id          object_name                      address  chain  \\\n",
       "0     11786  HABITAT COFFEE SHOP       3708 N EAGLE ROCK BLVD  False   \n",
       "1     11787             REILLY'S            100 WORLD WAY 120  False   \n",
       "2     11788       STREET CHURROS      6801 HOLLYWOOD BLVD 253  False   \n",
       "3     11789    TRINITI ECHO PARK           1814 W SUNSET BLVD  False   \n",
       "4     11790               POLLEN           2100 ECHO PARK AVE  False   \n",
       "...     ...                  ...                          ...    ...   \n",
       "9646  21432      HALL OF JUSTICE             217 W TEMPLE AVE  False   \n",
       "9647  21433          FIN-MELROSE             5750 MELROSE AVE  False   \n",
       "9648  21434          JUICY WINGZ          6741 HOLLYWOOD BLVD   True   \n",
       "9649  21435      MEDIDATE COFFEE      548 S SPRING ST STE 100  False   \n",
       "9650  21436         CAFE SPROUTS  1300 S SAN PEDRO ST STE 111   True   \n",
       "\n",
       "     object_type  number  \n",
       "0           Cafe      26  \n",
       "1     Restaurant       9  \n",
       "2      Fast Food      20  \n",
       "3     Restaurant      22  \n",
       "4     Restaurant      20  \n",
       "...          ...     ...  \n",
       "9646  Restaurant     122  \n",
       "9647  Restaurant      93  \n",
       "9648   Fast Food      15  \n",
       "9649        Cafe       6  \n",
       "9650  Restaurant      19  \n",
       "\n",
       "[9651 rows x 6 columns]"
      ]
     },
     "execution_count": 26,
     "metadata": {},
     "output_type": "execute_result"
    }
   ],
   "source": [
    "# creación de dataframe\n",
    "rest_data = pd.read_csv('./rest_data_us_upd.csv')\n",
    "rest_data"
   ]
  },
  {
   "cell_type": "markdown",
   "metadata": {},
   "source": [
    "## Preparación de datos "
   ]
  },
  {
   "cell_type": "code",
   "execution_count": 27,
   "metadata": {},
   "outputs": [
    {
     "name": "stdout",
     "output_type": "stream",
     "text": [
      "<class 'pandas.core.frame.DataFrame'>\n",
      "RangeIndex: 9651 entries, 0 to 9650\n",
      "Data columns (total 6 columns):\n",
      " #   Column       Non-Null Count  Dtype \n",
      "---  ------       --------------  ----- \n",
      " 0   id           9651 non-null   int64 \n",
      " 1   object_name  9651 non-null   object\n",
      " 2   address      9651 non-null   object\n",
      " 3   chain        9648 non-null   object\n",
      " 4   object_type  9651 non-null   object\n",
      " 5   number       9651 non-null   int64 \n",
      "dtypes: int64(2), object(4)\n",
      "memory usage: 452.5+ KB\n"
     ]
    }
   ],
   "source": [
    "rest_data.info()"
   ]
  },
  {
   "cell_type": "code",
   "execution_count": 28,
   "metadata": {},
   "outputs": [],
   "source": [
    "# se convertirá la columna id al tipo de datos object\n",
    "rest_data = rest_data.copy()\n",
    "rest_data['id'] = rest_data['id'].astype('int').astype('object')\n",
    "rest_data['number'] = rest_data['number'].astype('int')"
   ]
  },
  {
   "cell_type": "code",
   "execution_count": 29,
   "metadata": {},
   "outputs": [
    {
     "name": "stdout",
     "output_type": "stream",
     "text": [
      "<class 'pandas.core.frame.DataFrame'>\n",
      "RangeIndex: 9651 entries, 0 to 9650\n",
      "Data columns (total 6 columns):\n",
      " #   Column       Non-Null Count  Dtype \n",
      "---  ------       --------------  ----- \n",
      " 0   id           9651 non-null   object\n",
      " 1   object_name  9651 non-null   object\n",
      " 2   address      9651 non-null   object\n",
      " 3   chain        9648 non-null   object\n",
      " 4   object_type  9651 non-null   object\n",
      " 5   number       9651 non-null   int32 \n",
      "dtypes: int32(1), object(5)\n",
      "memory usage: 414.8+ KB\n"
     ]
    }
   ],
   "source": [
    "rest_data.info()"
   ]
  },
  {
   "cell_type": "code",
   "execution_count": 30,
   "metadata": {},
   "outputs": [
    {
     "name": "stdout",
     "output_type": "stream",
     "text": [
      "         id              object_name               address chain object_type  \\\n",
      "7408  19194  TAQUERIA LOS 3 CARNALES  5000 E WHITTIER BLVD   NaN  Restaurant   \n",
      "7523  19309     JAMMIN JIMMY'S PIZZA   1641 FIRESTONE BLVD   NaN       Pizza   \n",
      "8648  20434    THE LEXINGTON THEATER          129 E 3RD ST   NaN  Restaurant   \n",
      "\n",
      "      number  \n",
      "7408      14  \n",
      "7523       1  \n",
      "8648      35  \n"
     ]
    }
   ],
   "source": [
    "#revisión de datos nulos en la columna chain\n",
    "print(rest_data[rest_data['chain'].isna()])"
   ]
  },
  {
   "cell_type": "code",
   "execution_count": 31,
   "metadata": {},
   "outputs": [
    {
     "name": "stdout",
     "output_type": "stream",
     "text": [
      "object_type\n",
      "Restaurant    7255\n",
      "Fast Food     1066\n",
      "Cafe           435\n",
      "Pizza          320\n",
      "Bar            292\n",
      "Bakery         283\n",
      "Name: count, dtype: int64\n"
     ]
    }
   ],
   "source": [
    "print(rest_data['object_type'].value_counts())"
   ]
  },
  {
   "cell_type": "code",
   "execution_count": 32,
   "metadata": {},
   "outputs": [
    {
     "name": "stdout",
     "output_type": "stream",
     "text": [
      "<class 'pandas.core.frame.DataFrame'>\n",
      "Index: 9648 entries, 0 to 9650\n",
      "Data columns (total 6 columns):\n",
      " #   Column       Non-Null Count  Dtype \n",
      "---  ------       --------------  ----- \n",
      " 0   id           9648 non-null   object\n",
      " 1   object_name  9648 non-null   object\n",
      " 2   address      9648 non-null   object\n",
      " 3   chain        9648 non-null   object\n",
      " 4   object_type  9648 non-null   object\n",
      " 5   number       9648 non-null   int32 \n",
      "dtypes: int32(1), object(5)\n",
      "memory usage: 489.9+ KB\n",
      "None\n"
     ]
    }
   ],
   "source": [
    "# se eliminan los valores ausentes en el dataframe, ya que al no conocerse si es que los locales pertenecen o no a una cadena pierden su valor para el análisis posterior\n",
    "rest_data = rest_data.dropna()\n",
    "print(rest_data.info())"
   ]
  },
  {
   "cell_type": "code",
   "execution_count": 33,
   "metadata": {},
   "outputs": [
    {
     "name": "stdout",
     "output_type": "stream",
     "text": [
      "0\n"
     ]
    }
   ],
   "source": [
    "# revisión de datos duplicados en el dataframe\n",
    "print(rest_data.duplicated().sum())"
   ]
  },
  {
   "cell_type": "markdown",
   "metadata": {},
   "source": [
    "No existen filas completamente duplicadas en el dataframe"
   ]
  },
  {
   "cell_type": "code",
   "execution_count": 34,
   "metadata": {},
   "outputs": [
    {
     "data": {
      "text/html": [
       "<div>\n",
       "<style scoped>\n",
       "    .dataframe tbody tr th:only-of-type {\n",
       "        vertical-align: middle;\n",
       "    }\n",
       "\n",
       "    .dataframe tbody tr th {\n",
       "        vertical-align: top;\n",
       "    }\n",
       "\n",
       "    .dataframe thead th {\n",
       "        text-align: right;\n",
       "    }\n",
       "</style>\n",
       "<table border=\"1\" class=\"dataframe\">\n",
       "  <thead>\n",
       "    <tr style=\"text-align: right;\">\n",
       "      <th></th>\n",
       "      <th>id</th>\n",
       "      <th>place_name</th>\n",
       "      <th>address</th>\n",
       "      <th>chain</th>\n",
       "      <th>place_type</th>\n",
       "      <th>number</th>\n",
       "    </tr>\n",
       "  </thead>\n",
       "  <tbody>\n",
       "    <tr>\n",
       "      <th>0</th>\n",
       "      <td>11786</td>\n",
       "      <td>HABITAT COFFEE SHOP</td>\n",
       "      <td>3708 N EAGLE ROCK BLVD</td>\n",
       "      <td>False</td>\n",
       "      <td>Cafe</td>\n",
       "      <td>26</td>\n",
       "    </tr>\n",
       "    <tr>\n",
       "      <th>1</th>\n",
       "      <td>11787</td>\n",
       "      <td>REILLY'S</td>\n",
       "      <td>100 WORLD WAY 120</td>\n",
       "      <td>False</td>\n",
       "      <td>Restaurant</td>\n",
       "      <td>9</td>\n",
       "    </tr>\n",
       "    <tr>\n",
       "      <th>2</th>\n",
       "      <td>11788</td>\n",
       "      <td>STREET CHURROS</td>\n",
       "      <td>6801 HOLLYWOOD BLVD 253</td>\n",
       "      <td>False</td>\n",
       "      <td>Fast Food</td>\n",
       "      <td>20</td>\n",
       "    </tr>\n",
       "    <tr>\n",
       "      <th>3</th>\n",
       "      <td>11789</td>\n",
       "      <td>TRINITI ECHO PARK</td>\n",
       "      <td>1814 W SUNSET BLVD</td>\n",
       "      <td>False</td>\n",
       "      <td>Restaurant</td>\n",
       "      <td>22</td>\n",
       "    </tr>\n",
       "    <tr>\n",
       "      <th>4</th>\n",
       "      <td>11790</td>\n",
       "      <td>POLLEN</td>\n",
       "      <td>2100 ECHO PARK AVE</td>\n",
       "      <td>False</td>\n",
       "      <td>Restaurant</td>\n",
       "      <td>20</td>\n",
       "    </tr>\n",
       "    <tr>\n",
       "      <th>...</th>\n",
       "      <td>...</td>\n",
       "      <td>...</td>\n",
       "      <td>...</td>\n",
       "      <td>...</td>\n",
       "      <td>...</td>\n",
       "      <td>...</td>\n",
       "    </tr>\n",
       "    <tr>\n",
       "      <th>9646</th>\n",
       "      <td>21432</td>\n",
       "      <td>HALL OF JUSTICE</td>\n",
       "      <td>217 W TEMPLE AVE</td>\n",
       "      <td>False</td>\n",
       "      <td>Restaurant</td>\n",
       "      <td>122</td>\n",
       "    </tr>\n",
       "    <tr>\n",
       "      <th>9647</th>\n",
       "      <td>21433</td>\n",
       "      <td>FIN-MELROSE</td>\n",
       "      <td>5750 MELROSE AVE</td>\n",
       "      <td>False</td>\n",
       "      <td>Restaurant</td>\n",
       "      <td>93</td>\n",
       "    </tr>\n",
       "    <tr>\n",
       "      <th>9648</th>\n",
       "      <td>21434</td>\n",
       "      <td>JUICY WINGZ</td>\n",
       "      <td>6741 HOLLYWOOD BLVD</td>\n",
       "      <td>True</td>\n",
       "      <td>Fast Food</td>\n",
       "      <td>15</td>\n",
       "    </tr>\n",
       "    <tr>\n",
       "      <th>9649</th>\n",
       "      <td>21435</td>\n",
       "      <td>MEDIDATE COFFEE</td>\n",
       "      <td>548 S SPRING ST STE 100</td>\n",
       "      <td>False</td>\n",
       "      <td>Cafe</td>\n",
       "      <td>6</td>\n",
       "    </tr>\n",
       "    <tr>\n",
       "      <th>9650</th>\n",
       "      <td>21436</td>\n",
       "      <td>CAFE SPROUTS</td>\n",
       "      <td>1300 S SAN PEDRO ST STE 111</td>\n",
       "      <td>True</td>\n",
       "      <td>Restaurant</td>\n",
       "      <td>19</td>\n",
       "    </tr>\n",
       "  </tbody>\n",
       "</table>\n",
       "<p>9648 rows × 6 columns</p>\n",
       "</div>"
      ],
      "text/plain": [
       "         id           place_name                      address  chain  \\\n",
       "0     11786  HABITAT COFFEE SHOP       3708 N EAGLE ROCK BLVD  False   \n",
       "1     11787             REILLY'S            100 WORLD WAY 120  False   \n",
       "2     11788       STREET CHURROS      6801 HOLLYWOOD BLVD 253  False   \n",
       "3     11789    TRINITI ECHO PARK           1814 W SUNSET BLVD  False   \n",
       "4     11790               POLLEN           2100 ECHO PARK AVE  False   \n",
       "...     ...                  ...                          ...    ...   \n",
       "9646  21432      HALL OF JUSTICE             217 W TEMPLE AVE  False   \n",
       "9647  21433          FIN-MELROSE             5750 MELROSE AVE  False   \n",
       "9648  21434          JUICY WINGZ          6741 HOLLYWOOD BLVD   True   \n",
       "9649  21435      MEDIDATE COFFEE      548 S SPRING ST STE 100  False   \n",
       "9650  21436         CAFE SPROUTS  1300 S SAN PEDRO ST STE 111   True   \n",
       "\n",
       "      place_type  number  \n",
       "0           Cafe      26  \n",
       "1     Restaurant       9  \n",
       "2      Fast Food      20  \n",
       "3     Restaurant      22  \n",
       "4     Restaurant      20  \n",
       "...          ...     ...  \n",
       "9646  Restaurant     122  \n",
       "9647  Restaurant      93  \n",
       "9648   Fast Food      15  \n",
       "9649        Cafe       6  \n",
       "9650  Restaurant      19  \n",
       "\n",
       "[9648 rows x 6 columns]"
      ]
     },
     "execution_count": 34,
     "metadata": {},
     "output_type": "execute_result"
    }
   ],
   "source": [
    "# se cambiarán los nombres de ciertas columnas para que reflejen mejor la información que contienen \n",
    "rest_data = rest_data.rename(columns={'object_name':'place_name','object_type':'place_type'})\n",
    "rest_data"
   ]
  },
  {
   "cell_type": "markdown",
   "metadata": {},
   "source": [
    "## Análisis de datos"
   ]
  },
  {
   "cell_type": "markdown",
   "metadata": {},
   "source": [
    "### Investiga las proporciones de los distintos tipos de establecimientos. Traza un gráfico."
   ]
  },
  {
   "cell_type": "code",
   "execution_count": 35,
   "metadata": {},
   "outputs": [
    {
     "data": {
      "text/html": [
       "<div>\n",
       "<style scoped>\n",
       "    .dataframe tbody tr th:only-of-type {\n",
       "        vertical-align: middle;\n",
       "    }\n",
       "\n",
       "    .dataframe tbody tr th {\n",
       "        vertical-align: top;\n",
       "    }\n",
       "\n",
       "    .dataframe thead th {\n",
       "        text-align: right;\n",
       "    }\n",
       "</style>\n",
       "<table border=\"1\" class=\"dataframe\">\n",
       "  <thead>\n",
       "    <tr style=\"text-align: right;\">\n",
       "      <th></th>\n",
       "      <th>id</th>\n",
       "      <th>place_name</th>\n",
       "      <th>address</th>\n",
       "      <th>chain</th>\n",
       "      <th>place_type</th>\n",
       "      <th>number</th>\n",
       "    </tr>\n",
       "  </thead>\n",
       "  <tbody>\n",
       "    <tr>\n",
       "      <th>0</th>\n",
       "      <td>11786</td>\n",
       "      <td>HABITAT COFFEE SHOP</td>\n",
       "      <td>3708 N EAGLE ROCK BLVD</td>\n",
       "      <td>False</td>\n",
       "      <td>Cafe</td>\n",
       "      <td>26</td>\n",
       "    </tr>\n",
       "    <tr>\n",
       "      <th>1</th>\n",
       "      <td>11787</td>\n",
       "      <td>REILLY'S</td>\n",
       "      <td>100 WORLD WAY 120</td>\n",
       "      <td>False</td>\n",
       "      <td>Restaurant</td>\n",
       "      <td>9</td>\n",
       "    </tr>\n",
       "    <tr>\n",
       "      <th>2</th>\n",
       "      <td>11788</td>\n",
       "      <td>STREET CHURROS</td>\n",
       "      <td>6801 HOLLYWOOD BLVD 253</td>\n",
       "      <td>False</td>\n",
       "      <td>Fast Food</td>\n",
       "      <td>20</td>\n",
       "    </tr>\n",
       "    <tr>\n",
       "      <th>3</th>\n",
       "      <td>11789</td>\n",
       "      <td>TRINITI ECHO PARK</td>\n",
       "      <td>1814 W SUNSET BLVD</td>\n",
       "      <td>False</td>\n",
       "      <td>Restaurant</td>\n",
       "      <td>22</td>\n",
       "    </tr>\n",
       "    <tr>\n",
       "      <th>4</th>\n",
       "      <td>11790</td>\n",
       "      <td>POLLEN</td>\n",
       "      <td>2100 ECHO PARK AVE</td>\n",
       "      <td>False</td>\n",
       "      <td>Restaurant</td>\n",
       "      <td>20</td>\n",
       "    </tr>\n",
       "  </tbody>\n",
       "</table>\n",
       "</div>"
      ],
      "text/plain": [
       "      id           place_name                  address  chain  place_type  \\\n",
       "0  11786  HABITAT COFFEE SHOP   3708 N EAGLE ROCK BLVD  False        Cafe   \n",
       "1  11787             REILLY'S        100 WORLD WAY 120  False  Restaurant   \n",
       "2  11788       STREET CHURROS  6801 HOLLYWOOD BLVD 253  False   Fast Food   \n",
       "3  11789    TRINITI ECHO PARK       1814 W SUNSET BLVD  False  Restaurant   \n",
       "4  11790               POLLEN       2100 ECHO PARK AVE  False  Restaurant   \n",
       "\n",
       "   number  \n",
       "0      26  \n",
       "1       9  \n",
       "2      20  \n",
       "3      22  \n",
       "4      20  "
      ]
     },
     "execution_count": 35,
     "metadata": {},
     "output_type": "execute_result"
    }
   ],
   "source": [
    "rest_data.head()"
   ]
  },
  {
   "cell_type": "code",
   "execution_count": 36,
   "metadata": {},
   "outputs": [
    {
     "data": {
      "text/html": [
       "<div>\n",
       "<style scoped>\n",
       "    .dataframe tbody tr th:only-of-type {\n",
       "        vertical-align: middle;\n",
       "    }\n",
       "\n",
       "    .dataframe tbody tr th {\n",
       "        vertical-align: top;\n",
       "    }\n",
       "\n",
       "    .dataframe thead th {\n",
       "        text-align: right;\n",
       "    }\n",
       "</style>\n",
       "<table border=\"1\" class=\"dataframe\">\n",
       "  <thead>\n",
       "    <tr style=\"text-align: right;\">\n",
       "      <th></th>\n",
       "      <th>place_type</th>\n",
       "      <th>number_places</th>\n",
       "    </tr>\n",
       "  </thead>\n",
       "  <tbody>\n",
       "    <tr>\n",
       "      <th>0</th>\n",
       "      <td>Bakery</td>\n",
       "      <td>255</td>\n",
       "    </tr>\n",
       "    <tr>\n",
       "      <th>1</th>\n",
       "      <td>Bar</td>\n",
       "      <td>275</td>\n",
       "    </tr>\n",
       "    <tr>\n",
       "      <th>2</th>\n",
       "      <td>Cafe</td>\n",
       "      <td>344</td>\n",
       "    </tr>\n",
       "    <tr>\n",
       "      <th>3</th>\n",
       "      <td>Fast Food</td>\n",
       "      <td>872</td>\n",
       "    </tr>\n",
       "    <tr>\n",
       "      <th>4</th>\n",
       "      <td>Pizza</td>\n",
       "      <td>262</td>\n",
       "    </tr>\n",
       "    <tr>\n",
       "      <th>5</th>\n",
       "      <td>Restaurant</td>\n",
       "      <td>6665</td>\n",
       "    </tr>\n",
       "  </tbody>\n",
       "</table>\n",
       "</div>"
      ],
      "text/plain": [
       "   place_type  number_places\n",
       "0      Bakery            255\n",
       "1         Bar            275\n",
       "2        Cafe            344\n",
       "3   Fast Food            872\n",
       "4       Pizza            262\n",
       "5  Restaurant           6665"
      ]
     },
     "execution_count": 36,
     "metadata": {},
     "output_type": "execute_result"
    }
   ],
   "source": [
    "rest_type = rest_data.groupby('place_type')['place_name'].nunique().reset_index()\n",
    "rest_type.columns = ['place_type','number_places']\n",
    "rest_type"
   ]
  },
  {
   "cell_type": "code",
   "execution_count": 37,
   "metadata": {},
   "outputs": [
    {
     "data": {
      "application/vnd.plotly.v1+json": {
       "config": {
        "plotlyServerURL": "https://plot.ly"
       },
       "data": [
        {
         "domain": {
          "x": [
           0,
           1
          ],
          "y": [
           0,
           1
          ]
         },
         "hovertemplate": "place_type=%{label}<br>number_places=%{value}<extra></extra>",
         "labels": [
          "Bakery",
          "Bar",
          "Cafe",
          "Fast Food",
          "Pizza",
          "Restaurant"
         ],
         "legendgroup": "",
         "name": "",
         "showlegend": true,
         "type": "pie",
         "values": [
          255,
          275,
          344,
          872,
          262,
          6665
         ]
        }
       ],
       "layout": {
        "legend": {
         "tracegroupgap": 0
        },
        "template": {
         "data": {
          "bar": [
           {
            "error_x": {
             "color": "#2a3f5f"
            },
            "error_y": {
             "color": "#2a3f5f"
            },
            "marker": {
             "line": {
              "color": "#E5ECF6",
              "width": 0.5
             },
             "pattern": {
              "fillmode": "overlay",
              "size": 10,
              "solidity": 0.2
             }
            },
            "type": "bar"
           }
          ],
          "barpolar": [
           {
            "marker": {
             "line": {
              "color": "#E5ECF6",
              "width": 0.5
             },
             "pattern": {
              "fillmode": "overlay",
              "size": 10,
              "solidity": 0.2
             }
            },
            "type": "barpolar"
           }
          ],
          "carpet": [
           {
            "aaxis": {
             "endlinecolor": "#2a3f5f",
             "gridcolor": "white",
             "linecolor": "white",
             "minorgridcolor": "white",
             "startlinecolor": "#2a3f5f"
            },
            "baxis": {
             "endlinecolor": "#2a3f5f",
             "gridcolor": "white",
             "linecolor": "white",
             "minorgridcolor": "white",
             "startlinecolor": "#2a3f5f"
            },
            "type": "carpet"
           }
          ],
          "choropleth": [
           {
            "colorbar": {
             "outlinewidth": 0,
             "ticks": ""
            },
            "type": "choropleth"
           }
          ],
          "contour": [
           {
            "colorbar": {
             "outlinewidth": 0,
             "ticks": ""
            },
            "colorscale": [
             [
              0,
              "#0d0887"
             ],
             [
              0.1111111111111111,
              "#46039f"
             ],
             [
              0.2222222222222222,
              "#7201a8"
             ],
             [
              0.3333333333333333,
              "#9c179e"
             ],
             [
              0.4444444444444444,
              "#bd3786"
             ],
             [
              0.5555555555555556,
              "#d8576b"
             ],
             [
              0.6666666666666666,
              "#ed7953"
             ],
             [
              0.7777777777777778,
              "#fb9f3a"
             ],
             [
              0.8888888888888888,
              "#fdca26"
             ],
             [
              1,
              "#f0f921"
             ]
            ],
            "type": "contour"
           }
          ],
          "contourcarpet": [
           {
            "colorbar": {
             "outlinewidth": 0,
             "ticks": ""
            },
            "type": "contourcarpet"
           }
          ],
          "heatmap": [
           {
            "colorbar": {
             "outlinewidth": 0,
             "ticks": ""
            },
            "colorscale": [
             [
              0,
              "#0d0887"
             ],
             [
              0.1111111111111111,
              "#46039f"
             ],
             [
              0.2222222222222222,
              "#7201a8"
             ],
             [
              0.3333333333333333,
              "#9c179e"
             ],
             [
              0.4444444444444444,
              "#bd3786"
             ],
             [
              0.5555555555555556,
              "#d8576b"
             ],
             [
              0.6666666666666666,
              "#ed7953"
             ],
             [
              0.7777777777777778,
              "#fb9f3a"
             ],
             [
              0.8888888888888888,
              "#fdca26"
             ],
             [
              1,
              "#f0f921"
             ]
            ],
            "type": "heatmap"
           }
          ],
          "heatmapgl": [
           {
            "colorbar": {
             "outlinewidth": 0,
             "ticks": ""
            },
            "colorscale": [
             [
              0,
              "#0d0887"
             ],
             [
              0.1111111111111111,
              "#46039f"
             ],
             [
              0.2222222222222222,
              "#7201a8"
             ],
             [
              0.3333333333333333,
              "#9c179e"
             ],
             [
              0.4444444444444444,
              "#bd3786"
             ],
             [
              0.5555555555555556,
              "#d8576b"
             ],
             [
              0.6666666666666666,
              "#ed7953"
             ],
             [
              0.7777777777777778,
              "#fb9f3a"
             ],
             [
              0.8888888888888888,
              "#fdca26"
             ],
             [
              1,
              "#f0f921"
             ]
            ],
            "type": "heatmapgl"
           }
          ],
          "histogram": [
           {
            "marker": {
             "pattern": {
              "fillmode": "overlay",
              "size": 10,
              "solidity": 0.2
             }
            },
            "type": "histogram"
           }
          ],
          "histogram2d": [
           {
            "colorbar": {
             "outlinewidth": 0,
             "ticks": ""
            },
            "colorscale": [
             [
              0,
              "#0d0887"
             ],
             [
              0.1111111111111111,
              "#46039f"
             ],
             [
              0.2222222222222222,
              "#7201a8"
             ],
             [
              0.3333333333333333,
              "#9c179e"
             ],
             [
              0.4444444444444444,
              "#bd3786"
             ],
             [
              0.5555555555555556,
              "#d8576b"
             ],
             [
              0.6666666666666666,
              "#ed7953"
             ],
             [
              0.7777777777777778,
              "#fb9f3a"
             ],
             [
              0.8888888888888888,
              "#fdca26"
             ],
             [
              1,
              "#f0f921"
             ]
            ],
            "type": "histogram2d"
           }
          ],
          "histogram2dcontour": [
           {
            "colorbar": {
             "outlinewidth": 0,
             "ticks": ""
            },
            "colorscale": [
             [
              0,
              "#0d0887"
             ],
             [
              0.1111111111111111,
              "#46039f"
             ],
             [
              0.2222222222222222,
              "#7201a8"
             ],
             [
              0.3333333333333333,
              "#9c179e"
             ],
             [
              0.4444444444444444,
              "#bd3786"
             ],
             [
              0.5555555555555556,
              "#d8576b"
             ],
             [
              0.6666666666666666,
              "#ed7953"
             ],
             [
              0.7777777777777778,
              "#fb9f3a"
             ],
             [
              0.8888888888888888,
              "#fdca26"
             ],
             [
              1,
              "#f0f921"
             ]
            ],
            "type": "histogram2dcontour"
           }
          ],
          "mesh3d": [
           {
            "colorbar": {
             "outlinewidth": 0,
             "ticks": ""
            },
            "type": "mesh3d"
           }
          ],
          "parcoords": [
           {
            "line": {
             "colorbar": {
              "outlinewidth": 0,
              "ticks": ""
             }
            },
            "type": "parcoords"
           }
          ],
          "pie": [
           {
            "automargin": true,
            "type": "pie"
           }
          ],
          "scatter": [
           {
            "fillpattern": {
             "fillmode": "overlay",
             "size": 10,
             "solidity": 0.2
            },
            "type": "scatter"
           }
          ],
          "scatter3d": [
           {
            "line": {
             "colorbar": {
              "outlinewidth": 0,
              "ticks": ""
             }
            },
            "marker": {
             "colorbar": {
              "outlinewidth": 0,
              "ticks": ""
             }
            },
            "type": "scatter3d"
           }
          ],
          "scattercarpet": [
           {
            "marker": {
             "colorbar": {
              "outlinewidth": 0,
              "ticks": ""
             }
            },
            "type": "scattercarpet"
           }
          ],
          "scattergeo": [
           {
            "marker": {
             "colorbar": {
              "outlinewidth": 0,
              "ticks": ""
             }
            },
            "type": "scattergeo"
           }
          ],
          "scattergl": [
           {
            "marker": {
             "colorbar": {
              "outlinewidth": 0,
              "ticks": ""
             }
            },
            "type": "scattergl"
           }
          ],
          "scattermapbox": [
           {
            "marker": {
             "colorbar": {
              "outlinewidth": 0,
              "ticks": ""
             }
            },
            "type": "scattermapbox"
           }
          ],
          "scatterpolar": [
           {
            "marker": {
             "colorbar": {
              "outlinewidth": 0,
              "ticks": ""
             }
            },
            "type": "scatterpolar"
           }
          ],
          "scatterpolargl": [
           {
            "marker": {
             "colorbar": {
              "outlinewidth": 0,
              "ticks": ""
             }
            },
            "type": "scatterpolargl"
           }
          ],
          "scatterternary": [
           {
            "marker": {
             "colorbar": {
              "outlinewidth": 0,
              "ticks": ""
             }
            },
            "type": "scatterternary"
           }
          ],
          "surface": [
           {
            "colorbar": {
             "outlinewidth": 0,
             "ticks": ""
            },
            "colorscale": [
             [
              0,
              "#0d0887"
             ],
             [
              0.1111111111111111,
              "#46039f"
             ],
             [
              0.2222222222222222,
              "#7201a8"
             ],
             [
              0.3333333333333333,
              "#9c179e"
             ],
             [
              0.4444444444444444,
              "#bd3786"
             ],
             [
              0.5555555555555556,
              "#d8576b"
             ],
             [
              0.6666666666666666,
              "#ed7953"
             ],
             [
              0.7777777777777778,
              "#fb9f3a"
             ],
             [
              0.8888888888888888,
              "#fdca26"
             ],
             [
              1,
              "#f0f921"
             ]
            ],
            "type": "surface"
           }
          ],
          "table": [
           {
            "cells": {
             "fill": {
              "color": "#EBF0F8"
             },
             "line": {
              "color": "white"
             }
            },
            "header": {
             "fill": {
              "color": "#C8D4E3"
             },
             "line": {
              "color": "white"
             }
            },
            "type": "table"
           }
          ]
         },
         "layout": {
          "annotationdefaults": {
           "arrowcolor": "#2a3f5f",
           "arrowhead": 0,
           "arrowwidth": 1
          },
          "autotypenumbers": "strict",
          "coloraxis": {
           "colorbar": {
            "outlinewidth": 0,
            "ticks": ""
           }
          },
          "colorscale": {
           "diverging": [
            [
             0,
             "#8e0152"
            ],
            [
             0.1,
             "#c51b7d"
            ],
            [
             0.2,
             "#de77ae"
            ],
            [
             0.3,
             "#f1b6da"
            ],
            [
             0.4,
             "#fde0ef"
            ],
            [
             0.5,
             "#f7f7f7"
            ],
            [
             0.6,
             "#e6f5d0"
            ],
            [
             0.7,
             "#b8e186"
            ],
            [
             0.8,
             "#7fbc41"
            ],
            [
             0.9,
             "#4d9221"
            ],
            [
             1,
             "#276419"
            ]
           ],
           "sequential": [
            [
             0,
             "#0d0887"
            ],
            [
             0.1111111111111111,
             "#46039f"
            ],
            [
             0.2222222222222222,
             "#7201a8"
            ],
            [
             0.3333333333333333,
             "#9c179e"
            ],
            [
             0.4444444444444444,
             "#bd3786"
            ],
            [
             0.5555555555555556,
             "#d8576b"
            ],
            [
             0.6666666666666666,
             "#ed7953"
            ],
            [
             0.7777777777777778,
             "#fb9f3a"
            ],
            [
             0.8888888888888888,
             "#fdca26"
            ],
            [
             1,
             "#f0f921"
            ]
           ],
           "sequentialminus": [
            [
             0,
             "#0d0887"
            ],
            [
             0.1111111111111111,
             "#46039f"
            ],
            [
             0.2222222222222222,
             "#7201a8"
            ],
            [
             0.3333333333333333,
             "#9c179e"
            ],
            [
             0.4444444444444444,
             "#bd3786"
            ],
            [
             0.5555555555555556,
             "#d8576b"
            ],
            [
             0.6666666666666666,
             "#ed7953"
            ],
            [
             0.7777777777777778,
             "#fb9f3a"
            ],
            [
             0.8888888888888888,
             "#fdca26"
            ],
            [
             1,
             "#f0f921"
            ]
           ]
          },
          "colorway": [
           "#636efa",
           "#EF553B",
           "#00cc96",
           "#ab63fa",
           "#FFA15A",
           "#19d3f3",
           "#FF6692",
           "#B6E880",
           "#FF97FF",
           "#FECB52"
          ],
          "font": {
           "color": "#2a3f5f"
          },
          "geo": {
           "bgcolor": "white",
           "lakecolor": "white",
           "landcolor": "#E5ECF6",
           "showlakes": true,
           "showland": true,
           "subunitcolor": "white"
          },
          "hoverlabel": {
           "align": "left"
          },
          "hovermode": "closest",
          "mapbox": {
           "style": "light"
          },
          "paper_bgcolor": "white",
          "plot_bgcolor": "#E5ECF6",
          "polar": {
           "angularaxis": {
            "gridcolor": "white",
            "linecolor": "white",
            "ticks": ""
           },
           "bgcolor": "#E5ECF6",
           "radialaxis": {
            "gridcolor": "white",
            "linecolor": "white",
            "ticks": ""
           }
          },
          "scene": {
           "xaxis": {
            "backgroundcolor": "#E5ECF6",
            "gridcolor": "white",
            "gridwidth": 2,
            "linecolor": "white",
            "showbackground": true,
            "ticks": "",
            "zerolinecolor": "white"
           },
           "yaxis": {
            "backgroundcolor": "#E5ECF6",
            "gridcolor": "white",
            "gridwidth": 2,
            "linecolor": "white",
            "showbackground": true,
            "ticks": "",
            "zerolinecolor": "white"
           },
           "zaxis": {
            "backgroundcolor": "#E5ECF6",
            "gridcolor": "white",
            "gridwidth": 2,
            "linecolor": "white",
            "showbackground": true,
            "ticks": "",
            "zerolinecolor": "white"
           }
          },
          "shapedefaults": {
           "line": {
            "color": "#2a3f5f"
           }
          },
          "ternary": {
           "aaxis": {
            "gridcolor": "white",
            "linecolor": "white",
            "ticks": ""
           },
           "baxis": {
            "gridcolor": "white",
            "linecolor": "white",
            "ticks": ""
           },
           "bgcolor": "#E5ECF6",
           "caxis": {
            "gridcolor": "white",
            "linecolor": "white",
            "ticks": ""
           }
          },
          "title": {
           "x": 0.05
          },
          "xaxis": {
           "automargin": true,
           "gridcolor": "white",
           "linecolor": "white",
           "ticks": "",
           "title": {
            "standoff": 15
           },
           "zerolinecolor": "white",
           "zerolinewidth": 2
          },
          "yaxis": {
           "automargin": true,
           "gridcolor": "white",
           "linecolor": "white",
           "ticks": "",
           "title": {
            "standoff": 15
           },
           "zerolinecolor": "white",
           "zerolinewidth": 2
          }
         }
        },
        "title": {
         "text": "Proporción de los tipos de establecimientos en Los Ángeles"
        }
       }
      }
     },
     "metadata": {},
     "output_type": "display_data"
    }
   ],
   "source": [
    "fig = px.pie(rest_type,names='place_type',values='number_places',title='Proporción de los tipos de establecimientos en Los Ángeles')\n",
    "fig.show()"
   ]
  },
  {
   "cell_type": "markdown",
   "metadata": {},
   "source": [
    "La mayor cantidad de establecimientos en Los Ángeles son los restaurantes, los cuales representan el 76,8% de todos los establecimientos del área. El segundo tipo de establecimiento más popular son los fast food que representan el 10,1% de todos los establecimientos. En el caso de las cafeterías estas representan solo el 3,97% de los establecimientos que existen en LA. "
   ]
  },
  {
   "cell_type": "markdown",
   "metadata": {},
   "source": [
    "### Investiga las proporciones de los establecimientos que pertenecen a una cadena y de los que no. Traza un gráfico"
   ]
  },
  {
   "cell_type": "code",
   "execution_count": 38,
   "metadata": {},
   "outputs": [
    {
     "data": {
      "text/html": [
       "<div>\n",
       "<style scoped>\n",
       "    .dataframe tbody tr th:only-of-type {\n",
       "        vertical-align: middle;\n",
       "    }\n",
       "\n",
       "    .dataframe tbody tr th {\n",
       "        vertical-align: top;\n",
       "    }\n",
       "\n",
       "    .dataframe thead th {\n",
       "        text-align: right;\n",
       "    }\n",
       "</style>\n",
       "<table border=\"1\" class=\"dataframe\">\n",
       "  <thead>\n",
       "    <tr style=\"text-align: right;\">\n",
       "      <th></th>\n",
       "      <th>chain</th>\n",
       "      <th>number_places</th>\n",
       "    </tr>\n",
       "  </thead>\n",
       "  <tbody>\n",
       "    <tr>\n",
       "      <th>0</th>\n",
       "      <td>No pertenece a una cadena</td>\n",
       "      <td>5943</td>\n",
       "    </tr>\n",
       "    <tr>\n",
       "      <th>1</th>\n",
       "      <td>Pertenece a una cadena</td>\n",
       "      <td>2733</td>\n",
       "    </tr>\n",
       "  </tbody>\n",
       "</table>\n",
       "</div>"
      ],
      "text/plain": [
       "                       chain  number_places\n",
       "0  No pertenece a una cadena           5943\n",
       "1     Pertenece a una cadena           2733"
      ]
     },
     "execution_count": 38,
     "metadata": {},
     "output_type": "execute_result"
    }
   ],
   "source": [
    "rest_by_chain = rest_data.groupby('chain')['place_name'].nunique().reset_index()\n",
    "rest_by_chain.columns = ['chain','number_places']\n",
    "rest_by_chain['chain'] = rest_by_chain['chain'].map({True: 'Pertenece a una cadena', False: 'No pertenece a una cadena'})\n",
    "rest_by_chain"
   ]
  },
  {
   "cell_type": "code",
   "execution_count": 39,
   "metadata": {},
   "outputs": [
    {
     "data": {
      "application/vnd.plotly.v1+json": {
       "config": {
        "plotlyServerURL": "https://plot.ly"
       },
       "data": [
        {
         "domain": {
          "x": [
           0,
           1
          ],
          "y": [
           0,
           1
          ]
         },
         "hovertemplate": "chain=%{label}<br>number_places=%{value}<extra></extra>",
         "labels": [
          "No pertenece a una cadena",
          "Pertenece a una cadena"
         ],
         "legendgroup": "",
         "name": "",
         "showlegend": true,
         "type": "pie",
         "values": [
          5943,
          2733
         ]
        }
       ],
       "layout": {
        "legend": {
         "tracegroupgap": 0
        },
        "template": {
         "data": {
          "bar": [
           {
            "error_x": {
             "color": "#2a3f5f"
            },
            "error_y": {
             "color": "#2a3f5f"
            },
            "marker": {
             "line": {
              "color": "#E5ECF6",
              "width": 0.5
             },
             "pattern": {
              "fillmode": "overlay",
              "size": 10,
              "solidity": 0.2
             }
            },
            "type": "bar"
           }
          ],
          "barpolar": [
           {
            "marker": {
             "line": {
              "color": "#E5ECF6",
              "width": 0.5
             },
             "pattern": {
              "fillmode": "overlay",
              "size": 10,
              "solidity": 0.2
             }
            },
            "type": "barpolar"
           }
          ],
          "carpet": [
           {
            "aaxis": {
             "endlinecolor": "#2a3f5f",
             "gridcolor": "white",
             "linecolor": "white",
             "minorgridcolor": "white",
             "startlinecolor": "#2a3f5f"
            },
            "baxis": {
             "endlinecolor": "#2a3f5f",
             "gridcolor": "white",
             "linecolor": "white",
             "minorgridcolor": "white",
             "startlinecolor": "#2a3f5f"
            },
            "type": "carpet"
           }
          ],
          "choropleth": [
           {
            "colorbar": {
             "outlinewidth": 0,
             "ticks": ""
            },
            "type": "choropleth"
           }
          ],
          "contour": [
           {
            "colorbar": {
             "outlinewidth": 0,
             "ticks": ""
            },
            "colorscale": [
             [
              0,
              "#0d0887"
             ],
             [
              0.1111111111111111,
              "#46039f"
             ],
             [
              0.2222222222222222,
              "#7201a8"
             ],
             [
              0.3333333333333333,
              "#9c179e"
             ],
             [
              0.4444444444444444,
              "#bd3786"
             ],
             [
              0.5555555555555556,
              "#d8576b"
             ],
             [
              0.6666666666666666,
              "#ed7953"
             ],
             [
              0.7777777777777778,
              "#fb9f3a"
             ],
             [
              0.8888888888888888,
              "#fdca26"
             ],
             [
              1,
              "#f0f921"
             ]
            ],
            "type": "contour"
           }
          ],
          "contourcarpet": [
           {
            "colorbar": {
             "outlinewidth": 0,
             "ticks": ""
            },
            "type": "contourcarpet"
           }
          ],
          "heatmap": [
           {
            "colorbar": {
             "outlinewidth": 0,
             "ticks": ""
            },
            "colorscale": [
             [
              0,
              "#0d0887"
             ],
             [
              0.1111111111111111,
              "#46039f"
             ],
             [
              0.2222222222222222,
              "#7201a8"
             ],
             [
              0.3333333333333333,
              "#9c179e"
             ],
             [
              0.4444444444444444,
              "#bd3786"
             ],
             [
              0.5555555555555556,
              "#d8576b"
             ],
             [
              0.6666666666666666,
              "#ed7953"
             ],
             [
              0.7777777777777778,
              "#fb9f3a"
             ],
             [
              0.8888888888888888,
              "#fdca26"
             ],
             [
              1,
              "#f0f921"
             ]
            ],
            "type": "heatmap"
           }
          ],
          "heatmapgl": [
           {
            "colorbar": {
             "outlinewidth": 0,
             "ticks": ""
            },
            "colorscale": [
             [
              0,
              "#0d0887"
             ],
             [
              0.1111111111111111,
              "#46039f"
             ],
             [
              0.2222222222222222,
              "#7201a8"
             ],
             [
              0.3333333333333333,
              "#9c179e"
             ],
             [
              0.4444444444444444,
              "#bd3786"
             ],
             [
              0.5555555555555556,
              "#d8576b"
             ],
             [
              0.6666666666666666,
              "#ed7953"
             ],
             [
              0.7777777777777778,
              "#fb9f3a"
             ],
             [
              0.8888888888888888,
              "#fdca26"
             ],
             [
              1,
              "#f0f921"
             ]
            ],
            "type": "heatmapgl"
           }
          ],
          "histogram": [
           {
            "marker": {
             "pattern": {
              "fillmode": "overlay",
              "size": 10,
              "solidity": 0.2
             }
            },
            "type": "histogram"
           }
          ],
          "histogram2d": [
           {
            "colorbar": {
             "outlinewidth": 0,
             "ticks": ""
            },
            "colorscale": [
             [
              0,
              "#0d0887"
             ],
             [
              0.1111111111111111,
              "#46039f"
             ],
             [
              0.2222222222222222,
              "#7201a8"
             ],
             [
              0.3333333333333333,
              "#9c179e"
             ],
             [
              0.4444444444444444,
              "#bd3786"
             ],
             [
              0.5555555555555556,
              "#d8576b"
             ],
             [
              0.6666666666666666,
              "#ed7953"
             ],
             [
              0.7777777777777778,
              "#fb9f3a"
             ],
             [
              0.8888888888888888,
              "#fdca26"
             ],
             [
              1,
              "#f0f921"
             ]
            ],
            "type": "histogram2d"
           }
          ],
          "histogram2dcontour": [
           {
            "colorbar": {
             "outlinewidth": 0,
             "ticks": ""
            },
            "colorscale": [
             [
              0,
              "#0d0887"
             ],
             [
              0.1111111111111111,
              "#46039f"
             ],
             [
              0.2222222222222222,
              "#7201a8"
             ],
             [
              0.3333333333333333,
              "#9c179e"
             ],
             [
              0.4444444444444444,
              "#bd3786"
             ],
             [
              0.5555555555555556,
              "#d8576b"
             ],
             [
              0.6666666666666666,
              "#ed7953"
             ],
             [
              0.7777777777777778,
              "#fb9f3a"
             ],
             [
              0.8888888888888888,
              "#fdca26"
             ],
             [
              1,
              "#f0f921"
             ]
            ],
            "type": "histogram2dcontour"
           }
          ],
          "mesh3d": [
           {
            "colorbar": {
             "outlinewidth": 0,
             "ticks": ""
            },
            "type": "mesh3d"
           }
          ],
          "parcoords": [
           {
            "line": {
             "colorbar": {
              "outlinewidth": 0,
              "ticks": ""
             }
            },
            "type": "parcoords"
           }
          ],
          "pie": [
           {
            "automargin": true,
            "type": "pie"
           }
          ],
          "scatter": [
           {
            "fillpattern": {
             "fillmode": "overlay",
             "size": 10,
             "solidity": 0.2
            },
            "type": "scatter"
           }
          ],
          "scatter3d": [
           {
            "line": {
             "colorbar": {
              "outlinewidth": 0,
              "ticks": ""
             }
            },
            "marker": {
             "colorbar": {
              "outlinewidth": 0,
              "ticks": ""
             }
            },
            "type": "scatter3d"
           }
          ],
          "scattercarpet": [
           {
            "marker": {
             "colorbar": {
              "outlinewidth": 0,
              "ticks": ""
             }
            },
            "type": "scattercarpet"
           }
          ],
          "scattergeo": [
           {
            "marker": {
             "colorbar": {
              "outlinewidth": 0,
              "ticks": ""
             }
            },
            "type": "scattergeo"
           }
          ],
          "scattergl": [
           {
            "marker": {
             "colorbar": {
              "outlinewidth": 0,
              "ticks": ""
             }
            },
            "type": "scattergl"
           }
          ],
          "scattermapbox": [
           {
            "marker": {
             "colorbar": {
              "outlinewidth": 0,
              "ticks": ""
             }
            },
            "type": "scattermapbox"
           }
          ],
          "scatterpolar": [
           {
            "marker": {
             "colorbar": {
              "outlinewidth": 0,
              "ticks": ""
             }
            },
            "type": "scatterpolar"
           }
          ],
          "scatterpolargl": [
           {
            "marker": {
             "colorbar": {
              "outlinewidth": 0,
              "ticks": ""
             }
            },
            "type": "scatterpolargl"
           }
          ],
          "scatterternary": [
           {
            "marker": {
             "colorbar": {
              "outlinewidth": 0,
              "ticks": ""
             }
            },
            "type": "scatterternary"
           }
          ],
          "surface": [
           {
            "colorbar": {
             "outlinewidth": 0,
             "ticks": ""
            },
            "colorscale": [
             [
              0,
              "#0d0887"
             ],
             [
              0.1111111111111111,
              "#46039f"
             ],
             [
              0.2222222222222222,
              "#7201a8"
             ],
             [
              0.3333333333333333,
              "#9c179e"
             ],
             [
              0.4444444444444444,
              "#bd3786"
             ],
             [
              0.5555555555555556,
              "#d8576b"
             ],
             [
              0.6666666666666666,
              "#ed7953"
             ],
             [
              0.7777777777777778,
              "#fb9f3a"
             ],
             [
              0.8888888888888888,
              "#fdca26"
             ],
             [
              1,
              "#f0f921"
             ]
            ],
            "type": "surface"
           }
          ],
          "table": [
           {
            "cells": {
             "fill": {
              "color": "#EBF0F8"
             },
             "line": {
              "color": "white"
             }
            },
            "header": {
             "fill": {
              "color": "#C8D4E3"
             },
             "line": {
              "color": "white"
             }
            },
            "type": "table"
           }
          ]
         },
         "layout": {
          "annotationdefaults": {
           "arrowcolor": "#2a3f5f",
           "arrowhead": 0,
           "arrowwidth": 1
          },
          "autotypenumbers": "strict",
          "coloraxis": {
           "colorbar": {
            "outlinewidth": 0,
            "ticks": ""
           }
          },
          "colorscale": {
           "diverging": [
            [
             0,
             "#8e0152"
            ],
            [
             0.1,
             "#c51b7d"
            ],
            [
             0.2,
             "#de77ae"
            ],
            [
             0.3,
             "#f1b6da"
            ],
            [
             0.4,
             "#fde0ef"
            ],
            [
             0.5,
             "#f7f7f7"
            ],
            [
             0.6,
             "#e6f5d0"
            ],
            [
             0.7,
             "#b8e186"
            ],
            [
             0.8,
             "#7fbc41"
            ],
            [
             0.9,
             "#4d9221"
            ],
            [
             1,
             "#276419"
            ]
           ],
           "sequential": [
            [
             0,
             "#0d0887"
            ],
            [
             0.1111111111111111,
             "#46039f"
            ],
            [
             0.2222222222222222,
             "#7201a8"
            ],
            [
             0.3333333333333333,
             "#9c179e"
            ],
            [
             0.4444444444444444,
             "#bd3786"
            ],
            [
             0.5555555555555556,
             "#d8576b"
            ],
            [
             0.6666666666666666,
             "#ed7953"
            ],
            [
             0.7777777777777778,
             "#fb9f3a"
            ],
            [
             0.8888888888888888,
             "#fdca26"
            ],
            [
             1,
             "#f0f921"
            ]
           ],
           "sequentialminus": [
            [
             0,
             "#0d0887"
            ],
            [
             0.1111111111111111,
             "#46039f"
            ],
            [
             0.2222222222222222,
             "#7201a8"
            ],
            [
             0.3333333333333333,
             "#9c179e"
            ],
            [
             0.4444444444444444,
             "#bd3786"
            ],
            [
             0.5555555555555556,
             "#d8576b"
            ],
            [
             0.6666666666666666,
             "#ed7953"
            ],
            [
             0.7777777777777778,
             "#fb9f3a"
            ],
            [
             0.8888888888888888,
             "#fdca26"
            ],
            [
             1,
             "#f0f921"
            ]
           ]
          },
          "colorway": [
           "#636efa",
           "#EF553B",
           "#00cc96",
           "#ab63fa",
           "#FFA15A",
           "#19d3f3",
           "#FF6692",
           "#B6E880",
           "#FF97FF",
           "#FECB52"
          ],
          "font": {
           "color": "#2a3f5f"
          },
          "geo": {
           "bgcolor": "white",
           "lakecolor": "white",
           "landcolor": "#E5ECF6",
           "showlakes": true,
           "showland": true,
           "subunitcolor": "white"
          },
          "hoverlabel": {
           "align": "left"
          },
          "hovermode": "closest",
          "mapbox": {
           "style": "light"
          },
          "paper_bgcolor": "white",
          "plot_bgcolor": "#E5ECF6",
          "polar": {
           "angularaxis": {
            "gridcolor": "white",
            "linecolor": "white",
            "ticks": ""
           },
           "bgcolor": "#E5ECF6",
           "radialaxis": {
            "gridcolor": "white",
            "linecolor": "white",
            "ticks": ""
           }
          },
          "scene": {
           "xaxis": {
            "backgroundcolor": "#E5ECF6",
            "gridcolor": "white",
            "gridwidth": 2,
            "linecolor": "white",
            "showbackground": true,
            "ticks": "",
            "zerolinecolor": "white"
           },
           "yaxis": {
            "backgroundcolor": "#E5ECF6",
            "gridcolor": "white",
            "gridwidth": 2,
            "linecolor": "white",
            "showbackground": true,
            "ticks": "",
            "zerolinecolor": "white"
           },
           "zaxis": {
            "backgroundcolor": "#E5ECF6",
            "gridcolor": "white",
            "gridwidth": 2,
            "linecolor": "white",
            "showbackground": true,
            "ticks": "",
            "zerolinecolor": "white"
           }
          },
          "shapedefaults": {
           "line": {
            "color": "#2a3f5f"
           }
          },
          "ternary": {
           "aaxis": {
            "gridcolor": "white",
            "linecolor": "white",
            "ticks": ""
           },
           "baxis": {
            "gridcolor": "white",
            "linecolor": "white",
            "ticks": ""
           },
           "bgcolor": "#E5ECF6",
           "caxis": {
            "gridcolor": "white",
            "linecolor": "white",
            "ticks": ""
           }
          },
          "title": {
           "x": 0.05
          },
          "xaxis": {
           "automargin": true,
           "gridcolor": "white",
           "linecolor": "white",
           "ticks": "",
           "title": {
            "standoff": 15
           },
           "zerolinecolor": "white",
           "zerolinewidth": 2
          },
          "yaxis": {
           "automargin": true,
           "gridcolor": "white",
           "linecolor": "white",
           "ticks": "",
           "title": {
            "standoff": 15
           },
           "zerolinecolor": "white",
           "zerolinewidth": 2
          }
         }
        },
        "title": {
         "text": "Proporción de establecimientos según su pertenencia a una cadena"
        }
       }
      }
     },
     "metadata": {},
     "output_type": "display_data"
    }
   ],
   "source": [
    "fig = px.pie(rest_by_chain,names='chain',values='number_places',title='Proporción de establecimientos según su pertenencia a una cadena')\n",
    "fig.show()"
   ]
  },
  {
   "cell_type": "markdown",
   "metadata": {},
   "source": [
    "Se puede ver que el 68,5% de los establecimientos del área no pertenecen a una cadena. Solo el 31,5% pertenece a una cadena."
   ]
  },
  {
   "cell_type": "markdown",
   "metadata": {},
   "source": [
    "### ¿Qué tipo de establecimiento es habitualmente una cadena?"
   ]
  },
  {
   "cell_type": "code",
   "execution_count": 40,
   "metadata": {},
   "outputs": [
    {
     "data": {
      "text/html": [
       "<div>\n",
       "<style scoped>\n",
       "    .dataframe tbody tr th:only-of-type {\n",
       "        vertical-align: middle;\n",
       "    }\n",
       "\n",
       "    .dataframe tbody tr th {\n",
       "        vertical-align: top;\n",
       "    }\n",
       "\n",
       "    .dataframe thead th {\n",
       "        text-align: right;\n",
       "    }\n",
       "</style>\n",
       "<table border=\"1\" class=\"dataframe\">\n",
       "  <thead>\n",
       "    <tr style=\"text-align: right;\">\n",
       "      <th></th>\n",
       "      <th>id</th>\n",
       "      <th>place_name</th>\n",
       "      <th>address</th>\n",
       "      <th>chain</th>\n",
       "      <th>place_type</th>\n",
       "      <th>number</th>\n",
       "    </tr>\n",
       "  </thead>\n",
       "  <tbody>\n",
       "    <tr>\n",
       "      <th>8</th>\n",
       "      <td>11794</td>\n",
       "      <td>ABC DONUTS</td>\n",
       "      <td>3027 N SAN FERNANDO RD UNIT 103</td>\n",
       "      <td>True</td>\n",
       "      <td>Fast Food</td>\n",
       "      <td>1</td>\n",
       "    </tr>\n",
       "    <tr>\n",
       "      <th>10</th>\n",
       "      <td>11796</td>\n",
       "      <td>EL POLLO LOCO</td>\n",
       "      <td>5319 W SUNSET BLVD</td>\n",
       "      <td>True</td>\n",
       "      <td>Restaurant</td>\n",
       "      <td>38</td>\n",
       "    </tr>\n",
       "    <tr>\n",
       "      <th>11</th>\n",
       "      <td>11797</td>\n",
       "      <td>POONG NYUN BAKERY</td>\n",
       "      <td>928 S WESTERN AVE STE 109</td>\n",
       "      <td>True</td>\n",
       "      <td>Bakery</td>\n",
       "      <td>17</td>\n",
       "    </tr>\n",
       "    <tr>\n",
       "      <th>12</th>\n",
       "      <td>11798</td>\n",
       "      <td>EMC RESTAURANT GROUP LLC</td>\n",
       "      <td>3500 W 6TH ST STE 101</td>\n",
       "      <td>True</td>\n",
       "      <td>Restaurant</td>\n",
       "      <td>133</td>\n",
       "    </tr>\n",
       "    <tr>\n",
       "      <th>14</th>\n",
       "      <td>11800</td>\n",
       "      <td>CUSCATLECA BAKERY</td>\n",
       "      <td>2501 W SUNSET BLVD #A</td>\n",
       "      <td>True</td>\n",
       "      <td>Bakery</td>\n",
       "      <td>26</td>\n",
       "    </tr>\n",
       "    <tr>\n",
       "      <th>...</th>\n",
       "      <td>...</td>\n",
       "      <td>...</td>\n",
       "      <td>...</td>\n",
       "      <td>...</td>\n",
       "      <td>...</td>\n",
       "      <td>...</td>\n",
       "    </tr>\n",
       "    <tr>\n",
       "      <th>9629</th>\n",
       "      <td>21415</td>\n",
       "      <td>JUCUAPA BAKERY</td>\n",
       "      <td>2810 JAMES WOOD BLVD</td>\n",
       "      <td>True</td>\n",
       "      <td>Bakery</td>\n",
       "      <td>10</td>\n",
       "    </tr>\n",
       "    <tr>\n",
       "      <th>9636</th>\n",
       "      <td>21422</td>\n",
       "      <td>CHIPOTLE #3094</td>\n",
       "      <td>6719 LA TIJERA BLVD A-B</td>\n",
       "      <td>True</td>\n",
       "      <td>Restaurant</td>\n",
       "      <td>47</td>\n",
       "    </tr>\n",
       "    <tr>\n",
       "      <th>9639</th>\n",
       "      <td>21425</td>\n",
       "      <td>MCDONALD'S</td>\n",
       "      <td>1800 S WESTERN AVE</td>\n",
       "      <td>True</td>\n",
       "      <td>Fast Food</td>\n",
       "      <td>135</td>\n",
       "    </tr>\n",
       "    <tr>\n",
       "      <th>9648</th>\n",
       "      <td>21434</td>\n",
       "      <td>JUICY WINGZ</td>\n",
       "      <td>6741 HOLLYWOOD BLVD</td>\n",
       "      <td>True</td>\n",
       "      <td>Fast Food</td>\n",
       "      <td>15</td>\n",
       "    </tr>\n",
       "    <tr>\n",
       "      <th>9650</th>\n",
       "      <td>21436</td>\n",
       "      <td>CAFE SPROUTS</td>\n",
       "      <td>1300 S SAN PEDRO ST STE 111</td>\n",
       "      <td>True</td>\n",
       "      <td>Restaurant</td>\n",
       "      <td>19</td>\n",
       "    </tr>\n",
       "  </tbody>\n",
       "</table>\n",
       "<p>3676 rows × 6 columns</p>\n",
       "</div>"
      ],
      "text/plain": [
       "         id                place_name                          address chain  \\\n",
       "8     11794                ABC DONUTS  3027 N SAN FERNANDO RD UNIT 103  True   \n",
       "10    11796             EL POLLO LOCO               5319 W SUNSET BLVD  True   \n",
       "11    11797         POONG NYUN BAKERY        928 S WESTERN AVE STE 109  True   \n",
       "12    11798  EMC RESTAURANT GROUP LLC            3500 W 6TH ST STE 101  True   \n",
       "14    11800         CUSCATLECA BAKERY            2501 W SUNSET BLVD #A  True   \n",
       "...     ...                       ...                              ...   ...   \n",
       "9629  21415            JUCUAPA BAKERY             2810 JAMES WOOD BLVD  True   \n",
       "9636  21422            CHIPOTLE #3094          6719 LA TIJERA BLVD A-B  True   \n",
       "9639  21425                MCDONALD'S               1800 S WESTERN AVE  True   \n",
       "9648  21434               JUICY WINGZ              6741 HOLLYWOOD BLVD  True   \n",
       "9650  21436              CAFE SPROUTS      1300 S SAN PEDRO ST STE 111  True   \n",
       "\n",
       "      place_type  number  \n",
       "8      Fast Food       1  \n",
       "10    Restaurant      38  \n",
       "11        Bakery      17  \n",
       "12    Restaurant     133  \n",
       "14        Bakery      26  \n",
       "...          ...     ...  \n",
       "9629      Bakery      10  \n",
       "9636  Restaurant      47  \n",
       "9639   Fast Food     135  \n",
       "9648   Fast Food      15  \n",
       "9650  Restaurant      19  \n",
       "\n",
       "[3676 rows x 6 columns]"
      ]
     },
     "execution_count": 40,
     "metadata": {},
     "output_type": "execute_result"
    }
   ],
   "source": [
    "rest_data_chain = rest_data[rest_data['chain']==True]\n",
    "rest_data_chain"
   ]
  },
  {
   "cell_type": "code",
   "execution_count": 41,
   "metadata": {},
   "outputs": [
    {
     "data": {
      "text/html": [
       "<div>\n",
       "<style scoped>\n",
       "    .dataframe tbody tr th:only-of-type {\n",
       "        vertical-align: middle;\n",
       "    }\n",
       "\n",
       "    .dataframe tbody tr th {\n",
       "        vertical-align: top;\n",
       "    }\n",
       "\n",
       "    .dataframe thead th {\n",
       "        text-align: right;\n",
       "    }\n",
       "</style>\n",
       "<table border=\"1\" class=\"dataframe\">\n",
       "  <thead>\n",
       "    <tr style=\"text-align: right;\">\n",
       "      <th></th>\n",
       "      <th>place_type</th>\n",
       "      <th>number_places</th>\n",
       "    </tr>\n",
       "  </thead>\n",
       "  <tbody>\n",
       "    <tr>\n",
       "      <th>0</th>\n",
       "      <td>Bakery</td>\n",
       "      <td>255</td>\n",
       "    </tr>\n",
       "    <tr>\n",
       "      <th>1</th>\n",
       "      <td>Bar</td>\n",
       "      <td>61</td>\n",
       "    </tr>\n",
       "    <tr>\n",
       "      <th>2</th>\n",
       "      <td>Cafe</td>\n",
       "      <td>175</td>\n",
       "    </tr>\n",
       "    <tr>\n",
       "      <th>3</th>\n",
       "      <td>Fast Food</td>\n",
       "      <td>415</td>\n",
       "    </tr>\n",
       "    <tr>\n",
       "      <th>4</th>\n",
       "      <td>Pizza</td>\n",
       "      <td>99</td>\n",
       "    </tr>\n",
       "    <tr>\n",
       "      <th>5</th>\n",
       "      <td>Restaurant</td>\n",
       "      <td>1730</td>\n",
       "    </tr>\n",
       "  </tbody>\n",
       "</table>\n",
       "</div>"
      ],
      "text/plain": [
       "   place_type  number_places\n",
       "0      Bakery            255\n",
       "1         Bar             61\n",
       "2        Cafe            175\n",
       "3   Fast Food            415\n",
       "4       Pizza             99\n",
       "5  Restaurant           1730"
      ]
     },
     "execution_count": 41,
     "metadata": {},
     "output_type": "execute_result"
    }
   ],
   "source": [
    "rest_chain_by_type = rest_data_chain.groupby('place_type')['place_name'].nunique().reset_index()\n",
    "rest_chain_by_type.columns = ['place_type','number_places']\n",
    "rest_chain_by_type"
   ]
  },
  {
   "cell_type": "code",
   "execution_count": 42,
   "metadata": {},
   "outputs": [
    {
     "data": {
      "text/plain": [
       "<Figure size 1000x600 with 0 Axes>"
      ]
     },
     "execution_count": 42,
     "metadata": {},
     "output_type": "execute_result"
    },
    {
     "data": {
      "image/png": "[encoded data removed]",
      "text/plain": [
       "<Figure size 640x480 with 1 Axes>"
      ]
     },
     "metadata": {},
     "output_type": "display_data"
    },
    {
     "data": {
      "text/plain": [
       "<Figure size 1000x600 with 0 Axes>"
      ]
     },
     "metadata": {},
     "output_type": "display_data"
    }
   ],
   "source": [
    "plt.style.use('ggplot')\n",
    "sns.barplot(data=rest_chain_by_type.sort_values('number_places'),x='place_type',y='number_places',color='#615EFC')\n",
    "plt.title('Tipos de establecimientos que son cadenas')\n",
    "plt.figure(figsize=(10, 6))"
   ]
  },
  {
   "cell_type": "code",
   "execution_count": 43,
   "metadata": {
    "scrolled": true
   },
   "outputs": [
    {
     "data": {
      "application/vnd.plotly.v1+json": {
       "config": {
        "plotlyServerURL": "https://plot.ly"
       },
       "data": [
        {
         "domain": {
          "x": [
           0,
           1
          ],
          "y": [
           0,
           1
          ]
         },
         "hovertemplate": "place_type=%{label}<br>number_places=%{value}<extra></extra>",
         "labels": [
          "Bakery",
          "Bar",
          "Cafe",
          "Fast Food",
          "Pizza",
          "Restaurant"
         ],
         "legendgroup": "",
         "name": "",
         "showlegend": true,
         "type": "pie",
         "values": [
          255,
          61,
          175,
          415,
          99,
          1730
         ]
        }
       ],
       "layout": {
        "legend": {
         "tracegroupgap": 0
        },
        "template": {
         "data": {
          "bar": [
           {
            "error_x": {
             "color": "#2a3f5f"
            },
            "error_y": {
             "color": "#2a3f5f"
            },
            "marker": {
             "line": {
              "color": "#E5ECF6",
              "width": 0.5
             },
             "pattern": {
              "fillmode": "overlay",
              "size": 10,
              "solidity": 0.2
             }
            },
            "type": "bar"
           }
          ],
          "barpolar": [
           {
            "marker": {
             "line": {
              "color": "#E5ECF6",
              "width": 0.5
             },
             "pattern": {
              "fillmode": "overlay",
              "size": 10,
              "solidity": 0.2
             }
            },
            "type": "barpolar"
           }
          ],
          "carpet": [
           {
            "aaxis": {
             "endlinecolor": "#2a3f5f",
             "gridcolor": "white",
             "linecolor": "white",
             "minorgridcolor": "white",
             "startlinecolor": "#2a3f5f"
            },
            "baxis": {
             "endlinecolor": "#2a3f5f",
             "gridcolor": "white",
             "linecolor": "white",
             "minorgridcolor": "white",
             "startlinecolor": "#2a3f5f"
            },
            "type": "carpet"
           }
          ],
          "choropleth": [
           {
            "colorbar": {
             "outlinewidth": 0,
             "ticks": ""
            },
            "type": "choropleth"
           }
          ],
          "contour": [
           {
            "colorbar": {
             "outlinewidth": 0,
             "ticks": ""
            },
            "colorscale": [
             [
              0,
              "#0d0887"
             ],
             [
              0.1111111111111111,
              "#46039f"
             ],
             [
              0.2222222222222222,
              "#7201a8"
             ],
             [
              0.3333333333333333,
              "#9c179e"
             ],
             [
              0.4444444444444444,
              "#bd3786"
             ],
             [
              0.5555555555555556,
              "#d8576b"
             ],
             [
              0.6666666666666666,
              "#ed7953"
             ],
             [
              0.7777777777777778,
              "#fb9f3a"
             ],
             [
              0.8888888888888888,
              "#fdca26"
             ],
             [
              1,
              "#f0f921"
             ]
            ],
            "type": "contour"
           }
          ],
          "contourcarpet": [
           {
            "colorbar": {
             "outlinewidth": 0,
             "ticks": ""
            },
            "type": "contourcarpet"
           }
          ],
          "heatmap": [
           {
            "colorbar": {
             "outlinewidth": 0,
             "ticks": ""
            },
            "colorscale": [
             [
              0,
              "#0d0887"
             ],
             [
              0.1111111111111111,
              "#46039f"
             ],
             [
              0.2222222222222222,
              "#7201a8"
             ],
             [
              0.3333333333333333,
              "#9c179e"
             ],
             [
              0.4444444444444444,
              "#bd3786"
             ],
             [
              0.5555555555555556,
              "#d8576b"
             ],
             [
              0.6666666666666666,
              "#ed7953"
             ],
             [
              0.7777777777777778,
              "#fb9f3a"
             ],
             [
              0.8888888888888888,
              "#fdca26"
             ],
             [
              1,
              "#f0f921"
             ]
            ],
            "type": "heatmap"
           }
          ],
          "heatmapgl": [
           {
            "colorbar": {
             "outlinewidth": 0,
             "ticks": ""
            },
            "colorscale": [
             [
              0,
              "#0d0887"
             ],
             [
              0.1111111111111111,
              "#46039f"
             ],
             [
              0.2222222222222222,
              "#7201a8"
             ],
             [
              0.3333333333333333,
              "#9c179e"
             ],
             [
              0.4444444444444444,
              "#bd3786"
             ],
             [
              0.5555555555555556,
              "#d8576b"
             ],
             [
              0.6666666666666666,
              "#ed7953"
             ],
             [
              0.7777777777777778,
              "#fb9f3a"
             ],
             [
              0.8888888888888888,
              "#fdca26"
             ],
             [
              1,
              "#f0f921"
             ]
            ],
            "type": "heatmapgl"
           }
          ],
          "histogram": [
           {
            "marker": {
             "pattern": {
              "fillmode": "overlay",
              "size": 10,
              "solidity": 0.2
             }
            },
            "type": "histogram"
           }
          ],
          "histogram2d": [
           {
            "colorbar": {
             "outlinewidth": 0,
             "ticks": ""
            },
            "colorscale": [
             [
              0,
              "#0d0887"
             ],
             [
              0.1111111111111111,
              "#46039f"
             ],
             [
              0.2222222222222222,
              "#7201a8"
             ],
             [
              0.3333333333333333,
              "#9c179e"
             ],
             [
              0.4444444444444444,
              "#bd3786"
             ],
             [
              0.5555555555555556,
              "#d8576b"
             ],
             [
              0.6666666666666666,
              "#ed7953"
             ],
             [
              0.7777777777777778,
              "#fb9f3a"
             ],
             [
              0.8888888888888888,
              "#fdca26"
             ],
             [
              1,
              "#f0f921"
             ]
            ],
            "type": "histogram2d"
           }
          ],
          "histogram2dcontour": [
           {
            "colorbar": {
             "outlinewidth": 0,
             "ticks": ""
            },
            "colorscale": [
             [
              0,
              "#0d0887"
             ],
             [
              0.1111111111111111,
              "#46039f"
             ],
             [
              0.2222222222222222,
              "#7201a8"
             ],
             [
              0.3333333333333333,
              "#9c179e"
             ],
             [
              0.4444444444444444,
              "#bd3786"
             ],
             [
              0.5555555555555556,
              "#d8576b"
             ],
             [
              0.6666666666666666,
              "#ed7953"
             ],
             [
              0.7777777777777778,
              "#fb9f3a"
             ],
             [
              0.8888888888888888,
              "#fdca26"
             ],
             [
              1,
              "#f0f921"
             ]
            ],
            "type": "histogram2dcontour"
           }
          ],
          "mesh3d": [
           {
            "colorbar": {
             "outlinewidth": 0,
             "ticks": ""
            },
            "type": "mesh3d"
           }
          ],
          "parcoords": [
           {
            "line": {
             "colorbar": {
              "outlinewidth": 0,
              "ticks": ""
             }
            },
            "type": "parcoords"
           }
          ],
          "pie": [
           {
            "automargin": true,
            "type": "pie"
           }
          ],
          "scatter": [
           {
            "fillpattern": {
             "fillmode": "overlay",
             "size": 10,
             "solidity": 0.2
            },
            "type": "scatter"
           }
          ],
          "scatter3d": [
           {
            "line": {
             "colorbar": {
              "outlinewidth": 0,
              "ticks": ""
             }
            },
            "marker": {
             "colorbar": {
              "outlinewidth": 0,
              "ticks": ""
             }
            },
            "type": "scatter3d"
           }
          ],
          "scattercarpet": [
           {
            "marker": {
             "colorbar": {
              "outlinewidth": 0,
              "ticks": ""
             }
            },
            "type": "scattercarpet"
           }
          ],
          "scattergeo": [
           {
            "marker": {
             "colorbar": {
              "outlinewidth": 0,
              "ticks": ""
             }
            },
            "type": "scattergeo"
           }
          ],
          "scattergl": [
           {
            "marker": {
             "colorbar": {
              "outlinewidth": 0,
              "ticks": ""
             }
            },
            "type": "scattergl"
           }
          ],
          "scattermapbox": [
           {
            "marker": {
             "colorbar": {
              "outlinewidth": 0,
              "ticks": ""
             }
            },
            "type": "scattermapbox"
           }
          ],
          "scatterpolar": [
           {
            "marker": {
             "colorbar": {
              "outlinewidth": 0,
              "ticks": ""
             }
            },
            "type": "scatterpolar"
           }
          ],
          "scatterpolargl": [
           {
            "marker": {
             "colorbar": {
              "outlinewidth": 0,
              "ticks": ""
             }
            },
            "type": "scatterpolargl"
           }
          ],
          "scatterternary": [
           {
            "marker": {
             "colorbar": {
              "outlinewidth": 0,
              "ticks": ""
             }
            },
            "type": "scatterternary"
           }
          ],
          "surface": [
           {
            "colorbar": {
             "outlinewidth": 0,
             "ticks": ""
            },
            "colorscale": [
             [
              0,
              "#0d0887"
             ],
             [
              0.1111111111111111,
              "#46039f"
             ],
             [
              0.2222222222222222,
              "#7201a8"
             ],
             [
              0.3333333333333333,
              "#9c179e"
             ],
             [
              0.4444444444444444,
              "#bd3786"
             ],
             [
              0.5555555555555556,
              "#d8576b"
             ],
             [
              0.6666666666666666,
              "#ed7953"
             ],
             [
              0.7777777777777778,
              "#fb9f3a"
             ],
             [
              0.8888888888888888,
              "#fdca26"
             ],
             [
              1,
              "#f0f921"
             ]
            ],
            "type": "surface"
           }
          ],
          "table": [
           {
            "cells": {
             "fill": {
              "color": "#EBF0F8"
             },
             "line": {
              "color": "white"
             }
            },
            "header": {
             "fill": {
              "color": "#C8D4E3"
             },
             "line": {
              "color": "white"
             }
            },
            "type": "table"
           }
          ]
         },
         "layout": {
          "annotationdefaults": {
           "arrowcolor": "#2a3f5f",
           "arrowhead": 0,
           "arrowwidth": 1
          },
          "autotypenumbers": "strict",
          "coloraxis": {
           "colorbar": {
            "outlinewidth": 0,
            "ticks": ""
           }
          },
          "colorscale": {
           "diverging": [
            [
             0,
             "#8e0152"
            ],
            [
             0.1,
             "#c51b7d"
            ],
            [
             0.2,
             "#de77ae"
            ],
            [
             0.3,
             "#f1b6da"
            ],
            [
             0.4,
             "#fde0ef"
            ],
            [
             0.5,
             "#f7f7f7"
            ],
            [
             0.6,
             "#e6f5d0"
            ],
            [
             0.7,
             "#b8e186"
            ],
            [
             0.8,
             "#7fbc41"
            ],
            [
             0.9,
             "#4d9221"
            ],
            [
             1,
             "#276419"
            ]
           ],
           "sequential": [
            [
             0,
             "#0d0887"
            ],
            [
             0.1111111111111111,
             "#46039f"
            ],
            [
             0.2222222222222222,
             "#7201a8"
            ],
            [
             0.3333333333333333,
             "#9c179e"
            ],
            [
             0.4444444444444444,
             "#bd3786"
            ],
            [
             0.5555555555555556,
             "#d8576b"
            ],
            [
             0.6666666666666666,
             "#ed7953"
            ],
            [
             0.7777777777777778,
             "#fb9f3a"
            ],
            [
             0.8888888888888888,
             "#fdca26"
            ],
            [
             1,
             "#f0f921"
            ]
           ],
           "sequentialminus": [
            [
             0,
             "#0d0887"
            ],
            [
             0.1111111111111111,
             "#46039f"
            ],
            [
             0.2222222222222222,
             "#7201a8"
            ],
            [
             0.3333333333333333,
             "#9c179e"
            ],
            [
             0.4444444444444444,
             "#bd3786"
            ],
            [
             0.5555555555555556,
             "#d8576b"
            ],
            [
             0.6666666666666666,
             "#ed7953"
            ],
            [
             0.7777777777777778,
             "#fb9f3a"
            ],
            [
             0.8888888888888888,
             "#fdca26"
            ],
            [
             1,
             "#f0f921"
            ]
           ]
          },
          "colorway": [
           "#636efa",
           "#EF553B",
           "#00cc96",
           "#ab63fa",
           "#FFA15A",
           "#19d3f3",
           "#FF6692",
           "#B6E880",
           "#FF97FF",
           "#FECB52"
          ],
          "font": {
           "color": "#2a3f5f"
          },
          "geo": {
           "bgcolor": "white",
           "lakecolor": "white",
           "landcolor": "#E5ECF6",
           "showlakes": true,
           "showland": true,
           "subunitcolor": "white"
          },
          "hoverlabel": {
           "align": "left"
          },
          "hovermode": "closest",
          "mapbox": {
           "style": "light"
          },
          "paper_bgcolor": "white",
          "plot_bgcolor": "#E5ECF6",
          "polar": {
           "angularaxis": {
            "gridcolor": "white",
            "linecolor": "white",
            "ticks": ""
           },
           "bgcolor": "#E5ECF6",
           "radialaxis": {
            "gridcolor": "white",
            "linecolor": "white",
            "ticks": ""
           }
          },
          "scene": {
           "xaxis": {
            "backgroundcolor": "#E5ECF6",
            "gridcolor": "white",
            "gridwidth": 2,
            "linecolor": "white",
            "showbackground": true,
            "ticks": "",
            "zerolinecolor": "white"
           },
           "yaxis": {
            "backgroundcolor": "#E5ECF6",
            "gridcolor": "white",
            "gridwidth": 2,
            "linecolor": "white",
            "showbackground": true,
            "ticks": "",
            "zerolinecolor": "white"
           },
           "zaxis": {
            "backgroundcolor": "#E5ECF6",
            "gridcolor": "white",
            "gridwidth": 2,
            "linecolor": "white",
            "showbackground": true,
            "ticks": "",
            "zerolinecolor": "white"
           }
          },
          "shapedefaults": {
           "line": {
            "color": "#2a3f5f"
           }
          },
          "ternary": {
           "aaxis": {
            "gridcolor": "white",
            "linecolor": "white",
            "ticks": ""
           },
           "baxis": {
            "gridcolor": "white",
            "linecolor": "white",
            "ticks": ""
           },
           "bgcolor": "#E5ECF6",
           "caxis": {
            "gridcolor": "white",
            "linecolor": "white",
            "ticks": ""
           }
          },
          "title": {
           "x": 0.05
          },
          "xaxis": {
           "automargin": true,
           "gridcolor": "white",
           "linecolor": "white",
           "ticks": "",
           "title": {
            "standoff": 15
           },
           "zerolinecolor": "white",
           "zerolinewidth": 2
          },
          "yaxis": {
           "automargin": true,
           "gridcolor": "white",
           "linecolor": "white",
           "ticks": "",
           "title": {
            "standoff": 15
           },
           "zerolinecolor": "white",
           "zerolinewidth": 2
          }
         }
        },
        "title": {
         "text": "Tipos de establecimientos que son parte de una cadena"
        }
       }
      }
     },
     "metadata": {},
     "output_type": "display_data"
    }
   ],
   "source": [
    "fig = px.pie(rest_chain_by_type,names='place_type',values='number_places',title='Tipos de establecimientos que son parte de una cadena')\n",
    "fig.show()"
   ]
  },
  {
   "cell_type": "markdown",
   "metadata": {},
   "source": [
    "Por lo general, la gran mayoría de establecimientos que son parte de una cadena son restaurantes, en comparación a otros tipos de establecimientos. "
   ]
  },
  {
   "cell_type": "markdown",
   "metadata": {},
   "source": [
    "### ¿Qué caracteriza a las cadenas: muchos establecimientos con un pequeño número de asientos o unos pocos establecimientos con un montón de asientos?"
   ]
  },
  {
   "cell_type": "code",
   "execution_count": 44,
   "metadata": {},
   "outputs": [
    {
     "name": "stderr",
     "output_type": "stream",
     "text": [
      "C:\\Users\\steph\\AppData\\Local\\Temp\\ipykernel_16816\\2916850932.py:4: UserWarning:\n",
      "\n",
      "\n",
      "\n",
      "`distplot` is a deprecated function and will be removed in seaborn v0.14.0.\n",
      "\n",
      "Please adapt your code to use either `displot` (a figure-level function with\n",
      "similar flexibility) or `histplot` (an axes-level function for histograms).\n",
      "\n",
      "For a guide to updating your code to use the new functions, please see\n",
      "https://gist.github.com/mwaskom/de44147ed2974457ad6372750bbe5751\n",
      "\n",
      "\n",
      "c:\\Users\\steph\\anaconda3\\Lib\\site-packages\\seaborn\\_oldcore.py:1119: FutureWarning:\n",
      "\n",
      "use_inf_as_na option is deprecated and will be removed in a future version. Convert inf values to NaN before operating instead.\n",
      "\n"
     ]
    },
    {
     "data": {
      "text/plain": [
       "Text(0.5, 1.0, 'Distribución del número de asientos en los locales que son parte de una cadena')"
      ]
     },
     "execution_count": 44,
     "metadata": {},
     "output_type": "execute_result"
    },
    {
     "data": {
      "image/png": "[encoded data removed]",
      "text/plain": [
       "<Figure size 800x500 with 2 Axes>"
      ]
     },
     "metadata": {},
     "output_type": "display_data"
    }
   ],
   "source": [
    "fig, ax = plt.subplots(1,2,figsize=(8, 5))\n",
    "\n",
    "plt.style.use('ggplot')\n",
    "sns.distplot(rest_data_chain['number'],ax=ax[0])\n",
    "sns.boxplot(data=rest_data_chain, x='number',ax=ax[1])\n",
    "ax[0].set_xlabel('')\n",
    "plt.tight_layout()\n",
    "plt.title('Distribución del número de asientos en los locales que son parte de una cadena')"
   ]
  },
  {
   "cell_type": "code",
   "execution_count": 45,
   "metadata": {},
   "outputs": [
    {
     "data": {
      "text/plain": [
       "count    3676.000000\n",
       "mean       39.694233\n",
       "std        43.437212\n",
       "min         1.000000\n",
       "25%        13.000000\n",
       "50%        25.000000\n",
       "75%        44.000000\n",
       "max       229.000000\n",
       "Name: number, dtype: float64"
      ]
     },
     "execution_count": 45,
     "metadata": {},
     "output_type": "execute_result"
    }
   ],
   "source": [
    "rest_data_chain['number'].describe()"
   ]
  },
  {
   "cell_type": "markdown",
   "metadata": {},
   "source": [
    "El histograma permite ver que la gran mayoría de los establecimientos tiene entre 1 a 50 asientos. Asimismo, a partir del gráfico de caja se puede ver que el 75% de los establecimientos tiene menos de 50 asientos y, en comparación, son pocos los locales que tienen más de 100 asientos. Por ello, se puede decir que en el caso de las cadenas existen una gran cantidad de establecimientos con un pequeño número de asientos. "
   ]
  },
  {
   "cell_type": "markdown",
   "metadata": {},
   "source": [
    "### Determina el promedio de número de asientos para cada tipo de restaurante. De promedio, ¿qué tipo de restaurante tiene el mayor número de asientos? Traza gráficos."
   ]
  },
  {
   "cell_type": "code",
   "execution_count": 46,
   "metadata": {},
   "outputs": [],
   "source": [
    "seats_prom_local_type = rest_data.groupby('place_type')['number'].mean().sort_values(ascending=False).reset_index()\n",
    "seats_prom_local_type.columns = ['Tipo de establecimiento','Número de asientos']"
   ]
  },
  {
   "cell_type": "code",
   "execution_count": 47,
   "metadata": {},
   "outputs": [
    {
     "data": {
      "image/png": "[encoded data removed]",
      "text/plain": [
       "<Figure size 640x480 with 1 Axes>"
      ]
     },
     "metadata": {},
     "output_type": "display_data"
    }
   ],
   "source": [
    "\n",
    "bar= sns.barplot(data=seats_prom_local_type,x='Tipo de establecimiento',y='Número de asientos',color='#615EFC')\n",
    "plt.title('Número de asientos en promedio por tipo de restaurante')\n",
    "plt.show()"
   ]
  },
  {
   "cell_type": "markdown",
   "metadata": {},
   "source": [
    "En promedio los restaurantes tienen el mayor número de asientos, con casi 50 asientos en promedio en cada uno. En segundo lugar se encuentran los bares con alrededor de 45 asientos por local en promedio. Los cafés, por su parte, tienen 25 asientos en promedio."
   ]
  },
  {
   "cell_type": "markdown",
   "metadata": {},
   "source": [
    "### Coloca los datos de los nombres de las calles de la columna address en una columna separada."
   ]
  },
  {
   "cell_type": "code",
   "execution_count": 48,
   "metadata": {},
   "outputs": [],
   "source": [
    "# función que recorre el dataframe y usa sub para extraer y reemplazar los números de las dirección con espacios en blanco\n",
    "def extract_letters(address):\n",
    "    return re.sub(r'^\\d+\\s+|\\s+\\d+$','',address)\n"
   ]
  },
  {
   "cell_type": "code",
   "execution_count": 49,
   "metadata": {},
   "outputs": [
    {
     "data": {
      "text/html": [
       "<div>\n",
       "<style scoped>\n",
       "    .dataframe tbody tr th:only-of-type {\n",
       "        vertical-align: middle;\n",
       "    }\n",
       "\n",
       "    .dataframe tbody tr th {\n",
       "        vertical-align: top;\n",
       "    }\n",
       "\n",
       "    .dataframe thead th {\n",
       "        text-align: right;\n",
       "    }\n",
       "</style>\n",
       "<table border=\"1\" class=\"dataframe\">\n",
       "  <thead>\n",
       "    <tr style=\"text-align: right;\">\n",
       "      <th></th>\n",
       "      <th>id</th>\n",
       "      <th>place_name</th>\n",
       "      <th>address</th>\n",
       "      <th>chain</th>\n",
       "      <th>place_type</th>\n",
       "      <th>number</th>\n",
       "      <th>street_name</th>\n",
       "    </tr>\n",
       "  </thead>\n",
       "  <tbody>\n",
       "    <tr>\n",
       "      <th>0</th>\n",
       "      <td>11786</td>\n",
       "      <td>HABITAT COFFEE SHOP</td>\n",
       "      <td>3708 N EAGLE ROCK BLVD</td>\n",
       "      <td>False</td>\n",
       "      <td>Cafe</td>\n",
       "      <td>26</td>\n",
       "      <td>N EAGLE ROCK BLVD</td>\n",
       "    </tr>\n",
       "    <tr>\n",
       "      <th>1</th>\n",
       "      <td>11787</td>\n",
       "      <td>REILLY'S</td>\n",
       "      <td>100 WORLD WAY 120</td>\n",
       "      <td>False</td>\n",
       "      <td>Restaurant</td>\n",
       "      <td>9</td>\n",
       "      <td>WORLD WAY</td>\n",
       "    </tr>\n",
       "    <tr>\n",
       "      <th>2</th>\n",
       "      <td>11788</td>\n",
       "      <td>STREET CHURROS</td>\n",
       "      <td>6801 HOLLYWOOD BLVD 253</td>\n",
       "      <td>False</td>\n",
       "      <td>Fast Food</td>\n",
       "      <td>20</td>\n",
       "      <td>HOLLYWOOD BLVD</td>\n",
       "    </tr>\n",
       "    <tr>\n",
       "      <th>3</th>\n",
       "      <td>11789</td>\n",
       "      <td>TRINITI ECHO PARK</td>\n",
       "      <td>1814 W SUNSET BLVD</td>\n",
       "      <td>False</td>\n",
       "      <td>Restaurant</td>\n",
       "      <td>22</td>\n",
       "      <td>W SUNSET BLVD</td>\n",
       "    </tr>\n",
       "    <tr>\n",
       "      <th>4</th>\n",
       "      <td>11790</td>\n",
       "      <td>POLLEN</td>\n",
       "      <td>2100 ECHO PARK AVE</td>\n",
       "      <td>False</td>\n",
       "      <td>Restaurant</td>\n",
       "      <td>20</td>\n",
       "      <td>ECHO PARK AVE</td>\n",
       "    </tr>\n",
       "    <tr>\n",
       "      <th>...</th>\n",
       "      <td>...</td>\n",
       "      <td>...</td>\n",
       "      <td>...</td>\n",
       "      <td>...</td>\n",
       "      <td>...</td>\n",
       "      <td>...</td>\n",
       "      <td>...</td>\n",
       "    </tr>\n",
       "    <tr>\n",
       "      <th>9646</th>\n",
       "      <td>21432</td>\n",
       "      <td>HALL OF JUSTICE</td>\n",
       "      <td>217 W TEMPLE AVE</td>\n",
       "      <td>False</td>\n",
       "      <td>Restaurant</td>\n",
       "      <td>122</td>\n",
       "      <td>W TEMPLE AVE</td>\n",
       "    </tr>\n",
       "    <tr>\n",
       "      <th>9647</th>\n",
       "      <td>21433</td>\n",
       "      <td>FIN-MELROSE</td>\n",
       "      <td>5750 MELROSE AVE</td>\n",
       "      <td>False</td>\n",
       "      <td>Restaurant</td>\n",
       "      <td>93</td>\n",
       "      <td>MELROSE AVE</td>\n",
       "    </tr>\n",
       "    <tr>\n",
       "      <th>9648</th>\n",
       "      <td>21434</td>\n",
       "      <td>JUICY WINGZ</td>\n",
       "      <td>6741 HOLLYWOOD BLVD</td>\n",
       "      <td>True</td>\n",
       "      <td>Fast Food</td>\n",
       "      <td>15</td>\n",
       "      <td>HOLLYWOOD BLVD</td>\n",
       "    </tr>\n",
       "    <tr>\n",
       "      <th>9649</th>\n",
       "      <td>21435</td>\n",
       "      <td>MEDIDATE COFFEE</td>\n",
       "      <td>548 S SPRING ST STE 100</td>\n",
       "      <td>False</td>\n",
       "      <td>Cafe</td>\n",
       "      <td>6</td>\n",
       "      <td>S SPRING ST STE</td>\n",
       "    </tr>\n",
       "    <tr>\n",
       "      <th>9650</th>\n",
       "      <td>21436</td>\n",
       "      <td>CAFE SPROUTS</td>\n",
       "      <td>1300 S SAN PEDRO ST STE 111</td>\n",
       "      <td>True</td>\n",
       "      <td>Restaurant</td>\n",
       "      <td>19</td>\n",
       "      <td>S SAN PEDRO ST STE</td>\n",
       "    </tr>\n",
       "  </tbody>\n",
       "</table>\n",
       "<p>9648 rows × 7 columns</p>\n",
       "</div>"
      ],
      "text/plain": [
       "         id           place_name                      address  chain  \\\n",
       "0     11786  HABITAT COFFEE SHOP       3708 N EAGLE ROCK BLVD  False   \n",
       "1     11787             REILLY'S            100 WORLD WAY 120  False   \n",
       "2     11788       STREET CHURROS      6801 HOLLYWOOD BLVD 253  False   \n",
       "3     11789    TRINITI ECHO PARK           1814 W SUNSET BLVD  False   \n",
       "4     11790               POLLEN           2100 ECHO PARK AVE  False   \n",
       "...     ...                  ...                          ...    ...   \n",
       "9646  21432      HALL OF JUSTICE             217 W TEMPLE AVE  False   \n",
       "9647  21433          FIN-MELROSE             5750 MELROSE AVE  False   \n",
       "9648  21434          JUICY WINGZ          6741 HOLLYWOOD BLVD   True   \n",
       "9649  21435      MEDIDATE COFFEE      548 S SPRING ST STE 100  False   \n",
       "9650  21436         CAFE SPROUTS  1300 S SAN PEDRO ST STE 111   True   \n",
       "\n",
       "      place_type  number         street_name  \n",
       "0           Cafe      26   N EAGLE ROCK BLVD  \n",
       "1     Restaurant       9           WORLD WAY  \n",
       "2      Fast Food      20      HOLLYWOOD BLVD  \n",
       "3     Restaurant      22       W SUNSET BLVD  \n",
       "4     Restaurant      20       ECHO PARK AVE  \n",
       "...          ...     ...                 ...  \n",
       "9646  Restaurant     122        W TEMPLE AVE  \n",
       "9647  Restaurant      93         MELROSE AVE  \n",
       "9648   Fast Food      15      HOLLYWOOD BLVD  \n",
       "9649        Cafe       6     S SPRING ST STE  \n",
       "9650  Restaurant      19  S SAN PEDRO ST STE  \n",
       "\n",
       "[9648 rows x 7 columns]"
      ]
     },
     "execution_count": 49,
     "metadata": {},
     "output_type": "execute_result"
    }
   ],
   "source": [
    "# se aplica la función a la columna address y se crea la nueva columna que almacenará solo los nombres de las calles\n",
    "rest_data['street_name'] = rest_data['address'].apply(extract_letters)\n",
    "rest_data"
   ]
  },
  {
   "cell_type": "markdown",
   "metadata": {},
   "source": [
    "### Traza un gráfico de las diez mejores calles por número de restaurantes."
   ]
  },
  {
   "cell_type": "code",
   "execution_count": 50,
   "metadata": {},
   "outputs": [
    {
     "data": {
      "text/html": [
       "<div>\n",
       "<style scoped>\n",
       "    .dataframe tbody tr th:only-of-type {\n",
       "        vertical-align: middle;\n",
       "    }\n",
       "\n",
       "    .dataframe tbody tr th {\n",
       "        vertical-align: top;\n",
       "    }\n",
       "\n",
       "    .dataframe thead th {\n",
       "        text-align: right;\n",
       "    }\n",
       "</style>\n",
       "<table border=\"1\" class=\"dataframe\">\n",
       "  <thead>\n",
       "    <tr style=\"text-align: right;\">\n",
       "      <th></th>\n",
       "      <th>street_name</th>\n",
       "      <th>restaurant_number</th>\n",
       "    </tr>\n",
       "  </thead>\n",
       "  <tbody>\n",
       "    <tr>\n",
       "      <th>0</th>\n",
       "      <td>W PICO BLVD</td>\n",
       "      <td>298</td>\n",
       "    </tr>\n",
       "    <tr>\n",
       "      <th>1</th>\n",
       "      <td>W SUNSET BLVD</td>\n",
       "      <td>297</td>\n",
       "    </tr>\n",
       "    <tr>\n",
       "      <th>2</th>\n",
       "      <td>WILSHIRE BLVD</td>\n",
       "      <td>202</td>\n",
       "    </tr>\n",
       "    <tr>\n",
       "      <th>3</th>\n",
       "      <td>HOLLYWOOD BLVD</td>\n",
       "      <td>187</td>\n",
       "    </tr>\n",
       "    <tr>\n",
       "      <th>4</th>\n",
       "      <td>SANTA MONICA BLVD</td>\n",
       "      <td>185</td>\n",
       "    </tr>\n",
       "    <tr>\n",
       "      <th>5</th>\n",
       "      <td>S WESTERN AVE</td>\n",
       "      <td>166</td>\n",
       "    </tr>\n",
       "    <tr>\n",
       "      <th>6</th>\n",
       "      <td>W 3RD ST</td>\n",
       "      <td>164</td>\n",
       "    </tr>\n",
       "    <tr>\n",
       "      <th>7</th>\n",
       "      <td>S VERMONT AVE</td>\n",
       "      <td>158</td>\n",
       "    </tr>\n",
       "    <tr>\n",
       "      <th>8</th>\n",
       "      <td>S FIGUEROA ST</td>\n",
       "      <td>155</td>\n",
       "    </tr>\n",
       "    <tr>\n",
       "      <th>9</th>\n",
       "      <td>W OLYMPIC BLVD</td>\n",
       "      <td>149</td>\n",
       "    </tr>\n",
       "  </tbody>\n",
       "</table>\n",
       "</div>"
      ],
      "text/plain": [
       "         street_name  restaurant_number\n",
       "0        W PICO BLVD                298\n",
       "1      W SUNSET BLVD                297\n",
       "2      WILSHIRE BLVD                202\n",
       "3     HOLLYWOOD BLVD                187\n",
       "4  SANTA MONICA BLVD                185\n",
       "5      S WESTERN AVE                166\n",
       "6           W 3RD ST                164\n",
       "7      S VERMONT AVE                158\n",
       "8      S FIGUEROA ST                155\n",
       "9     W OLYMPIC BLVD                149"
      ]
     },
     "execution_count": 50,
     "metadata": {},
     "output_type": "execute_result"
    }
   ],
   "source": [
    "number_rest_per_street = rest_data.groupby('street_name')['place_name'].nunique()\n",
    "top_10_streets = number_rest_per_street.sort_values(ascending=False).head(10).reset_index()\n",
    "top_10_streets.columns = ['street_name','restaurant_number']\n",
    "top_10_streets"
   ]
  },
  {
   "cell_type": "code",
   "execution_count": 51,
   "metadata": {},
   "outputs": [
    {
     "data": {
      "image/png": "[encoded data removed]",
      "text/plain": [
       "<Figure size 640x480 with 1 Axes>"
      ]
     },
     "metadata": {},
     "output_type": "display_data"
    }
   ],
   "source": [
    "# creación del gráfico\n",
    "sns.barplot(data=top_10_streets, x='street_name',y='restaurant_number',color='#615EFC')\n",
    "plt.title('10 mejores calles por número de restaurantes')\n",
    "plt.xticks(rotation=45)\n",
    "plt.show()"
   ]
  },
  {
   "cell_type": "markdown",
   "metadata": {},
   "source": [
    "Entre las 10 mejores calles según número de restaurantes destacan W Pico Blv y W Sunset Blvd con 298 y 297 establecimientos respectivamente. Les siguen calles como Wilshire Blvd con 202 establecimientos y Hollywood Blv con 187 establecimientos. "
   ]
  },
  {
   "cell_type": "markdown",
   "metadata": {},
   "source": [
    "### Encuentra el número de calles que solo tienen un restaurante."
   ]
  },
  {
   "cell_type": "code",
   "execution_count": 52,
   "metadata": {},
   "outputs": [
    {
     "data": {
      "text/html": [
       "<div>\n",
       "<style scoped>\n",
       "    .dataframe tbody tr th:only-of-type {\n",
       "        vertical-align: middle;\n",
       "    }\n",
       "\n",
       "    .dataframe tbody tr th {\n",
       "        vertical-align: top;\n",
       "    }\n",
       "\n",
       "    .dataframe thead th {\n",
       "        text-align: right;\n",
       "    }\n",
       "</style>\n",
       "<table border=\"1\" class=\"dataframe\">\n",
       "  <thead>\n",
       "    <tr style=\"text-align: right;\">\n",
       "      <th></th>\n",
       "      <th>id</th>\n",
       "      <th>place_name</th>\n",
       "      <th>address</th>\n",
       "      <th>chain</th>\n",
       "      <th>place_type</th>\n",
       "      <th>number</th>\n",
       "      <th>street_name</th>\n",
       "    </tr>\n",
       "  </thead>\n",
       "  <tbody>\n",
       "    <tr>\n",
       "      <th>0</th>\n",
       "      <td>11786</td>\n",
       "      <td>HABITAT COFFEE SHOP</td>\n",
       "      <td>3708 N EAGLE ROCK BLVD</td>\n",
       "      <td>False</td>\n",
       "      <td>Cafe</td>\n",
       "      <td>26</td>\n",
       "      <td>N EAGLE ROCK BLVD</td>\n",
       "    </tr>\n",
       "    <tr>\n",
       "      <th>1</th>\n",
       "      <td>11787</td>\n",
       "      <td>REILLY'S</td>\n",
       "      <td>100 WORLD WAY 120</td>\n",
       "      <td>False</td>\n",
       "      <td>Restaurant</td>\n",
       "      <td>9</td>\n",
       "      <td>WORLD WAY</td>\n",
       "    </tr>\n",
       "    <tr>\n",
       "      <th>2</th>\n",
       "      <td>11788</td>\n",
       "      <td>STREET CHURROS</td>\n",
       "      <td>6801 HOLLYWOOD BLVD 253</td>\n",
       "      <td>False</td>\n",
       "      <td>Fast Food</td>\n",
       "      <td>20</td>\n",
       "      <td>HOLLYWOOD BLVD</td>\n",
       "    </tr>\n",
       "    <tr>\n",
       "      <th>3</th>\n",
       "      <td>11789</td>\n",
       "      <td>TRINITI ECHO PARK</td>\n",
       "      <td>1814 W SUNSET BLVD</td>\n",
       "      <td>False</td>\n",
       "      <td>Restaurant</td>\n",
       "      <td>22</td>\n",
       "      <td>W SUNSET BLVD</td>\n",
       "    </tr>\n",
       "    <tr>\n",
       "      <th>4</th>\n",
       "      <td>11790</td>\n",
       "      <td>POLLEN</td>\n",
       "      <td>2100 ECHO PARK AVE</td>\n",
       "      <td>False</td>\n",
       "      <td>Restaurant</td>\n",
       "      <td>20</td>\n",
       "      <td>ECHO PARK AVE</td>\n",
       "    </tr>\n",
       "    <tr>\n",
       "      <th>...</th>\n",
       "      <td>...</td>\n",
       "      <td>...</td>\n",
       "      <td>...</td>\n",
       "      <td>...</td>\n",
       "      <td>...</td>\n",
       "      <td>...</td>\n",
       "      <td>...</td>\n",
       "    </tr>\n",
       "    <tr>\n",
       "      <th>9646</th>\n",
       "      <td>21432</td>\n",
       "      <td>HALL OF JUSTICE</td>\n",
       "      <td>217 W TEMPLE AVE</td>\n",
       "      <td>False</td>\n",
       "      <td>Restaurant</td>\n",
       "      <td>122</td>\n",
       "      <td>W TEMPLE AVE</td>\n",
       "    </tr>\n",
       "    <tr>\n",
       "      <th>9647</th>\n",
       "      <td>21433</td>\n",
       "      <td>FIN-MELROSE</td>\n",
       "      <td>5750 MELROSE AVE</td>\n",
       "      <td>False</td>\n",
       "      <td>Restaurant</td>\n",
       "      <td>93</td>\n",
       "      <td>MELROSE AVE</td>\n",
       "    </tr>\n",
       "    <tr>\n",
       "      <th>9648</th>\n",
       "      <td>21434</td>\n",
       "      <td>JUICY WINGZ</td>\n",
       "      <td>6741 HOLLYWOOD BLVD</td>\n",
       "      <td>True</td>\n",
       "      <td>Fast Food</td>\n",
       "      <td>15</td>\n",
       "      <td>HOLLYWOOD BLVD</td>\n",
       "    </tr>\n",
       "    <tr>\n",
       "      <th>9649</th>\n",
       "      <td>21435</td>\n",
       "      <td>MEDIDATE COFFEE</td>\n",
       "      <td>548 S SPRING ST STE 100</td>\n",
       "      <td>False</td>\n",
       "      <td>Cafe</td>\n",
       "      <td>6</td>\n",
       "      <td>S SPRING ST STE</td>\n",
       "    </tr>\n",
       "    <tr>\n",
       "      <th>9650</th>\n",
       "      <td>21436</td>\n",
       "      <td>CAFE SPROUTS</td>\n",
       "      <td>1300 S SAN PEDRO ST STE 111</td>\n",
       "      <td>True</td>\n",
       "      <td>Restaurant</td>\n",
       "      <td>19</td>\n",
       "      <td>S SAN PEDRO ST STE</td>\n",
       "    </tr>\n",
       "  </tbody>\n",
       "</table>\n",
       "<p>9648 rows × 7 columns</p>\n",
       "</div>"
      ],
      "text/plain": [
       "         id           place_name                      address  chain  \\\n",
       "0     11786  HABITAT COFFEE SHOP       3708 N EAGLE ROCK BLVD  False   \n",
       "1     11787             REILLY'S            100 WORLD WAY 120  False   \n",
       "2     11788       STREET CHURROS      6801 HOLLYWOOD BLVD 253  False   \n",
       "3     11789    TRINITI ECHO PARK           1814 W SUNSET BLVD  False   \n",
       "4     11790               POLLEN           2100 ECHO PARK AVE  False   \n",
       "...     ...                  ...                          ...    ...   \n",
       "9646  21432      HALL OF JUSTICE             217 W TEMPLE AVE  False   \n",
       "9647  21433          FIN-MELROSE             5750 MELROSE AVE  False   \n",
       "9648  21434          JUICY WINGZ          6741 HOLLYWOOD BLVD   True   \n",
       "9649  21435      MEDIDATE COFFEE      548 S SPRING ST STE 100  False   \n",
       "9650  21436         CAFE SPROUTS  1300 S SAN PEDRO ST STE 111   True   \n",
       "\n",
       "      place_type  number         street_name  \n",
       "0           Cafe      26   N EAGLE ROCK BLVD  \n",
       "1     Restaurant       9           WORLD WAY  \n",
       "2      Fast Food      20      HOLLYWOOD BLVD  \n",
       "3     Restaurant      22       W SUNSET BLVD  \n",
       "4     Restaurant      20       ECHO PARK AVE  \n",
       "...          ...     ...                 ...  \n",
       "9646  Restaurant     122        W TEMPLE AVE  \n",
       "9647  Restaurant      93         MELROSE AVE  \n",
       "9648   Fast Food      15      HOLLYWOOD BLVD  \n",
       "9649        Cafe       6     S SPRING ST STE  \n",
       "9650  Restaurant      19  S SAN PEDRO ST STE  \n",
       "\n",
       "[9648 rows x 7 columns]"
      ]
     },
     "execution_count": 52,
     "metadata": {},
     "output_type": "execute_result"
    }
   ],
   "source": [
    "rest_data"
   ]
  },
  {
   "cell_type": "code",
   "execution_count": 53,
   "metadata": {},
   "outputs": [],
   "source": [
    "# Agrupar por el nombre de la calle y contar el número de restaurantes en cada calle\n",
    "street_counts = rest_data.groupby('street_name').size()\n"
   ]
  },
  {
   "cell_type": "code",
   "execution_count": 54,
   "metadata": {},
   "outputs": [],
   "source": [
    "# se filtran las calles que solo tienen un restaurante\n",
    "streets_with_one_restaurant = street_counts[street_counts == 1]"
   ]
  },
  {
   "cell_type": "code",
   "execution_count": 55,
   "metadata": {},
   "outputs": [
    {
     "name": "stdout",
     "output_type": "stream",
     "text": [
      "Número de calles con un solo restaurante: 1717\n"
     ]
    }
   ],
   "source": [
    "# conteo del número de calles que tienen solo un restaurante\n",
    "number_of_streets_with_one_restaurant = streets_with_one_restaurant.count()\n",
    "print(f\"Número de calles con un solo restaurante: {number_of_streets_with_one_restaurant}\")"
   ]
  },
  {
   "cell_type": "code",
   "execution_count": 56,
   "metadata": {},
   "outputs": [],
   "source": [
    "data_summary = {\n",
    "    'Tipo': ['1 Restaurante', 'Más de 1 Restaurante'],\n",
    "    'Número de Calles': [\n",
    "        (street_counts == 1).sum(),\n",
    "        (street_counts > 1).sum()\n",
    "    ]\n",
    "}"
   ]
  },
  {
   "cell_type": "code",
   "execution_count": 57,
   "metadata": {},
   "outputs": [],
   "source": [
    "#creación del dataframe a usar para crear el gráfico\n",
    "summary_df = pd.DataFrame(data_summary)"
   ]
  },
  {
   "cell_type": "code",
   "execution_count": 58,
   "metadata": {},
   "outputs": [
    {
     "data": {
      "application/vnd.plotly.v1+json": {
       "config": {
        "plotlyServerURL": "https://plot.ly"
       },
       "data": [
        {
         "domain": {
          "x": [
           0,
           1
          ],
          "y": [
           0,
           1
          ]
         },
         "hovertemplate": "Tipo=%{label}<br>Número de Calles=%{value}<extra></extra>",
         "labels": [
          "1 Restaurante",
          "Más de 1 Restaurante"
         ],
         "legendgroup": "",
         "name": "",
         "showlegend": true,
         "type": "pie",
         "values": [
          1717,
          589
         ]
        }
       ],
       "layout": {
        "legend": {
         "tracegroupgap": 0
        },
        "template": {
         "data": {
          "bar": [
           {
            "error_x": {
             "color": "#2a3f5f"
            },
            "error_y": {
             "color": "#2a3f5f"
            },
            "marker": {
             "line": {
              "color": "#E5ECF6",
              "width": 0.5
             },
             "pattern": {
              "fillmode": "overlay",
              "size": 10,
              "solidity": 0.2
             }
            },
            "type": "bar"
           }
          ],
          "barpolar": [
           {
            "marker": {
             "line": {
              "color": "#E5ECF6",
              "width": 0.5
             },
             "pattern": {
              "fillmode": "overlay",
              "size": 10,
              "solidity": 0.2
             }
            },
            "type": "barpolar"
           }
          ],
          "carpet": [
           {
            "aaxis": {
             "endlinecolor": "#2a3f5f",
             "gridcolor": "white",
             "linecolor": "white",
             "minorgridcolor": "white",
             "startlinecolor": "#2a3f5f"
            },
            "baxis": {
             "endlinecolor": "#2a3f5f",
             "gridcolor": "white",
             "linecolor": "white",
             "minorgridcolor": "white",
             "startlinecolor": "#2a3f5f"
            },
            "type": "carpet"
           }
          ],
          "choropleth": [
           {
            "colorbar": {
             "outlinewidth": 0,
             "ticks": ""
            },
            "type": "choropleth"
           }
          ],
          "contour": [
           {
            "colorbar": {
             "outlinewidth": 0,
             "ticks": ""
            },
            "colorscale": [
             [
              0,
              "#0d0887"
             ],
             [
              0.1111111111111111,
              "#46039f"
             ],
             [
              0.2222222222222222,
              "#7201a8"
             ],
             [
              0.3333333333333333,
              "#9c179e"
             ],
             [
              0.4444444444444444,
              "#bd3786"
             ],
             [
              0.5555555555555556,
              "#d8576b"
             ],
             [
              0.6666666666666666,
              "#ed7953"
             ],
             [
              0.7777777777777778,
              "#fb9f3a"
             ],
             [
              0.8888888888888888,
              "#fdca26"
             ],
             [
              1,
              "#f0f921"
             ]
            ],
            "type": "contour"
           }
          ],
          "contourcarpet": [
           {
            "colorbar": {
             "outlinewidth": 0,
             "ticks": ""
            },
            "type": "contourcarpet"
           }
          ],
          "heatmap": [
           {
            "colorbar": {
             "outlinewidth": 0,
             "ticks": ""
            },
            "colorscale": [
             [
              0,
              "#0d0887"
             ],
             [
              0.1111111111111111,
              "#46039f"
             ],
             [
              0.2222222222222222,
              "#7201a8"
             ],
             [
              0.3333333333333333,
              "#9c179e"
             ],
             [
              0.4444444444444444,
              "#bd3786"
             ],
             [
              0.5555555555555556,
              "#d8576b"
             ],
             [
              0.6666666666666666,
              "#ed7953"
             ],
             [
              0.7777777777777778,
              "#fb9f3a"
             ],
             [
              0.8888888888888888,
              "#fdca26"
             ],
             [
              1,
              "#f0f921"
             ]
            ],
            "type": "heatmap"
           }
          ],
          "heatmapgl": [
           {
            "colorbar": {
             "outlinewidth": 0,
             "ticks": ""
            },
            "colorscale": [
             [
              0,
              "#0d0887"
             ],
             [
              0.1111111111111111,
              "#46039f"
             ],
             [
              0.2222222222222222,
              "#7201a8"
             ],
             [
              0.3333333333333333,
              "#9c179e"
             ],
             [
              0.4444444444444444,
              "#bd3786"
             ],
             [
              0.5555555555555556,
              "#d8576b"
             ],
             [
              0.6666666666666666,
              "#ed7953"
             ],
             [
              0.7777777777777778,
              "#fb9f3a"
             ],
             [
              0.8888888888888888,
              "#fdca26"
             ],
             [
              1,
              "#f0f921"
             ]
            ],
            "type": "heatmapgl"
           }
          ],
          "histogram": [
           {
            "marker": {
             "pattern": {
              "fillmode": "overlay",
              "size": 10,
              "solidity": 0.2
             }
            },
            "type": "histogram"
           }
          ],
          "histogram2d": [
           {
            "colorbar": {
             "outlinewidth": 0,
             "ticks": ""
            },
            "colorscale": [
             [
              0,
              "#0d0887"
             ],
             [
              0.1111111111111111,
              "#46039f"
             ],
             [
              0.2222222222222222,
              "#7201a8"
             ],
             [
              0.3333333333333333,
              "#9c179e"
             ],
             [
              0.4444444444444444,
              "#bd3786"
             ],
             [
              0.5555555555555556,
              "#d8576b"
             ],
             [
              0.6666666666666666,
              "#ed7953"
             ],
             [
              0.7777777777777778,
              "#fb9f3a"
             ],
             [
              0.8888888888888888,
              "#fdca26"
             ],
             [
              1,
              "#f0f921"
             ]
            ],
            "type": "histogram2d"
           }
          ],
          "histogram2dcontour": [
           {
            "colorbar": {
             "outlinewidth": 0,
             "ticks": ""
            },
            "colorscale": [
             [
              0,
              "#0d0887"
             ],
             [
              0.1111111111111111,
              "#46039f"
             ],
             [
              0.2222222222222222,
              "#7201a8"
             ],
             [
              0.3333333333333333,
              "#9c179e"
             ],
             [
              0.4444444444444444,
              "#bd3786"
             ],
             [
              0.5555555555555556,
              "#d8576b"
             ],
             [
              0.6666666666666666,
              "#ed7953"
             ],
             [
              0.7777777777777778,
              "#fb9f3a"
             ],
             [
              0.8888888888888888,
              "#fdca26"
             ],
             [
              1,
              "#f0f921"
             ]
            ],
            "type": "histogram2dcontour"
           }
          ],
          "mesh3d": [
           {
            "colorbar": {
             "outlinewidth": 0,
             "ticks": ""
            },
            "type": "mesh3d"
           }
          ],
          "parcoords": [
           {
            "line": {
             "colorbar": {
              "outlinewidth": 0,
              "ticks": ""
             }
            },
            "type": "parcoords"
           }
          ],
          "pie": [
           {
            "automargin": true,
            "type": "pie"
           }
          ],
          "scatter": [
           {
            "fillpattern": {
             "fillmode": "overlay",
             "size": 10,
             "solidity": 0.2
            },
            "type": "scatter"
           }
          ],
          "scatter3d": [
           {
            "line": {
             "colorbar": {
              "outlinewidth": 0,
              "ticks": ""
             }
            },
            "marker": {
             "colorbar": {
              "outlinewidth": 0,
              "ticks": ""
             }
            },
            "type": "scatter3d"
           }
          ],
          "scattercarpet": [
           {
            "marker": {
             "colorbar": {
              "outlinewidth": 0,
              "ticks": ""
             }
            },
            "type": "scattercarpet"
           }
          ],
          "scattergeo": [
           {
            "marker": {
             "colorbar": {
              "outlinewidth": 0,
              "ticks": ""
             }
            },
            "type": "scattergeo"
           }
          ],
          "scattergl": [
           {
            "marker": {
             "colorbar": {
              "outlinewidth": 0,
              "ticks": ""
             }
            },
            "type": "scattergl"
           }
          ],
          "scattermapbox": [
           {
            "marker": {
             "colorbar": {
              "outlinewidth": 0,
              "ticks": ""
             }
            },
            "type": "scattermapbox"
           }
          ],
          "scatterpolar": [
           {
            "marker": {
             "colorbar": {
              "outlinewidth": 0,
              "ticks": ""
             }
            },
            "type": "scatterpolar"
           }
          ],
          "scatterpolargl": [
           {
            "marker": {
             "colorbar": {
              "outlinewidth": 0,
              "ticks": ""
             }
            },
            "type": "scatterpolargl"
           }
          ],
          "scatterternary": [
           {
            "marker": {
             "colorbar": {
              "outlinewidth": 0,
              "ticks": ""
             }
            },
            "type": "scatterternary"
           }
          ],
          "surface": [
           {
            "colorbar": {
             "outlinewidth": 0,
             "ticks": ""
            },
            "colorscale": [
             [
              0,
              "#0d0887"
             ],
             [
              0.1111111111111111,
              "#46039f"
             ],
             [
              0.2222222222222222,
              "#7201a8"
             ],
             [
              0.3333333333333333,
              "#9c179e"
             ],
             [
              0.4444444444444444,
              "#bd3786"
             ],
             [
              0.5555555555555556,
              "#d8576b"
             ],
             [
              0.6666666666666666,
              "#ed7953"
             ],
             [
              0.7777777777777778,
              "#fb9f3a"
             ],
             [
              0.8888888888888888,
              "#fdca26"
             ],
             [
              1,
              "#f0f921"
             ]
            ],
            "type": "surface"
           }
          ],
          "table": [
           {
            "cells": {
             "fill": {
              "color": "#EBF0F8"
             },
             "line": {
              "color": "white"
             }
            },
            "header": {
             "fill": {
              "color": "#C8D4E3"
             },
             "line": {
              "color": "white"
             }
            },
            "type": "table"
           }
          ]
         },
         "layout": {
          "annotationdefaults": {
           "arrowcolor": "#2a3f5f",
           "arrowhead": 0,
           "arrowwidth": 1
          },
          "autotypenumbers": "strict",
          "coloraxis": {
           "colorbar": {
            "outlinewidth": 0,
            "ticks": ""
           }
          },
          "colorscale": {
           "diverging": [
            [
             0,
             "#8e0152"
            ],
            [
             0.1,
             "#c51b7d"
            ],
            [
             0.2,
             "#de77ae"
            ],
            [
             0.3,
             "#f1b6da"
            ],
            [
             0.4,
             "#fde0ef"
            ],
            [
             0.5,
             "#f7f7f7"
            ],
            [
             0.6,
             "#e6f5d0"
            ],
            [
             0.7,
             "#b8e186"
            ],
            [
             0.8,
             "#7fbc41"
            ],
            [
             0.9,
             "#4d9221"
            ],
            [
             1,
             "#276419"
            ]
           ],
           "sequential": [
            [
             0,
             "#0d0887"
            ],
            [
             0.1111111111111111,
             "#46039f"
            ],
            [
             0.2222222222222222,
             "#7201a8"
            ],
            [
             0.3333333333333333,
             "#9c179e"
            ],
            [
             0.4444444444444444,
             "#bd3786"
            ],
            [
             0.5555555555555556,
             "#d8576b"
            ],
            [
             0.6666666666666666,
             "#ed7953"
            ],
            [
             0.7777777777777778,
             "#fb9f3a"
            ],
            [
             0.8888888888888888,
             "#fdca26"
            ],
            [
             1,
             "#f0f921"
            ]
           ],
           "sequentialminus": [
            [
             0,
             "#0d0887"
            ],
            [
             0.1111111111111111,
             "#46039f"
            ],
            [
             0.2222222222222222,
             "#7201a8"
            ],
            [
             0.3333333333333333,
             "#9c179e"
            ],
            [
             0.4444444444444444,
             "#bd3786"
            ],
            [
             0.5555555555555556,
             "#d8576b"
            ],
            [
             0.6666666666666666,
             "#ed7953"
            ],
            [
             0.7777777777777778,
             "#fb9f3a"
            ],
            [
             0.8888888888888888,
             "#fdca26"
            ],
            [
             1,
             "#f0f921"
            ]
           ]
          },
          "colorway": [
           "#636efa",
           "#EF553B",
           "#00cc96",
           "#ab63fa",
           "#FFA15A",
           "#19d3f3",
           "#FF6692",
           "#B6E880",
           "#FF97FF",
           "#FECB52"
          ],
          "font": {
           "color": "#2a3f5f"
          },
          "geo": {
           "bgcolor": "white",
           "lakecolor": "white",
           "landcolor": "#E5ECF6",
           "showlakes": true,
           "showland": true,
           "subunitcolor": "white"
          },
          "hoverlabel": {
           "align": "left"
          },
          "hovermode": "closest",
          "mapbox": {
           "style": "light"
          },
          "paper_bgcolor": "white",
          "plot_bgcolor": "#E5ECF6",
          "polar": {
           "angularaxis": {
            "gridcolor": "white",
            "linecolor": "white",
            "ticks": ""
           },
           "bgcolor": "#E5ECF6",
           "radialaxis": {
            "gridcolor": "white",
            "linecolor": "white",
            "ticks": ""
           }
          },
          "scene": {
           "xaxis": {
            "backgroundcolor": "#E5ECF6",
            "gridcolor": "white",
            "gridwidth": 2,
            "linecolor": "white",
            "showbackground": true,
            "ticks": "",
            "zerolinecolor": "white"
           },
           "yaxis": {
            "backgroundcolor": "#E5ECF6",
            "gridcolor": "white",
            "gridwidth": 2,
            "linecolor": "white",
            "showbackground": true,
            "ticks": "",
            "zerolinecolor": "white"
           },
           "zaxis": {
            "backgroundcolor": "#E5ECF6",
            "gridcolor": "white",
            "gridwidth": 2,
            "linecolor": "white",
            "showbackground": true,
            "ticks": "",
            "zerolinecolor": "white"
           }
          },
          "shapedefaults": {
           "line": {
            "color": "#2a3f5f"
           }
          },
          "ternary": {
           "aaxis": {
            "gridcolor": "white",
            "linecolor": "white",
            "ticks": ""
           },
           "baxis": {
            "gridcolor": "white",
            "linecolor": "white",
            "ticks": ""
           },
           "bgcolor": "#E5ECF6",
           "caxis": {
            "gridcolor": "white",
            "linecolor": "white",
            "ticks": ""
           }
          },
          "title": {
           "x": 0.05
          },
          "xaxis": {
           "automargin": true,
           "gridcolor": "white",
           "linecolor": "white",
           "ticks": "",
           "title": {
            "standoff": 15
           },
           "zerolinecolor": "white",
           "zerolinewidth": 2
          },
          "yaxis": {
           "automargin": true,
           "gridcolor": "white",
           "linecolor": "white",
           "ticks": "",
           "title": {
            "standoff": 15
           },
           "zerolinecolor": "white",
           "zerolinewidth": 2
          }
         }
        },
        "title": {
         "text": "Número de calles según la cantidad de restaurantes"
        }
       }
      }
     },
     "metadata": {},
     "output_type": "display_data"
    }
   ],
   "source": [
    "# creación del pie chart\n",
    "fig = px.pie(summary_df, names='Tipo', values='Número de Calles', title='Número de calles según la cantidad de restaurantes')\n",
    "fig.show()"
   ]
  },
  {
   "cell_type": "markdown",
   "metadata": {},
   "source": [
    "Existen 1717 calles que tienen un solo restaurante, dichas calles representan el 74,5% del total de calles. Solo el 25,5% de las calles tienen más de un restaurante."
   ]
  },
  {
   "cell_type": "markdown",
   "metadata": {},
   "source": [
    "### Para las calles con muchos restaurantes, analiza la distribución del número de asientos. ¿Qué tendencias puedes ver?"
   ]
  },
  {
   "cell_type": "code",
   "execution_count": 59,
   "metadata": {},
   "outputs": [
    {
     "data": {
      "text/plain": [
       "street_name\n",
       "1/2 3RD ST             1\n",
       "1/2 7TH ST             1\n",
       "1/2 BEVERLY BLVD       3\n",
       "1/2 CITY TERRACE DR    1\n",
       "1/2 COLORADO BLVD      1\n",
       "                      ..\n",
       "YUCCA ST               3\n",
       "Z00 DR                 1\n",
       "ZONAL AVE              4\n",
       "ZOO DR                 1\n",
       "hollywood BLVD         1\n",
       "Length: 2306, dtype: int64"
      ]
     },
     "execution_count": 59,
     "metadata": {},
     "output_type": "execute_result"
    }
   ],
   "source": [
    "street_counts"
   ]
  },
  {
   "cell_type": "code",
   "execution_count": 60,
   "metadata": {},
   "outputs": [],
   "source": [
    "# se filtran las calles que tienen más de un restaurante\n",
    "more_than_one_rest = street_counts[street_counts > 1].index"
   ]
  },
  {
   "cell_type": "code",
   "execution_count": 61,
   "metadata": {},
   "outputs": [
    {
     "data": {
      "text/html": [
       "<div>\n",
       "<style scoped>\n",
       "    .dataframe tbody tr th:only-of-type {\n",
       "        vertical-align: middle;\n",
       "    }\n",
       "\n",
       "    .dataframe tbody tr th {\n",
       "        vertical-align: top;\n",
       "    }\n",
       "\n",
       "    .dataframe thead th {\n",
       "        text-align: right;\n",
       "    }\n",
       "</style>\n",
       "<table border=\"1\" class=\"dataframe\">\n",
       "  <thead>\n",
       "    <tr style=\"text-align: right;\">\n",
       "      <th></th>\n",
       "      <th>id</th>\n",
       "      <th>place_name</th>\n",
       "      <th>address</th>\n",
       "      <th>chain</th>\n",
       "      <th>place_type</th>\n",
       "      <th>number</th>\n",
       "      <th>street_name</th>\n",
       "    </tr>\n",
       "  </thead>\n",
       "  <tbody>\n",
       "    <tr>\n",
       "      <th>0</th>\n",
       "      <td>11786</td>\n",
       "      <td>HABITAT COFFEE SHOP</td>\n",
       "      <td>3708 N EAGLE ROCK BLVD</td>\n",
       "      <td>False</td>\n",
       "      <td>Cafe</td>\n",
       "      <td>26</td>\n",
       "      <td>N EAGLE ROCK BLVD</td>\n",
       "    </tr>\n",
       "    <tr>\n",
       "      <th>1</th>\n",
       "      <td>11787</td>\n",
       "      <td>REILLY'S</td>\n",
       "      <td>100 WORLD WAY 120</td>\n",
       "      <td>False</td>\n",
       "      <td>Restaurant</td>\n",
       "      <td>9</td>\n",
       "      <td>WORLD WAY</td>\n",
       "    </tr>\n",
       "    <tr>\n",
       "      <th>2</th>\n",
       "      <td>11788</td>\n",
       "      <td>STREET CHURROS</td>\n",
       "      <td>6801 HOLLYWOOD BLVD 253</td>\n",
       "      <td>False</td>\n",
       "      <td>Fast Food</td>\n",
       "      <td>20</td>\n",
       "      <td>HOLLYWOOD BLVD</td>\n",
       "    </tr>\n",
       "    <tr>\n",
       "      <th>3</th>\n",
       "      <td>11789</td>\n",
       "      <td>TRINITI ECHO PARK</td>\n",
       "      <td>1814 W SUNSET BLVD</td>\n",
       "      <td>False</td>\n",
       "      <td>Restaurant</td>\n",
       "      <td>22</td>\n",
       "      <td>W SUNSET BLVD</td>\n",
       "    </tr>\n",
       "    <tr>\n",
       "      <th>4</th>\n",
       "      <td>11790</td>\n",
       "      <td>POLLEN</td>\n",
       "      <td>2100 ECHO PARK AVE</td>\n",
       "      <td>False</td>\n",
       "      <td>Restaurant</td>\n",
       "      <td>20</td>\n",
       "      <td>ECHO PARK AVE</td>\n",
       "    </tr>\n",
       "    <tr>\n",
       "      <th>...</th>\n",
       "      <td>...</td>\n",
       "      <td>...</td>\n",
       "      <td>...</td>\n",
       "      <td>...</td>\n",
       "      <td>...</td>\n",
       "      <td>...</td>\n",
       "      <td>...</td>\n",
       "    </tr>\n",
       "    <tr>\n",
       "      <th>9645</th>\n",
       "      <td>21431</td>\n",
       "      <td>SAINT MARC</td>\n",
       "      <td>10250 SANTA MONICA BLVD 1025</td>\n",
       "      <td>False</td>\n",
       "      <td>Restaurant</td>\n",
       "      <td>225</td>\n",
       "      <td>SANTA MONICA BLVD</td>\n",
       "    </tr>\n",
       "    <tr>\n",
       "      <th>9647</th>\n",
       "      <td>21433</td>\n",
       "      <td>FIN-MELROSE</td>\n",
       "      <td>5750 MELROSE AVE</td>\n",
       "      <td>False</td>\n",
       "      <td>Restaurant</td>\n",
       "      <td>93</td>\n",
       "      <td>MELROSE AVE</td>\n",
       "    </tr>\n",
       "    <tr>\n",
       "      <th>9648</th>\n",
       "      <td>21434</td>\n",
       "      <td>JUICY WINGZ</td>\n",
       "      <td>6741 HOLLYWOOD BLVD</td>\n",
       "      <td>True</td>\n",
       "      <td>Fast Food</td>\n",
       "      <td>15</td>\n",
       "      <td>HOLLYWOOD BLVD</td>\n",
       "    </tr>\n",
       "    <tr>\n",
       "      <th>9649</th>\n",
       "      <td>21435</td>\n",
       "      <td>MEDIDATE COFFEE</td>\n",
       "      <td>548 S SPRING ST STE 100</td>\n",
       "      <td>False</td>\n",
       "      <td>Cafe</td>\n",
       "      <td>6</td>\n",
       "      <td>S SPRING ST STE</td>\n",
       "    </tr>\n",
       "    <tr>\n",
       "      <th>9650</th>\n",
       "      <td>21436</td>\n",
       "      <td>CAFE SPROUTS</td>\n",
       "      <td>1300 S SAN PEDRO ST STE 111</td>\n",
       "      <td>True</td>\n",
       "      <td>Restaurant</td>\n",
       "      <td>19</td>\n",
       "      <td>S SAN PEDRO ST STE</td>\n",
       "    </tr>\n",
       "  </tbody>\n",
       "</table>\n",
       "<p>7931 rows × 7 columns</p>\n",
       "</div>"
      ],
      "text/plain": [
       "         id           place_name                       address  chain  \\\n",
       "0     11786  HABITAT COFFEE SHOP        3708 N EAGLE ROCK BLVD  False   \n",
       "1     11787             REILLY'S             100 WORLD WAY 120  False   \n",
       "2     11788       STREET CHURROS       6801 HOLLYWOOD BLVD 253  False   \n",
       "3     11789    TRINITI ECHO PARK            1814 W SUNSET BLVD  False   \n",
       "4     11790               POLLEN            2100 ECHO PARK AVE  False   \n",
       "...     ...                  ...                           ...    ...   \n",
       "9645  21431           SAINT MARC  10250 SANTA MONICA BLVD 1025  False   \n",
       "9647  21433          FIN-MELROSE              5750 MELROSE AVE  False   \n",
       "9648  21434          JUICY WINGZ           6741 HOLLYWOOD BLVD   True   \n",
       "9649  21435      MEDIDATE COFFEE       548 S SPRING ST STE 100  False   \n",
       "9650  21436         CAFE SPROUTS   1300 S SAN PEDRO ST STE 111   True   \n",
       "\n",
       "      place_type  number         street_name  \n",
       "0           Cafe      26   N EAGLE ROCK BLVD  \n",
       "1     Restaurant       9           WORLD WAY  \n",
       "2      Fast Food      20      HOLLYWOOD BLVD  \n",
       "3     Restaurant      22       W SUNSET BLVD  \n",
       "4     Restaurant      20       ECHO PARK AVE  \n",
       "...          ...     ...                 ...  \n",
       "9645  Restaurant     225   SANTA MONICA BLVD  \n",
       "9647  Restaurant      93         MELROSE AVE  \n",
       "9648   Fast Food      15      HOLLYWOOD BLVD  \n",
       "9649        Cafe       6     S SPRING ST STE  \n",
       "9650  Restaurant      19  S SAN PEDRO ST STE  \n",
       "\n",
       "[7931 rows x 7 columns]"
      ]
     },
     "execution_count": 61,
     "metadata": {},
     "output_type": "execute_result"
    }
   ],
   "source": [
    "# se filtra el dataframe general\n",
    "rest_data_filtered = rest_data[rest_data['street_name'].isin(more_than_one_rest)]\n",
    "rest_data_filtered"
   ]
  },
  {
   "cell_type": "code",
   "execution_count": 62,
   "metadata": {},
   "outputs": [
    {
     "data": {
      "text/plain": [
       "count    7931.000000\n",
       "mean       43.941748\n",
       "std        47.278186\n",
       "min         1.000000\n",
       "25%        14.000000\n",
       "50%        27.000000\n",
       "75%        46.000000\n",
       "max       229.000000\n",
       "Name: number, dtype: float64"
      ]
     },
     "execution_count": 62,
     "metadata": {},
     "output_type": "execute_result"
    }
   ],
   "source": [
    "rest_data_filtered['number'].describe()"
   ]
  },
  {
   "cell_type": "code",
   "execution_count": 66,
   "metadata": {},
   "outputs": [
    {
     "name": "stderr",
     "output_type": "stream",
     "text": [
      "c:\\Users\\steph\\anaconda3\\Lib\\site-packages\\seaborn\\_oldcore.py:1119: FutureWarning:\n",
      "\n",
      "use_inf_as_na option is deprecated and will be removed in a future version. Convert inf values to NaN before operating instead.\n",
      "\n"
     ]
    },
    {
     "data": {
      "text/plain": [
       "Text(0.5, 1.0, 'Distribución del número de asientos en las calles con muchos restaurantes')"
      ]
     },
     "execution_count": 66,
     "metadata": {},
     "output_type": "execute_result"
    },
    {
     "data": {
      "image/png": "[encoded data removed]",
      "text/plain": [
       "<Figure size 700x400 with 2 Axes>"
      ]
     },
     "metadata": {},
     "output_type": "display_data"
    }
   ],
   "source": [
    "fig, ax = plt.subplots(1,2,figsize=(7, 4))\n",
    "\n",
    "\n",
    "sns.histplot(rest_data_filtered['number'],ax=ax[0],kde=True)\n",
    "sns.boxplot(data=rest_data_filtered, x='number',ax=ax[1])\n",
    "ax[0].set_xlabel('')\n",
    "plt.tight_layout()\n",
    "plt.title('Distribución del número de asientos en las calles con muchos restaurantes')\n"
   ]
  },
  {
   "cell_type": "markdown",
   "metadata": {},
   "source": [
    "El histograma muestra que, en las calles que tienen varios restaurantes, la gran mayoría de estos tienen entre 0 a 50 asientos. Incluso, el gráfico de caja permite ver que el 75% de los restaurantes tienen menos de 50 asientos y existen pocos casos en los que el número de asientos en dichos restaurantes supera los 100 asientos por local. "
   ]
  },
  {
   "cell_type": "markdown",
   "metadata": {},
   "source": [
    "## Conclusiones y recomendaciones"
   ]
  },
  {
   "cell_type": "markdown",
   "metadata": {},
   "source": [
    "Llega a una conclusión y aporta recomendaciones sobre el tipo de restaurante y el número de asientos. Comenta la posibilidad de desarrollar una cadena."
   ]
  },
  {
   "cell_type": "markdown",
   "metadata": {},
   "source": [
    "A partir del análisis realizado se llegan a las siguientes conclusiones:\n",
    "1. El mercado de establecimientos de comida de Los Ángeles está dominado por los restaurantes, ya que representan el 76,8% de los establecimientos que existen. Por su parte, los cafés solo representan el 3,97% de los establecimientos en esta ciudad. En ese sentido, se considera que una cafetería que es atendida por robots, puede ser un negocio innovador y prometedor en una ciudad en la que principalmente existen restaurantes. \n",
    "2. Para abrir un negocio de ese tipo se deben tomar en consideración ciertos criterios. En primer lugar sería recomendable que el número de asientos del negocio no exceda los 50 asientos, ya que la mayoría de establecimientos tiene en promedio entre 20 a 50 asientos y son muy pocos los establecimientos que tienen más de 100 asientos por local. \n",
    "3. Asimismo, se recomienda que el negocio se ubique en una de las 10 mejores calles que tienen más cantidad de establecimientos tales como W Pico Blv y W Sunset Blvd. Incluso, podría ubicarse en calles como Wilshire Blvd y Hollywood Blv, las cuales no están tan llenas de restaurantes como sí los están W Pico Blv y W Sunset Blvd.\n",
    "4. En cuanto a la posibilidad de desarrollar una cadena, se pudo obtener que solo el 31% de los establecimientos en el área pertenecen a una cadena y la gran mayoría de establecimientos que son parte de una cadena son del tipo restaurante. En ese sentido, se recomienda que, en caso se desee desarrollar una cadena, es preferible que el establecimiento sea un restaurante. A su vez, es recomendable que dicho negocio cuente con 50 asientos en promedio o máximo 100 asientos, ya que las cadenas en el área tienden a tener pocos asientos. "
   ]
  },
  {
   "cell_type": "markdown",
   "metadata": {},
   "source": [
    "Presentación: https://dochub.com/m/shared-document/daniela-artica/QonjxvZRGWjN5PlR6dl87g/estudio-de-mercado-sprint-10-daniela-artica-pdf?dt=d9w4WzaqeJSS76Wsfz-S"
   ]
  }
 ],
 "metadata": {
  "ExecuteTimeLog": [
   {
    "duration": 5016,
    "start_time": "2024-08-13T03:20:20.086Z"
   },
   {
    "duration": 55,
    "start_time": "2024-08-13T03:22:16.464Z"
   },
   {
    "duration": 16,
    "start_time": "2024-08-13T03:31:52.588Z"
   },
   {
    "duration": 9,
    "start_time": "2024-08-13T03:38:48.546Z"
   },
   {
    "duration": 12,
    "start_time": "2024-08-13T03:48:47.402Z"
   },
   {
    "duration": 198,
    "start_time": "2024-08-13T03:54:16.673Z"
   },
   {
    "duration": 11,
    "start_time": "2024-08-13T03:54:23.649Z"
   },
   {
    "duration": 6,
    "start_time": "2024-08-13T03:55:40.489Z"
   },
   {
    "duration": 30,
    "start_time": "2024-08-13T04:07:48.195Z"
   },
   {
    "duration": 5,
    "start_time": "2024-08-13T04:19:27.072Z"
   },
   {
    "duration": 7,
    "start_time": "2024-08-13T04:29:06.047Z"
   },
   {
    "duration": 13,
    "start_time": "2024-08-13T04:32:34.395Z"
   },
   {
    "duration": 1392,
    "start_time": "2024-08-13T04:32:45.931Z"
   },
   {
    "duration": 40,
    "start_time": "2024-08-13T04:32:47.327Z"
   },
   {
    "duration": 16,
    "start_time": "2024-08-13T04:32:47.370Z"
   },
   {
    "duration": 42,
    "start_time": "2024-08-13T04:32:47.390Z"
   },
   {
    "duration": 12,
    "start_time": "2024-08-13T04:32:47.436Z"
   },
   {
    "duration": 7,
    "start_time": "2024-08-13T04:32:47.453Z"
   },
   {
    "duration": 20,
    "start_time": "2024-08-13T04:32:47.464Z"
   },
   {
    "duration": 49,
    "start_time": "2024-08-13T04:32:47.487Z"
   },
   {
    "duration": 7,
    "start_time": "2024-08-13T04:36:24.425Z"
   },
   {
    "duration": 23,
    "start_time": "2024-08-13T04:36:30.289Z"
   },
   {
    "duration": 10,
    "start_time": "2024-08-13T04:38:04.645Z"
   },
   {
    "duration": 22,
    "start_time": "2024-08-13T04:38:12.138Z"
   },
   {
    "duration": 22,
    "start_time": "2024-08-13T04:38:33.898Z"
   },
   {
    "duration": 5041,
    "start_time": "2024-08-14T04:26:34.564Z"
   },
   {
    "duration": 59,
    "start_time": "2024-08-14T04:26:39.610Z"
   },
   {
    "duration": 21,
    "start_time": "2024-08-14T04:26:39.672Z"
   },
   {
    "duration": 7,
    "start_time": "2024-08-14T04:26:39.698Z"
   },
   {
    "duration": 16,
    "start_time": "2024-08-14T04:26:39.727Z"
   },
   {
    "duration": 11,
    "start_time": "2024-08-14T04:26:39.747Z"
   },
   {
    "duration": 7,
    "start_time": "2024-08-14T04:26:39.762Z"
   },
   {
    "duration": 65,
    "start_time": "2024-08-14T04:26:39.772Z"
   },
   {
    "duration": 14,
    "start_time": "2024-08-14T04:26:39.840Z"
   },
   {
    "duration": 13,
    "start_time": "2024-08-14T04:30:20.660Z"
   },
   {
    "duration": 13,
    "start_time": "2024-08-14T04:32:17.490Z"
   },
   {
    "duration": 15,
    "start_time": "2024-08-14T04:35:56.651Z"
   },
   {
    "duration": 18,
    "start_time": "2024-08-14T04:37:09.865Z"
   },
   {
    "duration": 1190,
    "start_time": "2024-08-14T04:40:41.936Z"
   },
   {
    "duration": 11,
    "start_time": "2024-08-14T04:41:39.679Z"
   },
   {
    "duration": 142,
    "start_time": "2024-08-14T04:41:58.879Z"
   },
   {
    "duration": 17,
    "start_time": "2024-08-14T04:48:01.838Z"
   },
   {
    "duration": 1336,
    "start_time": "2024-08-14T04:48:14.679Z"
   },
   {
    "duration": 46,
    "start_time": "2024-08-14T04:48:16.018Z"
   },
   {
    "duration": 16,
    "start_time": "2024-08-14T04:48:16.067Z"
   },
   {
    "duration": 8,
    "start_time": "2024-08-14T04:48:16.087Z"
   },
   {
    "duration": 41,
    "start_time": "2024-08-14T04:48:16.098Z"
   },
   {
    "duration": 10,
    "start_time": "2024-08-14T04:48:16.141Z"
   },
   {
    "duration": 7,
    "start_time": "2024-08-14T04:48:16.154Z"
   },
   {
    "duration": 66,
    "start_time": "2024-08-14T04:48:16.165Z"
   },
   {
    "duration": 12,
    "start_time": "2024-08-14T04:48:16.234Z"
   },
   {
    "duration": 12,
    "start_time": "2024-08-14T04:48:16.251Z"
   },
   {
    "duration": 20,
    "start_time": "2024-08-14T04:48:16.267Z"
   },
   {
    "duration": 1230,
    "start_time": "2024-08-14T04:48:16.289Z"
   },
   {
    "duration": 16,
    "start_time": "2024-08-14T04:48:29.656Z"
   },
   {
    "duration": 14,
    "start_time": "2024-08-14T04:48:53.816Z"
   },
   {
    "duration": 551,
    "start_time": "2024-08-14T04:51:22.778Z"
   },
   {
    "duration": 10,
    "start_time": "2024-08-14T05:05:37.851Z"
   },
   {
    "duration": 15,
    "start_time": "2024-08-14T05:05:46.156Z"
   },
   {
    "duration": 15,
    "start_time": "2024-08-14T05:08:21.457Z"
   },
   {
    "duration": 745,
    "start_time": "2024-08-14T05:09:06.451Z"
   },
   {
    "duration": 52,
    "start_time": "2024-08-14T05:09:35.838Z"
   },
   {
    "duration": 31,
    "start_time": "2024-08-14T05:46:00.285Z"
   },
   {
    "duration": 16,
    "start_time": "2024-08-14T05:49:25.906Z"
   },
   {
    "duration": 8,
    "start_time": "2024-08-14T05:50:36.078Z"
   },
   {
    "duration": 15,
    "start_time": "2024-08-14T05:50:46.801Z"
   },
   {
    "duration": 70,
    "start_time": "2024-08-14T05:53:16.155Z"
   },
   {
    "duration": 308,
    "start_time": "2024-08-15T03:20:04.784Z"
   },
   {
    "duration": 5028,
    "start_time": "2024-08-15T03:20:17.453Z"
   },
   {
    "duration": 52,
    "start_time": "2024-08-15T03:20:22.486Z"
   },
   {
    "duration": 20,
    "start_time": "2024-08-15T03:20:22.540Z"
   },
   {
    "duration": 8,
    "start_time": "2024-08-15T03:20:22.563Z"
   },
   {
    "duration": 16,
    "start_time": "2024-08-15T03:20:22.574Z"
   },
   {
    "duration": 11,
    "start_time": "2024-08-15T03:20:22.634Z"
   },
   {
    "duration": 8,
    "start_time": "2024-08-15T03:20:22.649Z"
   },
   {
    "duration": 26,
    "start_time": "2024-08-15T03:20:22.660Z"
   },
   {
    "duration": 48,
    "start_time": "2024-08-15T03:20:22.690Z"
   },
   {
    "duration": 12,
    "start_time": "2024-08-15T03:20:22.744Z"
   },
   {
    "duration": 18,
    "start_time": "2024-08-15T03:20:22.759Z"
   },
   {
    "duration": 583,
    "start_time": "2024-08-15T03:20:22.780Z"
   },
   {
    "duration": 17,
    "start_time": "2024-08-15T03:20:23.365Z"
   },
   {
    "duration": 76,
    "start_time": "2024-08-15T03:20:23.384Z"
   },
   {
    "duration": 20,
    "start_time": "2024-08-15T03:20:23.463Z"
   },
   {
    "duration": 55,
    "start_time": "2024-08-15T03:20:23.486Z"
   },
   {
    "duration": 86,
    "start_time": "2024-08-15T03:20:23.544Z"
   },
   {
    "duration": 18,
    "start_time": "2024-08-15T03:46:33.377Z"
   },
   {
    "duration": 18,
    "start_time": "2024-08-15T03:48:06.011Z"
   },
   {
    "duration": 195,
    "start_time": "2024-08-15T04:02:50.792Z"
   },
   {
    "duration": 184,
    "start_time": "2024-08-15T04:03:46.694Z"
   },
   {
    "duration": 186,
    "start_time": "2024-08-15T04:03:59.013Z"
   },
   {
    "duration": 10,
    "start_time": "2024-08-15T04:04:11.117Z"
   },
   {
    "duration": 410,
    "start_time": "2024-08-15T04:06:58.109Z"
   },
   {
    "duration": 17,
    "start_time": "2024-08-15T04:27:50.623Z"
   },
   {
    "duration": 10,
    "start_time": "2024-08-15T04:29:12.878Z"
   },
   {
    "duration": 11,
    "start_time": "2024-08-15T04:29:31.394Z"
   },
   {
    "duration": 15,
    "start_time": "2024-08-15T04:30:10.421Z"
   },
   {
    "duration": 14,
    "start_time": "2024-08-15T04:30:51.418Z"
   },
   {
    "duration": 508,
    "start_time": "2024-08-15T04:32:49.911Z"
   },
   {
    "duration": 497,
    "start_time": "2024-08-15T04:41:33.682Z"
   },
   {
    "duration": 605,
    "start_time": "2024-08-15T04:41:41.647Z"
   },
   {
    "duration": 507,
    "start_time": "2024-08-15T04:41:49.255Z"
   },
   {
    "duration": 568,
    "start_time": "2024-08-15T04:42:13.135Z"
   },
   {
    "duration": 1397,
    "start_time": "2024-08-15T04:42:24.623Z"
   },
   {
    "duration": 44,
    "start_time": "2024-08-15T04:42:26.023Z"
   },
   {
    "duration": 19,
    "start_time": "2024-08-15T04:42:26.069Z"
   },
   {
    "duration": 8,
    "start_time": "2024-08-15T04:42:26.092Z"
   },
   {
    "duration": 42,
    "start_time": "2024-08-15T04:42:26.102Z"
   },
   {
    "duration": 12,
    "start_time": "2024-08-15T04:42:26.147Z"
   },
   {
    "duration": 7,
    "start_time": "2024-08-15T04:42:26.162Z"
   },
   {
    "duration": 72,
    "start_time": "2024-08-15T04:42:26.172Z"
   },
   {
    "duration": 12,
    "start_time": "2024-08-15T04:42:26.247Z"
   },
   {
    "duration": 13,
    "start_time": "2024-08-15T04:42:26.265Z"
   },
   {
    "duration": 15,
    "start_time": "2024-08-15T04:42:26.281Z"
   },
   {
    "duration": 529,
    "start_time": "2024-08-15T04:42:26.330Z"
   },
   {
    "duration": 15,
    "start_time": "2024-08-15T04:42:26.863Z"
   },
   {
    "duration": 76,
    "start_time": "2024-08-15T04:42:26.880Z"
   },
   {
    "duration": 21,
    "start_time": "2024-08-15T04:42:26.959Z"
   },
   {
    "duration": 54,
    "start_time": "2024-08-15T04:42:26.983Z"
   },
   {
    "duration": 72,
    "start_time": "2024-08-15T04:42:27.040Z"
   },
   {
    "duration": 406,
    "start_time": "2024-08-15T04:42:27.131Z"
   },
   {
    "duration": 6,
    "start_time": "2024-08-15T04:42:27.540Z"
   },
   {
    "duration": 0,
    "start_time": "2024-08-15T04:42:27.549Z"
   },
   {
    "duration": 0,
    "start_time": "2024-08-15T04:42:27.552Z"
   },
   {
    "duration": 0,
    "start_time": "2024-08-15T04:42:27.554Z"
   },
   {
    "duration": 1383,
    "start_time": "2024-08-15T04:42:55.134Z"
   },
   {
    "duration": 47,
    "start_time": "2024-08-15T04:42:56.521Z"
   },
   {
    "duration": 16,
    "start_time": "2024-08-15T04:42:56.571Z"
   },
   {
    "duration": 8,
    "start_time": "2024-08-15T04:42:56.591Z"
   },
   {
    "duration": 16,
    "start_time": "2024-08-15T04:42:56.629Z"
   },
   {
    "duration": 10,
    "start_time": "2024-08-15T04:42:56.649Z"
   },
   {
    "duration": 7,
    "start_time": "2024-08-15T04:42:56.662Z"
   },
   {
    "duration": 59,
    "start_time": "2024-08-15T04:42:56.672Z"
   },
   {
    "duration": 12,
    "start_time": "2024-08-15T04:42:56.734Z"
   },
   {
    "duration": 12,
    "start_time": "2024-08-15T04:42:56.751Z"
   },
   {
    "duration": 15,
    "start_time": "2024-08-15T04:42:56.767Z"
   },
   {
    "duration": 580,
    "start_time": "2024-08-15T04:42:56.785Z"
   },
   {
    "duration": 16,
    "start_time": "2024-08-15T04:42:57.368Z"
   },
   {
    "duration": 71,
    "start_time": "2024-08-15T04:42:57.387Z"
   },
   {
    "duration": 18,
    "start_time": "2024-08-15T04:42:57.461Z"
   },
   {
    "duration": 54,
    "start_time": "2024-08-15T04:42:57.482Z"
   },
   {
    "duration": 70,
    "start_time": "2024-08-15T04:42:57.539Z"
   },
   {
    "duration": 414,
    "start_time": "2024-08-15T04:42:57.631Z"
   },
   {
    "duration": 11,
    "start_time": "2024-08-15T04:42:58.049Z"
   },
   {
    "duration": 15,
    "start_time": "2024-08-15T04:42:58.063Z"
   },
   {
    "duration": 558,
    "start_time": "2024-08-15T04:42:58.080Z"
   },
   {
    "duration": 502,
    "start_time": "2024-08-15T04:43:24.851Z"
   },
   {
    "duration": 505,
    "start_time": "2024-08-15T04:43:40.760Z"
   },
   {
    "duration": 583,
    "start_time": "2024-08-15T04:43:55.264Z"
   },
   {
    "duration": 551,
    "start_time": "2024-08-15T04:44:41.965Z"
   },
   {
    "duration": 498,
    "start_time": "2024-08-15T04:44:49.083Z"
   },
   {
    "duration": 502,
    "start_time": "2024-08-15T04:45:14.275Z"
   },
   {
    "duration": 488,
    "start_time": "2024-08-15T04:45:46.709Z"
   },
   {
    "duration": 493,
    "start_time": "2024-08-15T04:46:08.578Z"
   },
   {
    "duration": 16,
    "start_time": "2024-08-15T04:51:24.803Z"
   },
   {
    "duration": 7,
    "start_time": "2024-08-15T04:52:06.900Z"
   },
   {
    "duration": 11,
    "start_time": "2024-08-15T04:52:17.537Z"
   },
   {
    "duration": 4,
    "start_time": "2024-08-15T04:58:31.826Z"
   },
   {
    "duration": 17,
    "start_time": "2024-08-15T05:01:41.584Z"
   },
   {
    "duration": 5138,
    "start_time": "2024-08-16T00:18:27.112Z"
   },
   {
    "duration": 57,
    "start_time": "2024-08-16T00:18:32.254Z"
   },
   {
    "duration": 17,
    "start_time": "2024-08-16T00:18:32.314Z"
   },
   {
    "duration": 7,
    "start_time": "2024-08-16T00:18:32.337Z"
   },
   {
    "duration": 32,
    "start_time": "2024-08-16T00:18:32.347Z"
   },
   {
    "duration": 10,
    "start_time": "2024-08-16T00:18:32.383Z"
   },
   {
    "duration": 8,
    "start_time": "2024-08-16T00:18:32.396Z"
   },
   {
    "duration": 63,
    "start_time": "2024-08-16T00:18:32.407Z"
   },
   {
    "duration": 13,
    "start_time": "2024-08-16T00:18:32.473Z"
   },
   {
    "duration": 12,
    "start_time": "2024-08-16T00:18:32.493Z"
   },
   {
    "duration": 15,
    "start_time": "2024-08-16T00:18:32.508Z"
   },
   {
    "duration": 578,
    "start_time": "2024-08-16T00:18:32.526Z"
   },
   {
    "duration": 18,
    "start_time": "2024-08-16T00:18:33.107Z"
   },
   {
    "duration": 79,
    "start_time": "2024-08-16T00:18:33.127Z"
   },
   {
    "duration": 66,
    "start_time": "2024-08-16T00:18:33.209Z"
   },
   {
    "duration": 16,
    "start_time": "2024-08-16T00:18:33.277Z"
   },
   {
    "duration": 96,
    "start_time": "2024-08-16T00:18:33.295Z"
   },
   {
    "duration": 474,
    "start_time": "2024-08-16T00:18:33.394Z"
   },
   {
    "duration": 12,
    "start_time": "2024-08-16T00:18:33.872Z"
   },
   {
    "duration": 550,
    "start_time": "2024-08-16T00:18:33.887Z"
   },
   {
    "duration": 32,
    "start_time": "2024-08-16T00:18:34.440Z"
   },
   {
    "duration": 20,
    "start_time": "2024-08-16T00:18:34.476Z"
   },
   {
    "duration": 25,
    "start_time": "2024-08-16T00:19:21.959Z"
   },
   {
    "duration": 25,
    "start_time": "2024-08-16T00:19:25.887Z"
   },
   {
    "duration": 27,
    "start_time": "2024-08-16T00:19:53.687Z"
   },
   {
    "duration": 20,
    "start_time": "2024-08-16T00:19:57.141Z"
   },
   {
    "duration": 34,
    "start_time": "2024-08-16T00:22:07.719Z"
   },
   {
    "duration": 19,
    "start_time": "2024-08-16T00:22:09.705Z"
   },
   {
    "duration": 55,
    "start_time": "2024-08-16T00:24:45.863Z"
   },
   {
    "duration": 15,
    "start_time": "2024-08-16T00:31:50.753Z"
   },
   {
    "duration": 13,
    "start_time": "2024-08-16T00:33:08.095Z"
   },
   {
    "duration": 16,
    "start_time": "2024-08-16T00:40:05.613Z"
   },
   {
    "duration": 18,
    "start_time": "2024-08-16T00:40:24.108Z"
   },
   {
    "duration": 18,
    "start_time": "2024-08-16T00:41:39.754Z"
   },
   {
    "duration": 19,
    "start_time": "2024-08-16T00:42:01.588Z"
   },
   {
    "duration": 63,
    "start_time": "2024-08-16T00:52:59.742Z"
   },
   {
    "duration": 19,
    "start_time": "2024-08-16T00:55:53.410Z"
   },
   {
    "duration": 64,
    "start_time": "2024-08-16T00:55:56.507Z"
   },
   {
    "duration": 8,
    "start_time": "2024-08-16T00:56:25.202Z"
   },
   {
    "duration": 20,
    "start_time": "2024-08-16T01:00:03.280Z"
   },
   {
    "duration": 7,
    "start_time": "2024-08-16T01:02:59.528Z"
   },
   {
    "duration": 580,
    "start_time": "2024-08-16T01:03:31.092Z"
   },
   {
    "duration": 8,
    "start_time": "2024-08-16T01:03:40.044Z"
   },
   {
    "duration": 5,
    "start_time": "2024-08-16T01:05:19.948Z"
   },
   {
    "duration": 6,
    "start_time": "2024-08-16T01:05:25.729Z"
   },
   {
    "duration": 6,
    "start_time": "2024-08-16T01:05:27.734Z"
   },
   {
    "duration": 21,
    "start_time": "2024-08-16T01:06:39.860Z"
   },
   {
    "duration": 19,
    "start_time": "2024-08-16T01:19:09.394Z"
   },
   {
    "duration": 16,
    "start_time": "2024-08-16T01:20:29.619Z"
   },
   {
    "duration": 139,
    "start_time": "2024-08-16T01:22:57.149Z"
   },
   {
    "duration": 3095,
    "start_time": "2024-08-16T01:30:20.581Z"
   },
   {
    "duration": 3254,
    "start_time": "2024-08-16T01:31:13.893Z"
   },
   {
    "duration": 3176,
    "start_time": "2024-08-16T01:32:04.563Z"
   },
   {
    "duration": 67,
    "start_time": "2024-08-16T01:39:46.699Z"
   },
   {
    "duration": 4,
    "start_time": "2024-08-16T01:43:52.440Z"
   },
   {
    "duration": 515,
    "start_time": "2024-08-16T01:44:00.138Z"
   },
   {
    "duration": 4,
    "start_time": "2024-08-16T01:44:58.889Z"
   },
   {
    "duration": 529,
    "start_time": "2024-08-16T01:45:30.154Z"
   },
   {
    "duration": 51,
    "start_time": "2024-08-16T01:46:33.277Z"
   },
   {
    "duration": 80,
    "start_time": "2024-08-16T01:50:28.247Z"
   },
   {
    "duration": 53,
    "start_time": "2024-08-16T01:51:12.517Z"
   },
   {
    "duration": 723,
    "start_time": "2024-08-16T01:51:43.318Z"
   },
   {
    "duration": 382,
    "start_time": "2024-08-16T01:55:51.042Z"
   },
   {
    "duration": 688,
    "start_time": "2024-08-16T02:00:24.643Z"
   },
   {
    "duration": 528,
    "start_time": "2024-08-16T02:01:19.639Z"
   },
   {
    "duration": 492,
    "start_time": "2024-08-16T02:02:24.341Z"
   },
   {
    "duration": 642,
    "start_time": "2024-08-16T02:02:47.879Z"
   },
   {
    "duration": 593,
    "start_time": "2024-08-16T02:03:33.474Z"
   },
   {
    "duration": 520,
    "start_time": "2024-08-16T02:03:51.252Z"
   },
   {
    "duration": 676,
    "start_time": "2024-08-16T02:04:19.240Z"
   },
   {
    "duration": 712,
    "start_time": "2024-08-16T02:05:47.000Z"
   },
   {
    "duration": 839,
    "start_time": "2024-08-16T02:06:10.367Z"
   },
   {
    "duration": 1383,
    "start_time": "2024-08-16T02:57:31.479Z"
   },
   {
    "duration": 50,
    "start_time": "2024-08-16T02:57:32.866Z"
   },
   {
    "duration": 20,
    "start_time": "2024-08-16T02:57:32.919Z"
   },
   {
    "duration": 7,
    "start_time": "2024-08-16T02:57:32.967Z"
   },
   {
    "duration": 16,
    "start_time": "2024-08-16T02:57:32.977Z"
   },
   {
    "duration": 11,
    "start_time": "2024-08-16T02:57:32.997Z"
   },
   {
    "duration": 7,
    "start_time": "2024-08-16T02:57:33.011Z"
   },
   {
    "duration": 68,
    "start_time": "2024-08-16T02:57:33.021Z"
   },
   {
    "duration": 11,
    "start_time": "2024-08-16T02:57:33.091Z"
   },
   {
    "duration": 19,
    "start_time": "2024-08-16T02:57:33.107Z"
   },
   {
    "duration": 49,
    "start_time": "2024-08-16T02:57:33.129Z"
   },
   {
    "duration": 1132,
    "start_time": "2024-08-16T02:57:33.182Z"
   },
   {
    "duration": 0,
    "start_time": "2024-08-16T02:57:34.317Z"
   },
   {
    "duration": 0,
    "start_time": "2024-08-16T02:57:34.319Z"
   },
   {
    "duration": 0,
    "start_time": "2024-08-16T02:57:34.322Z"
   },
   {
    "duration": 0,
    "start_time": "2024-08-16T02:57:34.324Z"
   },
   {
    "duration": 0,
    "start_time": "2024-08-16T02:57:34.327Z"
   },
   {
    "duration": 0,
    "start_time": "2024-08-16T02:57:34.329Z"
   },
   {
    "duration": 0,
    "start_time": "2024-08-16T02:57:34.331Z"
   },
   {
    "duration": 0,
    "start_time": "2024-08-16T02:57:34.333Z"
   },
   {
    "duration": 0,
    "start_time": "2024-08-16T02:57:34.335Z"
   },
   {
    "duration": 0,
    "start_time": "2024-08-16T02:57:34.369Z"
   },
   {
    "duration": 0,
    "start_time": "2024-08-16T02:57:34.372Z"
   },
   {
    "duration": 0,
    "start_time": "2024-08-16T02:57:34.374Z"
   },
   {
    "duration": 0,
    "start_time": "2024-08-16T02:57:34.376Z"
   },
   {
    "duration": 0,
    "start_time": "2024-08-16T02:57:34.378Z"
   },
   {
    "duration": 0,
    "start_time": "2024-08-16T02:57:34.379Z"
   },
   {
    "duration": 0,
    "start_time": "2024-08-16T02:57:34.382Z"
   },
   {
    "duration": 0,
    "start_time": "2024-08-16T02:57:34.384Z"
   },
   {
    "duration": 0,
    "start_time": "2024-08-16T02:57:34.386Z"
   },
   {
    "duration": 0,
    "start_time": "2024-08-16T02:57:34.388Z"
   },
   {
    "duration": 16,
    "start_time": "2024-08-16T02:58:27.992Z"
   },
   {
    "duration": 591,
    "start_time": "2024-08-16T02:58:47.617Z"
   },
   {
    "duration": 17,
    "start_time": "2024-08-16T02:59:26.544Z"
   },
   {
    "duration": 55,
    "start_time": "2024-08-16T02:59:28.359Z"
   },
   {
    "duration": 5179,
    "start_time": "2024-08-16T03:29:32.798Z"
   },
   {
    "duration": 55,
    "start_time": "2024-08-16T03:29:37.980Z"
   },
   {
    "duration": 17,
    "start_time": "2024-08-16T03:29:38.041Z"
   },
   {
    "duration": 8,
    "start_time": "2024-08-16T03:29:38.061Z"
   },
   {
    "duration": 16,
    "start_time": "2024-08-16T03:29:38.074Z"
   },
   {
    "duration": 46,
    "start_time": "2024-08-16T03:29:38.093Z"
   },
   {
    "duration": 7,
    "start_time": "2024-08-16T03:29:38.142Z"
   },
   {
    "duration": 22,
    "start_time": "2024-08-16T03:29:38.152Z"
   },
   {
    "duration": 11,
    "start_time": "2024-08-16T03:29:38.177Z"
   },
   {
    "duration": 57,
    "start_time": "2024-08-16T03:29:38.191Z"
   },
   {
    "duration": 13,
    "start_time": "2024-08-16T03:29:38.251Z"
   },
   {
    "duration": 16,
    "start_time": "2024-08-16T03:29:38.268Z"
   },
   {
    "duration": 575,
    "start_time": "2024-08-16T03:29:38.287Z"
   },
   {
    "duration": 16,
    "start_time": "2024-08-16T03:29:38.868Z"
   },
   {
    "duration": 81,
    "start_time": "2024-08-16T03:29:38.887Z"
   },
   {
    "duration": 64,
    "start_time": "2024-08-16T03:29:38.971Z"
   },
   {
    "duration": 1218,
    "start_time": "2024-08-16T03:29:39.038Z"
   },
   {
    "duration": 0,
    "start_time": "2024-08-16T03:29:40.259Z"
   },
   {
    "duration": 0,
    "start_time": "2024-08-16T03:29:40.261Z"
   },
   {
    "duration": 0,
    "start_time": "2024-08-16T03:29:40.263Z"
   },
   {
    "duration": 0,
    "start_time": "2024-08-16T03:29:40.266Z"
   },
   {
    "duration": 0,
    "start_time": "2024-08-16T03:29:40.269Z"
   },
   {
    "duration": 0,
    "start_time": "2024-08-16T03:29:40.271Z"
   },
   {
    "duration": 0,
    "start_time": "2024-08-16T03:29:40.273Z"
   },
   {
    "duration": 0,
    "start_time": "2024-08-16T03:29:40.275Z"
   },
   {
    "duration": 0,
    "start_time": "2024-08-16T03:29:40.277Z"
   },
   {
    "duration": 0,
    "start_time": "2024-08-16T03:29:40.279Z"
   },
   {
    "duration": 0,
    "start_time": "2024-08-16T03:29:40.281Z"
   },
   {
    "duration": 0,
    "start_time": "2024-08-16T03:29:40.283Z"
   },
   {
    "duration": 0,
    "start_time": "2024-08-16T03:29:40.285Z"
   },
   {
    "duration": 0,
    "start_time": "2024-08-16T03:29:40.332Z"
   },
   {
    "duration": 14,
    "start_time": "2024-08-16T03:57:58.167Z"
   },
   {
    "duration": 43,
    "start_time": "2024-08-16T03:58:01.441Z"
   },
   {
    "duration": 71,
    "start_time": "2024-08-16T03:58:24.316Z"
   },
   {
    "duration": 762,
    "start_time": "2024-08-16T03:58:34.334Z"
   },
   {
    "duration": 401,
    "start_time": "2024-08-16T03:58:46.145Z"
   },
   {
    "duration": 202,
    "start_time": "2024-08-16T03:59:31.668Z"
   },
   {
    "duration": 18,
    "start_time": "2024-08-16T03:59:35.909Z"
   },
   {
    "duration": 11,
    "start_time": "2024-08-16T03:59:38.429Z"
   },
   {
    "duration": 695,
    "start_time": "2024-08-16T04:00:44.761Z"
   },
   {
    "duration": 719,
    "start_time": "2024-08-16T04:01:23.770Z"
   },
   {
    "duration": 541,
    "start_time": "2024-08-16T04:01:27.801Z"
   },
   {
    "duration": 4,
    "start_time": "2024-08-16T04:01:38.941Z"
   },
   {
    "duration": 4,
    "start_time": "2024-08-16T04:01:47.170Z"
   },
   {
    "duration": 49,
    "start_time": "2024-08-16T04:01:48.648Z"
   },
   {
    "duration": 386,
    "start_time": "2024-08-16T04:01:52.374Z"
   },
   {
    "duration": 18,
    "start_time": "2024-08-16T04:02:06.695Z"
   },
   {
    "duration": 67,
    "start_time": "2024-08-16T04:02:19.512Z"
   },
   {
    "duration": 22,
    "start_time": "2024-08-16T04:13:44.433Z"
   },
   {
    "duration": 7,
    "start_time": "2024-08-16T04:16:12.071Z"
   },
   {
    "duration": 4,
    "start_time": "2024-08-16T04:16:13.558Z"
   },
   {
    "duration": 7,
    "start_time": "2024-08-16T04:16:14.611Z"
   },
   {
    "duration": 6,
    "start_time": "2024-08-16T04:27:12.649Z"
   },
   {
    "duration": 4,
    "start_time": "2024-08-16T04:28:27.679Z"
   },
   {
    "duration": 61,
    "start_time": "2024-08-16T04:28:29.165Z"
   },
   {
    "duration": 7,
    "start_time": "2024-08-16T04:42:02.244Z"
   },
   {
    "duration": 26,
    "start_time": "2024-08-16T04:42:29.359Z"
   },
   {
    "duration": 7,
    "start_time": "2024-08-16T04:42:40.205Z"
   },
   {
    "duration": 30,
    "start_time": "2024-08-16T04:49:10.022Z"
   },
   {
    "duration": 5,
    "start_time": "2024-08-16T04:49:12.476Z"
   },
   {
    "duration": 34,
    "start_time": "2024-08-16T04:49:13.995Z"
   },
   {
    "duration": 23,
    "start_time": "2024-08-16T04:49:33.623Z"
   },
   {
    "duration": 11,
    "start_time": "2024-08-16T05:13:47.053Z"
   },
   {
    "duration": 463,
    "start_time": "2024-08-16T05:15:15.803Z"
   },
   {
    "duration": 450,
    "start_time": "2024-08-16T05:17:16.353Z"
   },
   {
    "duration": 24,
    "start_time": "2024-08-16T05:19:26.422Z"
   },
   {
    "duration": 140,
    "start_time": "2024-08-16T05:19:38.565Z"
   },
   {
    "duration": 765,
    "start_time": "2024-08-16T05:25:14.036Z"
   },
   {
    "duration": 522,
    "start_time": "2024-08-16T05:49:14.436Z"
   },
   {
    "duration": 683,
    "start_time": "2024-08-16T05:50:35.615Z"
   },
   {
    "duration": 752,
    "start_time": "2024-08-16T05:51:12.136Z"
   },
   {
    "duration": 696,
    "start_time": "2024-08-16T05:51:30.209Z"
   },
   {
    "duration": 700,
    "start_time": "2024-08-16T05:51:52.246Z"
   },
   {
    "duration": 5261,
    "start_time": "2024-08-17T00:23:46.947Z"
   },
   {
    "duration": 64,
    "start_time": "2024-08-17T00:23:52.213Z"
   },
   {
    "duration": 19,
    "start_time": "2024-08-17T00:23:52.280Z"
   },
   {
    "duration": 7,
    "start_time": "2024-08-17T00:23:52.304Z"
   },
   {
    "duration": 17,
    "start_time": "2024-08-17T00:23:52.314Z"
   },
   {
    "duration": 44,
    "start_time": "2024-08-17T00:23:52.334Z"
   },
   {
    "duration": 7,
    "start_time": "2024-08-17T00:23:52.381Z"
   },
   {
    "duration": 26,
    "start_time": "2024-08-17T00:23:52.391Z"
   },
   {
    "duration": 49,
    "start_time": "2024-08-17T00:23:52.420Z"
   },
   {
    "duration": 22,
    "start_time": "2024-08-17T00:23:52.474Z"
   },
   {
    "duration": 14,
    "start_time": "2024-08-17T00:23:52.499Z"
   },
   {
    "duration": 56,
    "start_time": "2024-08-17T00:23:52.515Z"
   },
   {
    "duration": 548,
    "start_time": "2024-08-17T00:23:52.575Z"
   },
   {
    "duration": 16,
    "start_time": "2024-08-17T00:23:53.126Z"
   },
   {
    "duration": 130,
    "start_time": "2024-08-17T00:23:53.145Z"
   },
   {
    "duration": 26,
    "start_time": "2024-08-17T00:23:53.279Z"
   },
   {
    "duration": 15,
    "start_time": "2024-08-17T00:23:53.309Z"
   },
   {
    "duration": 105,
    "start_time": "2024-08-17T00:23:53.326Z"
   },
   {
    "duration": 700,
    "start_time": "2024-08-17T00:23:53.435Z"
   },
   {
    "duration": 13,
    "start_time": "2024-08-17T00:23:54.138Z"
   },
   {
    "duration": 545,
    "start_time": "2024-08-17T00:23:54.153Z"
   },
   {
    "duration": 533,
    "start_time": "2024-08-17T00:23:54.702Z"
   },
   {
    "duration": 5,
    "start_time": "2024-08-17T00:23:55.238Z"
   },
   {
    "duration": 25,
    "start_time": "2024-08-17T00:23:55.245Z"
   },
   {
    "duration": 49,
    "start_time": "2024-08-17T00:23:55.274Z"
   },
   {
    "duration": 44,
    "start_time": "2024-08-17T00:23:55.326Z"
   },
   {
    "duration": 72,
    "start_time": "2024-08-17T00:23:55.374Z"
   },
   {
    "duration": 21,
    "start_time": "2024-08-17T00:23:55.475Z"
   },
   {
    "duration": 9,
    "start_time": "2024-08-17T00:23:55.499Z"
   },
   {
    "duration": 5,
    "start_time": "2024-08-17T00:23:55.511Z"
   },
   {
    "duration": 5,
    "start_time": "2024-08-17T00:23:55.519Z"
   },
   {
    "duration": 6,
    "start_time": "2024-08-17T00:23:55.569Z"
   },
   {
    "duration": 5,
    "start_time": "2024-08-17T00:23:55.578Z"
   },
   {
    "duration": 83,
    "start_time": "2024-08-17T00:23:55.587Z"
   },
   {
    "duration": 8,
    "start_time": "2024-08-17T00:23:55.673Z"
   },
   {
    "duration": 7,
    "start_time": "2024-08-17T00:23:55.685Z"
   },
   {
    "duration": 22,
    "start_time": "2024-08-17T00:23:55.696Z"
   },
   {
    "duration": 51,
    "start_time": "2024-08-17T00:23:55.721Z"
   },
   {
    "duration": 751,
    "start_time": "2024-08-17T00:23:55.776Z"
   },
   {
    "duration": 13,
    "start_time": "2024-08-17T00:32:49.037Z"
   },
   {
    "duration": 184,
    "start_time": "2024-08-17T00:33:30.806Z"
   },
   {
    "duration": 25,
    "start_time": "2024-08-17T01:15:49.059Z"
   },
   {
    "duration": 213,
    "start_time": "2024-08-17T01:15:52.767Z"
   },
   {
    "duration": 958,
    "start_time": "2024-08-17T01:16:50.883Z"
   },
   {
    "duration": 224,
    "start_time": "2024-08-17T01:17:44.548Z"
   },
   {
    "duration": 219,
    "start_time": "2024-08-17T01:18:00.345Z"
   },
   {
    "duration": 204,
    "start_time": "2024-08-17T01:18:16.088Z"
   },
   {
    "duration": 202,
    "start_time": "2024-08-17T01:18:34.737Z"
   },
   {
    "duration": 352,
    "start_time": "2024-08-17T01:19:04.892Z"
   },
   {
    "duration": 181,
    "start_time": "2024-08-17T01:19:21.941Z"
   },
   {
    "duration": 246,
    "start_time": "2024-08-17T01:19:39.621Z"
   },
   {
    "duration": 244,
    "start_time": "2024-08-17T01:20:00.355Z"
   },
   {
    "duration": 277,
    "start_time": "2024-08-17T01:20:15.317Z"
   },
   {
    "duration": 264,
    "start_time": "2024-08-17T01:20:30.783Z"
   },
   {
    "duration": 200,
    "start_time": "2024-08-17T01:20:55.793Z"
   },
   {
    "duration": 240,
    "start_time": "2024-08-17T01:21:17.772Z"
   },
   {
    "duration": 1408,
    "start_time": "2024-08-17T01:22:22.888Z"
   },
   {
    "duration": 45,
    "start_time": "2024-08-17T01:22:24.302Z"
   },
   {
    "duration": 35,
    "start_time": "2024-08-17T01:22:24.351Z"
   },
   {
    "duration": 8,
    "start_time": "2024-08-17T01:22:24.392Z"
   },
   {
    "duration": 19,
    "start_time": "2024-08-17T01:22:24.402Z"
   },
   {
    "duration": 53,
    "start_time": "2024-08-17T01:22:24.424Z"
   },
   {
    "duration": 8,
    "start_time": "2024-08-17T01:22:24.480Z"
   },
   {
    "duration": 31,
    "start_time": "2024-08-17T01:22:24.492Z"
   },
   {
    "duration": 45,
    "start_time": "2024-08-17T01:22:24.527Z"
   },
   {
    "duration": 22,
    "start_time": "2024-08-17T01:22:24.580Z"
   },
   {
    "duration": 17,
    "start_time": "2024-08-17T01:22:24.605Z"
   },
   {
    "duration": 48,
    "start_time": "2024-08-17T01:22:24.627Z"
   },
   {
    "duration": 561,
    "start_time": "2024-08-17T01:22:24.678Z"
   },
   {
    "duration": 28,
    "start_time": "2024-08-17T01:22:25.243Z"
   },
   {
    "duration": 124,
    "start_time": "2024-08-17T01:22:25.274Z"
   },
   {
    "duration": 20,
    "start_time": "2024-08-17T01:22:25.401Z"
   },
   {
    "duration": 47,
    "start_time": "2024-08-17T01:22:25.424Z"
   },
   {
    "duration": 112,
    "start_time": "2024-08-17T01:22:25.474Z"
   },
   {
    "duration": 756,
    "start_time": "2024-08-17T01:22:25.590Z"
   },
   {
    "duration": 23,
    "start_time": "2024-08-17T01:22:26.349Z"
   },
   {
    "duration": 18,
    "start_time": "2024-08-17T01:22:26.376Z"
   },
   {
    "duration": 241,
    "start_time": "2024-08-17T01:22:26.397Z"
   },
   {
    "duration": 5,
    "start_time": "2024-08-17T01:22:26.641Z"
   },
   {
    "duration": 19,
    "start_time": "2024-08-17T01:22:26.650Z"
   },
   {
    "duration": 56,
    "start_time": "2024-08-17T01:22:26.672Z"
   },
   {
    "duration": 48,
    "start_time": "2024-08-17T01:22:26.732Z"
   },
   {
    "duration": 85,
    "start_time": "2024-08-17T01:22:26.783Z"
   },
   {
    "duration": 26,
    "start_time": "2024-08-17T01:22:26.877Z"
   },
   {
    "duration": 10,
    "start_time": "2024-08-17T01:22:26.907Z"
   },
   {
    "duration": 6,
    "start_time": "2024-08-17T01:22:26.920Z"
   },
   {
    "duration": 42,
    "start_time": "2024-08-17T01:22:26.930Z"
   },
   {
    "duration": 8,
    "start_time": "2024-08-17T01:22:26.976Z"
   },
   {
    "duration": 6,
    "start_time": "2024-08-17T01:22:26.988Z"
   },
   {
    "duration": 92,
    "start_time": "2024-08-17T01:22:26.997Z"
   },
   {
    "duration": 9,
    "start_time": "2024-08-17T01:22:27.092Z"
   },
   {
    "duration": 4,
    "start_time": "2024-08-17T01:22:27.104Z"
   },
   {
    "duration": 60,
    "start_time": "2024-08-17T01:22:27.112Z"
   },
   {
    "duration": 11,
    "start_time": "2024-08-17T01:22:27.175Z"
   },
   {
    "duration": 897,
    "start_time": "2024-08-17T01:22:27.189Z"
   },
   {
    "duration": 1901,
    "start_time": "2024-08-17T01:44:35.889Z"
   },
   {
    "duration": 255,
    "start_time": "2024-08-17T01:45:07.729Z"
   },
   {
    "duration": 238,
    "start_time": "2024-08-17T02:09:48.953Z"
   },
   {
    "duration": 205,
    "start_time": "2024-08-17T02:12:30.729Z"
   },
   {
    "duration": 258,
    "start_time": "2024-08-17T02:28:29.871Z"
   },
   {
    "duration": 1392,
    "start_time": "2024-08-17T02:28:51.781Z"
   },
   {
    "duration": 40,
    "start_time": "2024-08-17T02:28:53.177Z"
   },
   {
    "duration": 18,
    "start_time": "2024-08-17T02:28:53.220Z"
   },
   {
    "duration": 30,
    "start_time": "2024-08-17T02:28:53.242Z"
   },
   {
    "duration": 17,
    "start_time": "2024-08-17T02:28:53.275Z"
   },
   {
    "duration": 10,
    "start_time": "2024-08-17T02:28:53.295Z"
   },
   {
    "duration": 8,
    "start_time": "2024-08-17T02:28:53.308Z"
   },
   {
    "duration": 67,
    "start_time": "2024-08-17T02:28:53.319Z"
   },
   {
    "duration": 12,
    "start_time": "2024-08-17T02:28:53.388Z"
   },
   {
    "duration": 18,
    "start_time": "2024-08-17T02:28:53.406Z"
   },
   {
    "duration": 49,
    "start_time": "2024-08-17T02:28:53.427Z"
   },
   {
    "duration": 18,
    "start_time": "2024-08-17T02:28:53.479Z"
   },
   {
    "duration": 560,
    "start_time": "2024-08-17T02:28:53.500Z"
   },
   {
    "duration": 17,
    "start_time": "2024-08-17T02:28:54.063Z"
   },
   {
    "duration": 112,
    "start_time": "2024-08-17T02:28:54.083Z"
   },
   {
    "duration": 18,
    "start_time": "2024-08-17T02:28:54.199Z"
   },
   {
    "duration": 54,
    "start_time": "2024-08-17T02:28:54.220Z"
   },
   {
    "duration": 96,
    "start_time": "2024-08-17T02:28:54.277Z"
   },
   {
    "duration": 740,
    "start_time": "2024-08-17T02:28:54.376Z"
   },
   {
    "duration": 11,
    "start_time": "2024-08-17T02:28:55.120Z"
   },
   {
    "duration": 35,
    "start_time": "2024-08-17T02:28:55.134Z"
   },
   {
    "duration": 217,
    "start_time": "2024-08-17T02:28:55.172Z"
   },
   {
    "duration": 5,
    "start_time": "2024-08-17T02:28:55.392Z"
   },
   {
    "duration": 5,
    "start_time": "2024-08-17T02:28:55.400Z"
   },
   {
    "duration": 80,
    "start_time": "2024-08-17T02:28:55.408Z"
   },
   {
    "duration": 20,
    "start_time": "2024-08-17T02:28:55.491Z"
   },
   {
    "duration": 92,
    "start_time": "2024-08-17T02:28:55.514Z"
   },
   {
    "duration": 260,
    "start_time": "2024-08-17T02:28:55.613Z"
   },
   {
    "duration": 22,
    "start_time": "2024-08-17T02:28:55.876Z"
   },
   {
    "duration": 11,
    "start_time": "2024-08-17T02:28:55.901Z"
   },
   {
    "duration": 5,
    "start_time": "2024-08-17T02:28:55.915Z"
   },
   {
    "duration": 44,
    "start_time": "2024-08-17T02:28:55.924Z"
   },
   {
    "duration": 7,
    "start_time": "2024-08-17T02:28:55.972Z"
   },
   {
    "duration": 5,
    "start_time": "2024-08-17T02:28:55.984Z"
   },
   {
    "duration": 181,
    "start_time": "2024-08-17T02:28:55.992Z"
   },
   {
    "duration": 8,
    "start_time": "2024-08-17T02:28:56.177Z"
   },
   {
    "duration": 7,
    "start_time": "2024-08-17T02:28:56.189Z"
   },
   {
    "duration": 23,
    "start_time": "2024-08-17T02:28:56.199Z"
   },
   {
    "duration": 49,
    "start_time": "2024-08-17T02:28:56.226Z"
   },
   {
    "duration": 759,
    "start_time": "2024-08-17T02:28:56.279Z"
   },
   {
    "duration": 656,
    "start_time": "2024-08-17T02:30:33.367Z"
   },
   {
    "duration": 251,
    "start_time": "2024-08-17T02:30:46.233Z"
   },
   {
    "duration": 242,
    "start_time": "2024-08-17T02:31:14.258Z"
   },
   {
    "duration": 250,
    "start_time": "2024-08-17T02:33:36.447Z"
   },
   {
    "duration": 243,
    "start_time": "2024-08-17T02:33:51.208Z"
   },
   {
    "duration": 241,
    "start_time": "2024-08-17T02:34:01.551Z"
   },
   {
    "duration": 256,
    "start_time": "2024-08-17T02:34:42.817Z"
   },
   {
    "duration": 66,
    "start_time": "2024-08-17T02:35:54.851Z"
   },
   {
    "duration": 1382,
    "start_time": "2024-08-17T02:36:03.916Z"
   },
   {
    "duration": 40,
    "start_time": "2024-08-17T02:36:05.301Z"
   },
   {
    "duration": 37,
    "start_time": "2024-08-17T02:36:05.345Z"
   },
   {
    "duration": 8,
    "start_time": "2024-08-17T02:36:05.387Z"
   },
   {
    "duration": 16,
    "start_time": "2024-08-17T02:36:05.398Z"
   },
   {
    "duration": 12,
    "start_time": "2024-08-17T02:36:05.416Z"
   },
   {
    "duration": 7,
    "start_time": "2024-08-17T02:36:05.469Z"
   },
   {
    "duration": 22,
    "start_time": "2024-08-17T02:36:05.480Z"
   },
   {
    "duration": 11,
    "start_time": "2024-08-17T02:36:05.505Z"
   },
   {
    "duration": 64,
    "start_time": "2024-08-17T02:36:05.523Z"
   },
   {
    "duration": 14,
    "start_time": "2024-08-17T02:36:05.589Z"
   },
   {
    "duration": 16,
    "start_time": "2024-08-17T02:36:05.607Z"
   },
   {
    "duration": 586,
    "start_time": "2024-08-17T02:36:05.626Z"
   },
   {
    "duration": 15,
    "start_time": "2024-08-17T02:36:06.215Z"
   },
   {
    "duration": 74,
    "start_time": "2024-08-17T02:36:06.232Z"
   },
   {
    "duration": 60,
    "start_time": "2024-08-17T02:36:06.310Z"
   },
   {
    "duration": 16,
    "start_time": "2024-08-17T02:36:06.374Z"
   },
   {
    "duration": 106,
    "start_time": "2024-08-17T02:36:06.393Z"
   },
   {
    "duration": 723,
    "start_time": "2024-08-17T02:36:06.502Z"
   },
   {
    "duration": 11,
    "start_time": "2024-08-17T02:36:07.228Z"
   },
   {
    "duration": 36,
    "start_time": "2024-08-17T02:36:07.243Z"
   },
   {
    "duration": 235,
    "start_time": "2024-08-17T02:36:07.283Z"
   },
   {
    "duration": 5,
    "start_time": "2024-08-17T02:36:07.521Z"
   },
   {
    "duration": 5,
    "start_time": "2024-08-17T02:36:07.528Z"
   },
   {
    "duration": 77,
    "start_time": "2024-08-17T02:36:07.537Z"
   },
   {
    "duration": 19,
    "start_time": "2024-08-17T02:36:07.617Z"
   },
   {
    "duration": 92,
    "start_time": "2024-08-17T02:36:07.639Z"
   },
   {
    "duration": 317,
    "start_time": "2024-08-17T02:36:07.740Z"
   },
   {
    "duration": 24,
    "start_time": "2024-08-17T02:36:08.069Z"
   },
   {
    "duration": 9,
    "start_time": "2024-08-17T02:36:08.100Z"
   },
   {
    "duration": 5,
    "start_time": "2024-08-17T02:36:08.113Z"
   },
   {
    "duration": 6,
    "start_time": "2024-08-17T02:36:08.122Z"
   },
   {
    "duration": 6,
    "start_time": "2024-08-17T02:36:08.170Z"
   },
   {
    "duration": 5,
    "start_time": "2024-08-17T02:36:08.181Z"
   },
   {
    "duration": 162,
    "start_time": "2024-08-17T02:36:08.189Z"
   },
   {
    "duration": 15,
    "start_time": "2024-08-17T02:36:08.354Z"
   },
   {
    "duration": 5,
    "start_time": "2024-08-17T02:36:08.372Z"
   },
   {
    "duration": 22,
    "start_time": "2024-08-17T02:36:08.381Z"
   },
   {
    "duration": 11,
    "start_time": "2024-08-17T02:36:08.406Z"
   },
   {
    "duration": 735,
    "start_time": "2024-08-17T02:36:08.420Z"
   },
   {
    "duration": 264,
    "start_time": "2024-08-17T02:36:21.487Z"
   },
   {
    "duration": 262,
    "start_time": "2024-08-17T02:39:45.611Z"
   },
   {
    "duration": 328,
    "start_time": "2024-08-17T02:40:25.956Z"
   },
   {
    "duration": 1372,
    "start_time": "2024-08-17T02:40:36.280Z"
   },
   {
    "duration": 281,
    "start_time": "2024-08-17T02:40:44.962Z"
   },
   {
    "duration": 205,
    "start_time": "2024-08-17T02:41:28.775Z"
   },
   {
    "duration": 289,
    "start_time": "2024-08-17T02:41:54.874Z"
   },
   {
    "duration": 268,
    "start_time": "2024-08-17T02:42:05.067Z"
   },
   {
    "duration": 1441,
    "start_time": "2024-08-17T02:42:16.797Z"
   },
   {
    "duration": 57,
    "start_time": "2024-08-17T02:42:18.241Z"
   },
   {
    "duration": 18,
    "start_time": "2024-08-17T02:42:18.301Z"
   },
   {
    "duration": 7,
    "start_time": "2024-08-17T02:42:18.323Z"
   },
   {
    "duration": 50,
    "start_time": "2024-08-17T02:42:18.336Z"
   },
   {
    "duration": 14,
    "start_time": "2024-08-17T02:42:18.389Z"
   },
   {
    "duration": 8,
    "start_time": "2024-08-17T02:42:18.406Z"
   },
   {
    "duration": 66,
    "start_time": "2024-08-17T02:42:18.418Z"
   },
   {
    "duration": 13,
    "start_time": "2024-08-17T02:42:18.487Z"
   },
   {
    "duration": 20,
    "start_time": "2024-08-17T02:42:18.503Z"
   },
   {
    "duration": 44,
    "start_time": "2024-08-17T02:42:18.526Z"
   },
   {
    "duration": 17,
    "start_time": "2024-08-17T02:42:18.574Z"
   },
   {
    "duration": 563,
    "start_time": "2024-08-17T02:42:18.593Z"
   },
   {
    "duration": 16,
    "start_time": "2024-08-17T02:42:19.163Z"
   },
   {
    "duration": 108,
    "start_time": "2024-08-17T02:42:19.182Z"
   },
   {
    "duration": 20,
    "start_time": "2024-08-17T02:42:19.293Z"
   },
   {
    "duration": 14,
    "start_time": "2024-08-17T02:42:19.316Z"
   },
   {
    "duration": 107,
    "start_time": "2024-08-17T02:42:19.333Z"
   },
   {
    "duration": 695,
    "start_time": "2024-08-17T02:42:19.443Z"
   },
   {
    "duration": 13,
    "start_time": "2024-08-17T02:42:20.141Z"
   },
   {
    "duration": 22,
    "start_time": "2024-08-17T02:42:20.156Z"
   },
   {
    "duration": 227,
    "start_time": "2024-08-17T02:42:20.182Z"
   },
   {
    "duration": 5,
    "start_time": "2024-08-17T02:42:20.413Z"
   },
   {
    "duration": 4,
    "start_time": "2024-08-17T02:42:20.422Z"
   },
   {
    "duration": 88,
    "start_time": "2024-08-17T02:42:20.430Z"
   },
   {
    "duration": 19,
    "start_time": "2024-08-17T02:42:20.522Z"
   },
   {
    "duration": 85,
    "start_time": "2024-08-17T02:42:20.544Z"
   },
   {
    "duration": 286,
    "start_time": "2024-08-17T02:42:20.631Z"
   },
   {
    "duration": 20,
    "start_time": "2024-08-17T02:42:20.920Z"
   },
   {
    "duration": 27,
    "start_time": "2024-08-17T02:42:20.944Z"
   },
   {
    "duration": 5,
    "start_time": "2024-08-17T02:42:20.974Z"
   },
   {
    "duration": 7,
    "start_time": "2024-08-17T02:42:20.982Z"
   },
   {
    "duration": 7,
    "start_time": "2024-08-17T02:42:20.992Z"
   },
   {
    "duration": 5,
    "start_time": "2024-08-17T02:42:21.001Z"
   },
   {
    "duration": 181,
    "start_time": "2024-08-17T02:42:21.010Z"
   },
   {
    "duration": 9,
    "start_time": "2024-08-17T02:42:21.194Z"
   },
   {
    "duration": 5,
    "start_time": "2024-08-17T02:42:21.207Z"
   },
   {
    "duration": 60,
    "start_time": "2024-08-17T02:42:21.215Z"
   },
   {
    "duration": 11,
    "start_time": "2024-08-17T02:42:21.278Z"
   },
   {
    "duration": 750,
    "start_time": "2024-08-17T02:42:21.292Z"
   },
   {
    "duration": 265,
    "start_time": "2024-08-17T02:42:51.505Z"
   },
   {
    "duration": 1308,
    "start_time": "2024-08-17T02:44:12.703Z"
   },
   {
    "duration": 173,
    "start_time": "2024-08-17T02:44:28.116Z"
   },
   {
    "duration": 276,
    "start_time": "2024-08-17T02:44:46.134Z"
   },
   {
    "duration": 345,
    "start_time": "2024-08-17T02:45:19.999Z"
   },
   {
    "duration": 269,
    "start_time": "2024-08-17T02:45:49.933Z"
   },
   {
    "duration": 284,
    "start_time": "2024-08-17T02:46:34.552Z"
   },
   {
    "duration": 201,
    "start_time": "2024-08-17T02:47:13.642Z"
   },
   {
    "duration": 219,
    "start_time": "2024-08-17T02:49:58.682Z"
   },
   {
    "duration": 238,
    "start_time": "2024-08-17T02:51:28.607Z"
   },
   {
    "duration": 230,
    "start_time": "2024-08-17T02:52:07.443Z"
   },
   {
    "duration": 219,
    "start_time": "2024-08-17T02:52:11.507Z"
   },
   {
    "duration": 1583,
    "start_time": "2024-08-17T03:10:57.740Z"
   },
   {
    "duration": 57,
    "start_time": "2024-08-17T03:10:59.326Z"
   },
   {
    "duration": 25,
    "start_time": "2024-08-17T03:10:59.389Z"
   },
   {
    "duration": 8,
    "start_time": "2024-08-17T03:10:59.420Z"
   },
   {
    "duration": 44,
    "start_time": "2024-08-17T03:10:59.432Z"
   },
   {
    "duration": 15,
    "start_time": "2024-08-17T03:10:59.480Z"
   },
   {
    "duration": 9,
    "start_time": "2024-08-17T03:10:59.498Z"
   },
   {
    "duration": 62,
    "start_time": "2024-08-17T03:10:59.510Z"
   },
   {
    "duration": 13,
    "start_time": "2024-08-17T03:10:59.575Z"
   },
   {
    "duration": 28,
    "start_time": "2024-08-17T03:10:59.593Z"
   },
   {
    "duration": 55,
    "start_time": "2024-08-17T03:10:59.624Z"
   },
   {
    "duration": 17,
    "start_time": "2024-08-17T03:10:59.683Z"
   },
   {
    "duration": 589,
    "start_time": "2024-08-17T03:10:59.703Z"
   },
   {
    "duration": 15,
    "start_time": "2024-08-17T03:11:00.296Z"
   },
   {
    "duration": 94,
    "start_time": "2024-08-17T03:11:00.313Z"
   },
   {
    "duration": 65,
    "start_time": "2024-08-17T03:11:00.410Z"
   },
   {
    "duration": 17,
    "start_time": "2024-08-17T03:11:00.479Z"
   },
   {
    "duration": 274,
    "start_time": "2024-08-17T03:11:00.499Z"
   },
   {
    "duration": 722,
    "start_time": "2024-08-17T03:11:00.776Z"
   },
   {
    "duration": 14,
    "start_time": "2024-08-17T03:11:01.504Z"
   },
   {
    "duration": 19,
    "start_time": "2024-08-17T03:11:01.522Z"
   },
   {
    "duration": 237,
    "start_time": "2024-08-17T03:11:01.570Z"
   },
   {
    "duration": 5,
    "start_time": "2024-08-17T03:11:01.810Z"
   },
   {
    "duration": 78,
    "start_time": "2024-08-17T03:11:01.819Z"
   },
   {
    "duration": 19,
    "start_time": "2024-08-17T03:11:01.900Z"
   },
   {
    "duration": 320,
    "start_time": "2024-08-17T03:11:01.922Z"
   },
   {
    "duration": 32,
    "start_time": "2024-08-17T03:11:02.247Z"
   },
   {
    "duration": 8,
    "start_time": "2024-08-17T03:11:02.288Z"
   },
   {
    "duration": 5,
    "start_time": "2024-08-17T03:11:02.299Z"
   },
   {
    "duration": 7,
    "start_time": "2024-08-17T03:11:02.307Z"
   },
   {
    "duration": 6,
    "start_time": "2024-08-17T03:11:02.317Z"
   },
   {
    "duration": 46,
    "start_time": "2024-08-17T03:11:02.325Z"
   },
   {
    "duration": 153,
    "start_time": "2024-08-17T03:11:02.375Z"
   },
   {
    "duration": 9,
    "start_time": "2024-08-17T03:11:02.531Z"
   },
   {
    "duration": 26,
    "start_time": "2024-08-17T03:11:02.544Z"
   },
   {
    "duration": 25,
    "start_time": "2024-08-17T03:11:02.574Z"
   },
   {
    "duration": 13,
    "start_time": "2024-08-17T03:11:02.602Z"
   },
   {
    "duration": 837,
    "start_time": "2024-08-17T03:11:02.618Z"
   },
   {
    "duration": 292,
    "start_time": "2024-08-17T03:11:43.080Z"
   },
   {
    "duration": 1519,
    "start_time": "2024-08-17T03:11:51.092Z"
   },
   {
    "duration": 67,
    "start_time": "2024-08-17T03:11:52.616Z"
   },
   {
    "duration": 22,
    "start_time": "2024-08-17T03:11:52.686Z"
   },
   {
    "duration": 8,
    "start_time": "2024-08-17T03:11:52.714Z"
   },
   {
    "duration": 50,
    "start_time": "2024-08-17T03:11:52.725Z"
   },
   {
    "duration": 11,
    "start_time": "2024-08-17T03:11:52.777Z"
   },
   {
    "duration": 8,
    "start_time": "2024-08-17T03:11:52.791Z"
   },
   {
    "duration": 66,
    "start_time": "2024-08-17T03:11:52.802Z"
   },
   {
    "duration": 15,
    "start_time": "2024-08-17T03:11:52.872Z"
   },
   {
    "duration": 27,
    "start_time": "2024-08-17T03:11:52.894Z"
   },
   {
    "duration": 46,
    "start_time": "2024-08-17T03:11:52.926Z"
   },
   {
    "duration": 16,
    "start_time": "2024-08-17T03:11:52.976Z"
   },
   {
    "duration": 556,
    "start_time": "2024-08-17T03:11:52.996Z"
   },
   {
    "duration": 23,
    "start_time": "2024-08-17T03:11:53.556Z"
   },
   {
    "duration": 111,
    "start_time": "2024-08-17T03:11:53.583Z"
   },
   {
    "duration": 29,
    "start_time": "2024-08-17T03:11:53.700Z"
   },
   {
    "duration": 51,
    "start_time": "2024-08-17T03:11:53.734Z"
   },
   {
    "duration": 335,
    "start_time": "2024-08-17T03:11:53.789Z"
   },
   {
    "duration": 803,
    "start_time": "2024-08-17T03:11:54.129Z"
   },
   {
    "duration": 12,
    "start_time": "2024-08-17T03:11:54.935Z"
   },
   {
    "duration": 17,
    "start_time": "2024-08-17T03:11:54.967Z"
   },
   {
    "duration": 264,
    "start_time": "2024-08-17T03:11:54.990Z"
   },
   {
    "duration": 10,
    "start_time": "2024-08-17T03:11:55.259Z"
   },
   {
    "duration": 106,
    "start_time": "2024-08-17T03:11:55.274Z"
   },
   {
    "duration": 21,
    "start_time": "2024-08-17T03:11:55.384Z"
   },
   {
    "duration": 310,
    "start_time": "2024-08-17T03:11:55.408Z"
   },
   {
    "duration": 22,
    "start_time": "2024-08-17T03:11:55.722Z"
   },
   {
    "duration": 11,
    "start_time": "2024-08-17T03:11:55.779Z"
   },
   {
    "duration": 5,
    "start_time": "2024-08-17T03:11:55.793Z"
   },
   {
    "duration": 6,
    "start_time": "2024-08-17T03:11:55.801Z"
   },
   {
    "duration": 5,
    "start_time": "2024-08-17T03:11:55.810Z"
   },
   {
    "duration": 50,
    "start_time": "2024-08-17T03:11:55.818Z"
   },
   {
    "duration": 198,
    "start_time": "2024-08-17T03:11:55.872Z"
   },
   {
    "duration": 9,
    "start_time": "2024-08-17T03:11:56.073Z"
   },
   {
    "duration": 5,
    "start_time": "2024-08-17T03:11:56.086Z"
   },
   {
    "duration": 25,
    "start_time": "2024-08-17T03:11:56.094Z"
   },
   {
    "duration": 18,
    "start_time": "2024-08-17T03:11:56.170Z"
   },
   {
    "duration": 759,
    "start_time": "2024-08-17T03:11:56.191Z"
   },
   {
    "duration": 730,
    "start_time": "2024-08-17T03:12:31.349Z"
   },
   {
    "duration": 5292,
    "start_time": "2024-08-18T00:13:35.839Z"
   },
   {
    "duration": 60,
    "start_time": "2024-08-18T00:13:41.135Z"
   },
   {
    "duration": 20,
    "start_time": "2024-08-18T00:13:41.199Z"
   },
   {
    "duration": 8,
    "start_time": "2024-08-18T00:13:41.223Z"
   },
   {
    "duration": 18,
    "start_time": "2024-08-18T00:13:41.234Z"
   },
   {
    "duration": 11,
    "start_time": "2024-08-18T00:13:41.256Z"
   },
   {
    "duration": 8,
    "start_time": "2024-08-18T00:13:41.308Z"
   },
   {
    "duration": 26,
    "start_time": "2024-08-18T00:13:41.319Z"
   },
   {
    "duration": 12,
    "start_time": "2024-08-18T00:13:41.348Z"
   },
   {
    "duration": 21,
    "start_time": "2024-08-18T00:13:41.405Z"
   },
   {
    "duration": 13,
    "start_time": "2024-08-18T00:13:41.429Z"
   },
   {
    "duration": 16,
    "start_time": "2024-08-18T00:13:41.446Z"
   },
   {
    "duration": 605,
    "start_time": "2024-08-18T00:13:41.465Z"
   },
   {
    "duration": 16,
    "start_time": "2024-08-18T00:13:42.073Z"
   },
   {
    "duration": 104,
    "start_time": "2024-08-18T00:13:42.108Z"
   },
   {
    "duration": 20,
    "start_time": "2024-08-18T00:13:42.215Z"
   },
   {
    "duration": 15,
    "start_time": "2024-08-18T00:13:42.238Z"
   },
   {
    "duration": 296,
    "start_time": "2024-08-18T00:13:42.257Z"
   },
   {
    "duration": 710,
    "start_time": "2024-08-18T00:13:42.556Z"
   },
   {
    "duration": 13,
    "start_time": "2024-08-18T00:13:43.269Z"
   },
   {
    "duration": 33,
    "start_time": "2024-08-18T00:13:43.285Z"
   },
   {
    "duration": 246,
    "start_time": "2024-08-18T00:13:43.321Z"
   },
   {
    "duration": 5,
    "start_time": "2024-08-18T00:13:43.572Z"
   },
   {
    "duration": 66,
    "start_time": "2024-08-18T00:13:43.580Z"
   },
   {
    "duration": 20,
    "start_time": "2024-08-18T00:13:43.649Z"
   },
   {
    "duration": 320,
    "start_time": "2024-08-18T00:13:43.671Z"
   },
   {
    "duration": 33,
    "start_time": "2024-08-18T00:13:43.994Z"
   },
   {
    "duration": 9,
    "start_time": "2024-08-18T00:13:44.036Z"
   },
   {
    "duration": 6,
    "start_time": "2024-08-18T00:13:44.048Z"
   },
   {
    "duration": 5,
    "start_time": "2024-08-18T00:13:44.059Z"
   },
   {
    "duration": 7,
    "start_time": "2024-08-18T00:13:44.107Z"
   },
   {
    "duration": 5,
    "start_time": "2024-08-18T00:13:44.117Z"
   },
   {
    "duration": 87,
    "start_time": "2024-08-18T00:13:44.126Z"
   },
   {
    "duration": 8,
    "start_time": "2024-08-18T00:13:44.216Z"
   },
   {
    "duration": 5,
    "start_time": "2024-08-18T00:13:44.227Z"
   },
   {
    "duration": 24,
    "start_time": "2024-08-18T00:13:44.236Z"
   },
   {
    "duration": 53,
    "start_time": "2024-08-18T00:13:44.263Z"
   },
   {
    "duration": 717,
    "start_time": "2024-08-18T00:13:44.319Z"
   },
   {
    "duration": 158,
    "start_time": "2024-08-18T00:26:56.364Z"
   },
   {
    "duration": 54,
    "start_time": "2024-08-18T01:15:58.607Z"
   },
   {
    "duration": 18,
    "start_time": "2024-08-18T02:21:51.464Z"
   },
   {
    "duration": 56,
    "start_time": "2024-08-18T02:21:54.406Z"
   },
   {
    "duration": 649,
    "start_time": "2024-08-18T02:28:29.292Z"
   },
   {
    "duration": 753,
    "start_time": "2024-08-18T02:29:14.420Z"
   },
   {
    "duration": 681,
    "start_time": "2024-08-18T02:29:31.796Z"
   },
   {
    "duration": 744,
    "start_time": "2024-08-18T02:29:38.247Z"
   },
   {
    "duration": 698,
    "start_time": "2024-08-18T02:29:49.296Z"
   },
   {
    "duration": 855,
    "start_time": "2024-08-18T02:29:56.214Z"
   },
   {
    "duration": 714,
    "start_time": "2024-08-18T02:30:04.579Z"
   },
   {
    "duration": 683,
    "start_time": "2024-08-18T02:30:11.670Z"
   },
   {
    "duration": 735,
    "start_time": "2024-08-18T02:30:17.758Z"
   },
   {
    "duration": 721,
    "start_time": "2024-08-18T02:50:59.802Z"
   },
   {
    "duration": 1165,
    "start_time": "2024-08-18T03:16:19.989Z"
   },
   {
    "duration": 50,
    "start_time": "2024-08-18T03:17:01.611Z"
   },
   {
    "duration": 1384,
    "start_time": "2024-08-19T21:15:33.144Z"
   },
   {
    "duration": 52,
    "start_time": "2024-08-19T21:15:34.533Z"
   },
   {
    "duration": 17,
    "start_time": "2024-08-19T21:15:34.588Z"
   },
   {
    "duration": 21,
    "start_time": "2024-08-19T21:15:34.609Z"
   },
   {
    "duration": 16,
    "start_time": "2024-08-19T21:15:34.636Z"
   },
   {
    "duration": 11,
    "start_time": "2024-08-19T21:15:34.656Z"
   },
   {
    "duration": 8,
    "start_time": "2024-08-19T21:15:34.670Z"
   },
   {
    "duration": 62,
    "start_time": "2024-08-19T21:15:34.681Z"
   },
   {
    "duration": 12,
    "start_time": "2024-08-19T21:15:34.747Z"
   },
   {
    "duration": 18,
    "start_time": "2024-08-19T21:15:34.762Z"
   },
   {
    "duration": 45,
    "start_time": "2024-08-19T21:15:34.783Z"
   },
   {
    "duration": 16,
    "start_time": "2024-08-19T21:15:34.831Z"
   },
   {
    "duration": 553,
    "start_time": "2024-08-19T21:15:34.850Z"
   },
   {
    "duration": 34,
    "start_time": "2024-08-19T21:15:35.411Z"
   },
   {
    "duration": 119,
    "start_time": "2024-08-19T21:15:35.449Z"
   },
   {
    "duration": 54,
    "start_time": "2024-08-19T21:15:35.572Z"
   },
   {
    "duration": 15,
    "start_time": "2024-08-19T21:15:35.629Z"
   },
   {
    "duration": 271,
    "start_time": "2024-08-19T21:15:35.647Z"
   },
   {
    "duration": 50,
    "start_time": "2024-08-19T21:15:35.921Z"
   },
   {
    "duration": 717,
    "start_time": "2024-08-19T21:15:35.974Z"
   },
   {
    "duration": 13,
    "start_time": "2024-08-19T21:15:36.693Z"
   },
   {
    "duration": 28,
    "start_time": "2024-08-19T21:15:36.709Z"
   },
   {
    "duration": 224,
    "start_time": "2024-08-19T21:15:36.740Z"
   },
   {
    "duration": 4,
    "start_time": "2024-08-19T21:15:36.968Z"
   },
   {
    "duration": 71,
    "start_time": "2024-08-19T21:15:36.975Z"
   },
   {
    "duration": 24,
    "start_time": "2024-08-19T21:15:37.051Z"
   },
   {
    "duration": 300,
    "start_time": "2024-08-19T21:15:37.078Z"
   },
   {
    "duration": 21,
    "start_time": "2024-08-19T21:15:37.382Z"
   },
   {
    "duration": 8,
    "start_time": "2024-08-19T21:15:37.425Z"
   },
   {
    "duration": 5,
    "start_time": "2024-08-19T21:15:37.437Z"
   },
   {
    "duration": 6,
    "start_time": "2024-08-19T21:15:37.446Z"
   },
   {
    "duration": 6,
    "start_time": "2024-08-19T21:15:37.456Z"
   },
   {
    "duration": 8,
    "start_time": "2024-08-19T21:15:37.466Z"
   },
   {
    "duration": 190,
    "start_time": "2024-08-19T21:15:37.477Z"
   },
   {
    "duration": 9,
    "start_time": "2024-08-19T21:15:37.670Z"
   },
   {
    "duration": 4,
    "start_time": "2024-08-19T21:15:37.683Z"
   },
   {
    "duration": 56,
    "start_time": "2024-08-19T21:15:37.691Z"
   },
   {
    "duration": 11,
    "start_time": "2024-08-19T21:15:37.750Z"
   },
   {
    "duration": 719,
    "start_time": "2024-08-19T21:15:37.764Z"
   }
  ],
  "kernelspec": {
   "display_name": "base",
   "language": "python",
   "name": "python3"
  },
  "language_info": {
   "codemirror_mode": {
    "name": "ipython",
    "version": 3
   },
   "file_extension": ".py",
   "mimetype": "text/x-python",
   "name": "python",
   "nbconvert_exporter": "python",
   "pygments_lexer": "ipython3",
   "version": "3.11.7"
  },
  "toc": {
   "base_numbering": 1,
   "nav_menu": {},
   "number_sections": true,
   "sideBar": true,
   "skip_h1_title": true,
   "title_cell": "Table of Contents",
   "title_sidebar": "Contents",
   "toc_cell": false,
   "toc_position": {},
   "toc_section_display": true,
   "toc_window_display": false
  }
 },
 "nbformat": 4,
 "nbformat_minor": 2
}
